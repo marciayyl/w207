{
  "nbformat": 4,
  "nbformat_minor": 0,
  "metadata": {
    "kernelspec": {
      "display_name": "Python 3",
      "language": "python",
      "name": "python3"
    },
    "language_info": {
      "codemirror_mode": {
        "name": "ipython",
        "version": 3
      },
      "file_extension": ".py",
      "mimetype": "text/x-python",
      "name": "python",
      "nbconvert_exporter": "python",
      "pygments_lexer": "ipython3",
      "version": "3.7.4"
    },
    "toc": {
      "base_numbering": 1,
      "nav_menu": {},
      "number_sections": false,
      "sideBar": true,
      "skip_h1_title": true,
      "title_cell": "Table of Contents",
      "title_sidebar": "Contents",
      "toc_cell": false,
      "toc_position": {},
      "toc_section_display": true,
      "toc_window_display": false
    },
    "colab": {
      "name": "Marcia(Yiying)_Liu_project2 copy.ipynb",
      "provenance": [],
      "collapsed_sections": [],
      "include_colab_link": true
    }
  },
  "cells": [
    {
      "cell_type": "markdown",
      "metadata": {
        "id": "view-in-github",
        "colab_type": "text"
      },
      "source": [
        "<a href=\"https://colab.research.google.com/github/marciayyl/w207/blob/main/Marcia(Yiying)_Liu_project2.ipynb\" target=\"_parent\"><img src=\"https://colab.research.google.com/assets/colab-badge.svg\" alt=\"Open In Colab\"/></a>"
      ]
    },
    {
      "cell_type": "markdown",
      "metadata": {
        "id": "iNALzZOKTzOS"
      },
      "source": [
        "# Project 2: Digit Classification Naive Bayes\n",
        "\n",
        "**Solution**"
      ]
    },
    {
      "cell_type": "markdown",
      "metadata": {
        "id": "EBRkdIUUTzOV"
      },
      "source": [
        "# Intro\n",
        "---\n",
        "In this project, you'll continue working on your own image recognition system for classifying digits. Read through the code and the instructions carefully and add your own code where indicated. Each problem can be addressed succinctly with the included packages -- please don't add any more. \n",
        "As always, you're welcome to work on the project in groups and discuss ideas over Slack, but <b> please prepare your own write-up (with your own code). </b>\n",
        "\n",
        "\n",
        "## Grading\n",
        "---\n",
        " - Make sure to answer every part in every question.\n",
        " - There are 6 questions, each equally weighted and an additional bonus question.\n",
        " - The extra credit question will be graded based on your attempts at feature engineering and resulting improved accuracy.\n",
        " - Read carefully what is asked including the notes.\n",
        " - Additional points may be deducted if:\n",
        "   - the code is not clean, well commented,\n",
        "  -  if the functions or answers are too long.\n",
        "\n",
        "## Requirements:\n",
        "---\n",
        "1. Comment your code.\n",
        "1. All graphs should have titles, label for each axis, and if needed a legend. It should be understandable on its own.\n",
        "1. All code must run on colab.research.google.com\n",
        "1. You should not import any additional libraries.\n",
        "1. Try and minimize the use of the global namespace (meaning keep things in functions).\n",
        "\n",
        "## Additional Reading and notes\n",
        "---\n",
        "If you're interested, check out these links related to digit recognition:\n",
        "\n",
        "* Yann Lecun's MNIST benchmarks: http://yann.lecun.com/exdb/mnist/\n",
        "* Stanford Streetview research and data: http://ufldl.stanford.edu/housenumbers/\n",
        "\n",
        "Finally, if you'd like to get started with Tensorflow, you can read through this tutorial: https://www.tensorflow.org/tutorials/keras/basic_classification. It uses a dataset called \"fashion_mnist\", which is identical in structure to the original digit mnist, but uses images of clothing rather than images of digits. The number of training examples and number of labels is the same. In fact, you can simply replace the code that loads \"fashion_mnist\" with \"mnist\" and everything should work fine."
      ]
    },
    {
      "cell_type": "code",
      "metadata": {
        "id": "r8u7GmsDTzOX"
      },
      "source": [
        "# This tells matplotlib not to try opening a new window for each plot.\n",
        "%matplotlib inline\n",
        "\n",
        "# Import a bunch of libraries.\n",
        "import time\n",
        "import numpy as np\n",
        "import pandas as pd\n",
        "import matplotlib.pyplot as plt\n",
        "from matplotlib.ticker import MultipleLocator\n",
        "from sklearn.pipeline import Pipeline\n",
        "from sklearn.datasets import fetch_openml\n",
        "from sklearn.neighbors import KNeighborsClassifier\n",
        "from sklearn.metrics import confusion_matrix\n",
        "from sklearn.linear_model import LinearRegression\n",
        "from sklearn.naive_bayes import BernoulliNB\n",
        "from sklearn.naive_bayes import MultinomialNB\n",
        "from sklearn.naive_bayes import GaussianNB\n",
        "from sklearn.model_selection import GridSearchCV\n",
        "from sklearn.metrics import classification_report\n",
        "\n",
        "# Set the randomizer seed so results are the same each time.\n",
        "np.random.seed(0)"
      ],
      "execution_count": null,
      "outputs": []
    },
    {
      "cell_type": "code",
      "metadata": {
        "id": "bWOWoq_dTzOY",
        "colab": {
          "base_uri": "https://localhost:8080/",
          "height": 37
        },
        "outputId": "74285fe2-797a-4f8a-e405-12911f19c4f4"
      },
      "source": [
        "import sklearn\n",
        "sklearn.__version__"
      ],
      "execution_count": null,
      "outputs": [
        {
          "output_type": "execute_result",
          "data": {
            "application/vnd.google.colaboratory.intrinsic+json": {
              "type": "string"
            },
            "text/plain": [
              "'1.0.2'"
            ]
          },
          "metadata": {},
          "execution_count": 2
        }
      ]
    },
    {
      "cell_type": "markdown",
      "metadata": {
        "id": "J1-CAjA9TzOa"
      },
      "source": [
        "Load the data. Notice that the data gets partitioned into training, development, and test sets. Also, a small subset of the training data called mini_train_data and mini_train_labels gets defined, which you should use in all the experiments below, unless otherwise noted."
      ]
    },
    {
      "cell_type": "code",
      "metadata": {
        "id": "f9kPmCW0TzOb",
        "colab": {
          "base_uri": "https://localhost:8080/"
        },
        "outputId": "67f74e1a-c08a-408b-9f09-3820bcad3db7"
      },
      "source": [
        "# Load the digit data from https://www.openml.org/d/554 or from default local location '~/scikit_learn_data/...'\n",
        "X, Y = fetch_openml(name='mnist_784', as_frame=False, return_X_y=True, cache=False)\n",
        "print(type(X))\n",
        "print(X)\n",
        "print(type(Y))\n",
        "print(Y)\n",
        "# Rescale grayscale values to [0,1].\n",
        "X = X / 255.0\n",
        "# The higher value, more close to white\n",
        "\n",
        "# Shuffle the input: create a random permutation of the integers between 0 and the number of data points and apply this\n",
        "# permutation to X and Y.\n",
        "# NOTE: Each time you run this cell, you'll re-shuffle the data, resulting in a different ordering.\n",
        "\n",
        "shuffle = np.random.permutation(np.arange(X.shape[0]))\n",
        "X, Y = X[shuffle], Y[shuffle]\n",
        "\n",
        "print('data shape: ', X.shape)\n",
        "print('label shape:', Y.shape)\n",
        "\n",
        "# Set some variables to hold test, dev, and training data.\n",
        "test_data, test_labels = X[61000:], Y[61000:]\n",
        "dev_data, dev_labels = X[60000:61000], Y[60000:61000]\n",
        "train_data, train_labels = X[:60000], Y[:60000]\n",
        "mini_train_data, mini_train_labels = X[:1000], Y[:1000]"
      ],
      "execution_count": null,
      "outputs": [
        {
          "output_type": "stream",
          "name": "stdout",
          "text": [
            "<class 'numpy.ndarray'>\n",
            "[[0. 0. 0. ... 0. 0. 0.]\n",
            " [0. 0. 0. ... 0. 0. 0.]\n",
            " [0. 0. 0. ... 0. 0. 0.]\n",
            " ...\n",
            " [0. 0. 0. ... 0. 0. 0.]\n",
            " [0. 0. 0. ... 0. 0. 0.]\n",
            " [0. 0. 0. ... 0. 0. 0.]]\n",
            "<class 'numpy.ndarray'>\n",
            "['5' '0' '4' ... '4' '5' '6']\n",
            "data shape:  (70000, 784)\n",
            "label shape: (70000,)\n"
          ]
        }
      ]
    },
    {
      "cell_type": "markdown",
      "metadata": {
        "id": "gr40-NstTzOl"
      },
      "source": [
        "### Question 1: Applying a smoothing using numpy.\n",
        "---\n",
        "\n",
        "A common image processing technique is to smooth an image by **blurring**. The idea is that the value of a particular pixel is estimated as the weighted combination of the original value and the values around it. Typically, the blurring is Gaussian, i.e., the weight of a pixel's influence is determined by a Gaussian function over the distance to the relevant pixel.\n",
        "\n",
        "1. Implement a simplified Gaussian blur filter by just using the 8 neighboring pixels like this: the smoothed value of a pixel is a weighted combination of the original value and the 8 neighboring values.\n",
        "1. Choose some weights as a starting point. Produce and evaluate four 1-Nearest Neighbor models by applying your blur filter in these ways:\n",
        "  1. Do not use the filter\n",
        "  1. Filter the training data but not the dev data\n",
        "  1. Filter the dev data but not the training data\n",
        "  1. Filter both training data and dev data\n",
        "1. Show the accuracies of the four models evaluated as described. What do you see? Can you explain why this is?\n",
        "1. Experiment with weights that makes one model's accuracy at least 0.9.\n",
        "\n",
        "Notes:\n",
        "* Train on the (filtered) mini train set.\n",
        "* Evaluate performance on the (filtered) dev set.\n",
        "* A good trick to simplify your code is to use numpy's pad function to add 0s around your original array so you don't have to deal with \"edge cases\".\n",
        "* In addition, you can use numpy to multiply and sum slices of two arrays.\n",
        "* [This notebook](https://colab.research.google.com/drive/1eJXTQLtREXQjQIsLOA9uCrBl6B049-pO) might help shows some example numpy code.\n",
        "* In general, [numpy operations will be much faster than for loops](https://colab.research.google.com/drive/1KJI4JtuIqVdyZHTTe_mAlKYA5XdLFp3_). \n",
        "* There are other Guassian blur filters available, for example in `scipy.ndimage.filters`. You are welcome to experiment with those, but in this question, please implement your own."
      ]
    },
    {
      "cell_type": "code",
      "metadata": {
        "id": "ebHGUU0eTzOl",
        "colab": {
          "base_uri": "https://localhost:8080/"
        },
        "outputId": "069f8d2b-380a-4c12-9166-db3c2425d272"
      },
      "source": [
        "from math import pi, sqrt, exp\n",
        "\n",
        "# global direction matrix\n",
        "dir = np.array([[[-1,-1], [0,-1], [1,-1]], [[-1,0], [0,0], [1,0]], [[-1,1], [0,1], [1,1]]])\n",
        "print(dir)\n",
        "print(dir[0][1][0])\n",
        "\n",
        "def gaussian_kernel(size=3, sigma=1):\n",
        "  kernel = np.zeros(shape=(size, size), dtype=np.float)\n",
        "  radius = size//2\n",
        "  for y in range(-radius, radius + 1):  # [-r, r]\n",
        "      for x in range(-radius, radius + 1):\n",
        "          v = 1.0 / (2 * np.pi * sigma ** 2) * np.exp(-1.0 / (2 * sigma ** 2) * (x ** 2 + y ** 2))\n",
        "          kernel[y + radius, x + radius] = v\n",
        "  kernel2 = kernel / np.sum(kernel)\n",
        "  return kernel2\n",
        "\n",
        "weighted = gaussian_kernel()\n",
        "print(weighted)\n",
        "\n",
        "def new_pixel(img, x, y):\n",
        "  sum = 0\n",
        "  if x == 0 or y == 0 or x == 27 or y ==27:\n",
        "    return 0\n",
        "  \n",
        "  for i in range(3):\n",
        "    for j in range(3):\n",
        "      cur = weighted[i][j] * img[x+dir[i][j][0]][y+dir[i][j][1]]\n",
        "      sum += cur\n",
        "  if sum < 0:\n",
        "    sum = 0\n",
        "  elif sum > 1:\n",
        "    sum = 1\n",
        "  return sum\n",
        "\n",
        "def new_img(reshaped):\n",
        "  d = np.zeros((28,28))\n",
        "  for i in range(28):\n",
        "    for j in range(28):\n",
        "        d[i][j] = new_pixel(reshaped, i, j)\n",
        "  return d\n",
        "\n",
        "def Q1(data):\n",
        "### STUDENT START ###\n",
        "  print(type(data))\n",
        "  final = np.zeros(data.shape)\n",
        "  print(data.shape[0])\n",
        "  for i in range(data.shape[0]):\n",
        "    # print(item)\n",
        "    a_reshape = np.reshape(data[i], (dim, dim))\n",
        "    # print(a_reshape)\n",
        "    final[i] = np.reshape(new_img(a_reshape), (1, 784))\n",
        "    # print(a_reshape)\n",
        "  return final\n",
        "### STUDENT END ###\n",
        "\n",
        "# # Filter dev_data\n",
        "# filter_train_data = Q1(train_data)\n",
        "# # Filter dev_data\n",
        "# filter_dev_data = Q1(dev_data)"
      ],
      "execution_count": null,
      "outputs": [
        {
          "output_type": "stream",
          "name": "stdout",
          "text": [
            "[[[-1 -1]\n",
            "  [ 0 -1]\n",
            "  [ 1 -1]]\n",
            "\n",
            " [[-1  0]\n",
            "  [ 0  0]\n",
            "  [ 1  0]]\n",
            "\n",
            " [[-1  1]\n",
            "  [ 0  1]\n",
            "  [ 1  1]]]\n",
            "0\n",
            "[[0.07511361 0.1238414  0.07511361]\n",
            " [0.1238414  0.20417996 0.1238414 ]\n",
            " [0.07511361 0.1238414  0.07511361]]\n"
          ]
        }
      ]
    },
    {
      "cell_type": "code",
      "source": [
        "train_data_0k = train_data[:10000]\n",
        "blurred_train_data_0k = Q1(train_data_0k)"
      ],
      "metadata": {
        "colab": {
          "base_uri": "https://localhost:8080/"
        },
        "id": "UcH5uwCacxnk",
        "outputId": "402ba8af-6dc6-4ca9-8e46-757d1ff3a58e"
      },
      "execution_count": null,
      "outputs": [
        {
          "output_type": "stream",
          "name": "stdout",
          "text": [
            "<class 'numpy.ndarray'>\n",
            "10000\n"
          ]
        }
      ]
    },
    {
      "cell_type": "code",
      "source": [
        "train_data_1k = train_data[10000:20000]\n",
        "blurred_train_data_1k = Q1(train_data_1k)"
      ],
      "metadata": {
        "colab": {
          "base_uri": "https://localhost:8080/"
        },
        "id": "3nho6Nc5ekTM",
        "outputId": "d780fba9-5469-470f-bf7a-86b7db8324e4"
      },
      "execution_count": null,
      "outputs": [
        {
          "output_type": "stream",
          "name": "stdout",
          "text": [
            "<class 'numpy.ndarray'>\n",
            "10000\n"
          ]
        }
      ]
    },
    {
      "cell_type": "code",
      "source": [
        "train_data_2k = train_data[20000:30000]\n",
        "blurred_train_data_2k = Q1(train_data_2k)"
      ],
      "metadata": {
        "colab": {
          "base_uri": "https://localhost:8080/"
        },
        "id": "ClELLL0jelbl",
        "outputId": "4f527a81-5d95-416c-be43-1f74d7792306"
      },
      "execution_count": null,
      "outputs": [
        {
          "output_type": "stream",
          "name": "stdout",
          "text": [
            "<class 'numpy.ndarray'>\n",
            "10000\n"
          ]
        }
      ]
    },
    {
      "cell_type": "code",
      "source": [
        "train_data_3k = train_data[30000:40000]\n",
        "blurred_train_data_3k = Q1(train_data_3k)"
      ],
      "metadata": {
        "colab": {
          "base_uri": "https://localhost:8080/"
        },
        "id": "n_lBmRGweqeg",
        "outputId": "1ed39e5e-c349-4569-874d-05cc12b097c3"
      },
      "execution_count": null,
      "outputs": [
        {
          "output_type": "stream",
          "name": "stdout",
          "text": [
            "<class 'numpy.ndarray'>\n",
            "10000\n"
          ]
        }
      ]
    },
    {
      "cell_type": "code",
      "source": [
        "train_data_4k = train_data[40000:50000]\n",
        "blurred_train_data_4k = Q1(train_data_4k)"
      ],
      "metadata": {
        "colab": {
          "base_uri": "https://localhost:8080/"
        },
        "id": "M8TDfKUnetCW",
        "outputId": "d6808452-f0b1-476f-ab99-ece0ac3e2ae9"
      },
      "execution_count": null,
      "outputs": [
        {
          "output_type": "stream",
          "name": "stdout",
          "text": [
            "<class 'numpy.ndarray'>\n",
            "10000\n"
          ]
        }
      ]
    },
    {
      "cell_type": "code",
      "source": [
        "train_data_5k = train_data[50000:60000]\n",
        "blurred_train_data_5k = Q1(train_data_5k)"
      ],
      "metadata": {
        "colab": {
          "base_uri": "https://localhost:8080/"
        },
        "id": "yWBIrwI3evCc",
        "outputId": "acf32d0d-622b-4fdf-c63b-4ec43e518296"
      },
      "execution_count": null,
      "outputs": [
        {
          "output_type": "stream",
          "name": "stdout",
          "text": [
            "<class 'numpy.ndarray'>\n",
            "10000\n"
          ]
        }
      ]
    },
    {
      "cell_type": "code",
      "source": [
        "blurred_dev_data = Q1(dev_data)"
      ],
      "metadata": {
        "colab": {
          "base_uri": "https://localhost:8080/"
        },
        "id": "6DuefyAAex7V",
        "outputId": "1572a7b0-10fe-42ba-c775-8a1f3c573cc2"
      },
      "execution_count": null,
      "outputs": [
        {
          "output_type": "stream",
          "name": "stdout",
          "text": [
            "<class 'numpy.ndarray'>\n",
            "1000\n"
          ]
        }
      ]
    },
    {
      "cell_type": "code",
      "source": [
        "blurred_train_data = (\n",
        "    blurred_train_data_0k \n",
        "    + blurred_train_data_1k\n",
        "    + blurred_train_data_2k\n",
        "    + blurred_train_data_3k\n",
        "    + blurred_train_data_4k\n",
        "    + blurred_train_data_5k\n",
        ")"
      ],
      "metadata": {
        "id": "H1lRp3KIdDFx"
      },
      "execution_count": null,
      "outputs": []
    },
    {
      "cell_type": "code",
      "source": [
        "from sklearn.metrics import accuracy_score\n",
        "def train_k_nearest_neighbors(k,train_data,train_labels):\n",
        "\n",
        "    knn = KNeighborsClassifier(n_neighbors = k)\n",
        "    knn.fit(train_data, train_labels)\n",
        "    \n",
        "    return knn\n",
        "    \n",
        "def get_accuracy():\n",
        "    k = 1\n",
        "    neigh_blurred_train = train_k_nearest_neighbors(k, blurred_train_data, train_labels)\n",
        "    neigh_unblurred_train = train_k_nearest_neighbors(k, train_data, train_labels)\n",
        "    \n",
        "    predicted_blurred_train_unblurred_dev = (\n",
        "        neigh_blurred_train.predict(dev_data)\n",
        "    )\n",
        "    \n",
        "    predicted_unblurred_train_blurred_dev = (\n",
        "        neigh_unblurred_train.predict(blurred_dev_data)\n",
        "    )\n",
        "    \n",
        "    predicted_blurred_train_blurred_dev = (\n",
        "        neigh_blurred_train.predict(blurred_dev_data)\n",
        "    )\n",
        "    \n",
        "    print(\"Accuracy for blurred training, unblurred dev:\")\n",
        "    print(accuracy_score(\n",
        "            dev_labels, predicted_blurred_train_unblurred_dev, normalize = True))\n",
        "    \n",
        "    print(\"Accuracy for unblurred training, blurred dev:\")\n",
        "    print(accuracy_score(\n",
        "            dev_labels, predicted_unblurred_train_blurred_dev, normalize = True))\n",
        "    \n",
        "    print(\"Accuracy for blurred training, blurred dev:\")\n",
        "    print(accuracy_score(\n",
        "            dev_labels, predicted_blurred_train_blurred_dev, normalize = True))\n",
        "\n",
        "get_accuracy()"
      ],
      "metadata": {
        "colab": {
          "base_uri": "https://localhost:8080/",
          "height": 341
        },
        "id": "q3bRI9bWdKdb",
        "outputId": "5148ef2c-d50a-466a-c636-f31a335c8786"
      },
      "execution_count": null,
      "outputs": [
        {
          "output_type": "error",
          "ename": "ValueError",
          "evalue": "ignored",
          "traceback": [
            "\u001b[0;31m---------------------------------------------------------------------------\u001b[0m",
            "\u001b[0;31mValueError\u001b[0m                                Traceback (most recent call last)",
            "\u001b[0;32m<ipython-input-27-a54582db0d48>\u001b[0m in \u001b[0;36m<module>\u001b[0;34m()\u001b[0m\n\u001b[1;32m     36\u001b[0m             dev_labels, predicted_blurred_train_blurred_dev, normalize = True))\n\u001b[1;32m     37\u001b[0m \u001b[0;34m\u001b[0m\u001b[0m\n\u001b[0;32m---> 38\u001b[0;31m \u001b[0mget_accuracy\u001b[0m\u001b[0;34m(\u001b[0m\u001b[0;34m)\u001b[0m\u001b[0;34m\u001b[0m\u001b[0;34m\u001b[0m\u001b[0m\n\u001b[0m",
            "\u001b[0;32m<ipython-input-27-a54582db0d48>\u001b[0m in \u001b[0;36mget_accuracy\u001b[0;34m()\u001b[0m\n\u001b[1;32m      9\u001b[0m \u001b[0;32mdef\u001b[0m \u001b[0mget_accuracy\u001b[0m\u001b[0;34m(\u001b[0m\u001b[0;34m)\u001b[0m\u001b[0;34m:\u001b[0m\u001b[0;34m\u001b[0m\u001b[0;34m\u001b[0m\u001b[0m\n\u001b[1;32m     10\u001b[0m     \u001b[0mk\u001b[0m \u001b[0;34m=\u001b[0m \u001b[0;36m1\u001b[0m\u001b[0;34m\u001b[0m\u001b[0;34m\u001b[0m\u001b[0m\n\u001b[0;32m---> 11\u001b[0;31m     \u001b[0mneigh_blurred_train\u001b[0m \u001b[0;34m=\u001b[0m \u001b[0mtrain_k_nearest_neighbors\u001b[0m\u001b[0;34m(\u001b[0m\u001b[0mk\u001b[0m\u001b[0;34m,\u001b[0m \u001b[0mblurred_train_data\u001b[0m\u001b[0;34m,\u001b[0m \u001b[0mtrain_labels\u001b[0m\u001b[0;34m)\u001b[0m\u001b[0;34m\u001b[0m\u001b[0;34m\u001b[0m\u001b[0m\n\u001b[0m\u001b[1;32m     12\u001b[0m     \u001b[0mneigh_unblurred_train\u001b[0m \u001b[0;34m=\u001b[0m \u001b[0mtrain_k_nearest_neighbors\u001b[0m\u001b[0;34m(\u001b[0m\u001b[0mk\u001b[0m\u001b[0;34m,\u001b[0m \u001b[0mtrain_data\u001b[0m\u001b[0;34m,\u001b[0m \u001b[0mtrain_labels\u001b[0m\u001b[0;34m)\u001b[0m\u001b[0;34m\u001b[0m\u001b[0;34m\u001b[0m\u001b[0m\n\u001b[1;32m     13\u001b[0m \u001b[0;34m\u001b[0m\u001b[0m\n",
            "\u001b[0;32m<ipython-input-27-a54582db0d48>\u001b[0m in \u001b[0;36mtrain_k_nearest_neighbors\u001b[0;34m(k, train_data, train_labels)\u001b[0m\n\u001b[1;32m      3\u001b[0m \u001b[0;34m\u001b[0m\u001b[0m\n\u001b[1;32m      4\u001b[0m     \u001b[0mknn\u001b[0m \u001b[0;34m=\u001b[0m \u001b[0mKNeighborsClassifier\u001b[0m\u001b[0;34m(\u001b[0m\u001b[0mn_neighbors\u001b[0m \u001b[0;34m=\u001b[0m \u001b[0mk\u001b[0m\u001b[0;34m)\u001b[0m\u001b[0;34m\u001b[0m\u001b[0;34m\u001b[0m\u001b[0m\n\u001b[0;32m----> 5\u001b[0;31m     \u001b[0mknn\u001b[0m\u001b[0;34m.\u001b[0m\u001b[0mfit\u001b[0m\u001b[0;34m(\u001b[0m\u001b[0mtrain_data\u001b[0m\u001b[0;34m,\u001b[0m \u001b[0mtrain_labels\u001b[0m\u001b[0;34m)\u001b[0m\u001b[0;34m\u001b[0m\u001b[0;34m\u001b[0m\u001b[0m\n\u001b[0m\u001b[1;32m      6\u001b[0m \u001b[0;34m\u001b[0m\u001b[0m\n\u001b[1;32m      7\u001b[0m     \u001b[0;32mreturn\u001b[0m \u001b[0mknn\u001b[0m\u001b[0;34m\u001b[0m\u001b[0;34m\u001b[0m\u001b[0m\n",
            "\u001b[0;32m/usr/local/lib/python3.7/dist-packages/sklearn/neighbors/_classification.py\u001b[0m in \u001b[0;36mfit\u001b[0;34m(self, X, y)\u001b[0m\n\u001b[1;32m    196\u001b[0m         \u001b[0mself\u001b[0m\u001b[0;34m.\u001b[0m\u001b[0mweights\u001b[0m \u001b[0;34m=\u001b[0m \u001b[0m_check_weights\u001b[0m\u001b[0;34m(\u001b[0m\u001b[0mself\u001b[0m\u001b[0;34m.\u001b[0m\u001b[0mweights\u001b[0m\u001b[0;34m)\u001b[0m\u001b[0;34m\u001b[0m\u001b[0;34m\u001b[0m\u001b[0m\n\u001b[1;32m    197\u001b[0m \u001b[0;34m\u001b[0m\u001b[0m\n\u001b[0;32m--> 198\u001b[0;31m         \u001b[0;32mreturn\u001b[0m \u001b[0mself\u001b[0m\u001b[0;34m.\u001b[0m\u001b[0m_fit\u001b[0m\u001b[0;34m(\u001b[0m\u001b[0mX\u001b[0m\u001b[0;34m,\u001b[0m \u001b[0my\u001b[0m\u001b[0;34m)\u001b[0m\u001b[0;34m\u001b[0m\u001b[0;34m\u001b[0m\u001b[0m\n\u001b[0m\u001b[1;32m    199\u001b[0m \u001b[0;34m\u001b[0m\u001b[0m\n\u001b[1;32m    200\u001b[0m     \u001b[0;32mdef\u001b[0m \u001b[0mpredict\u001b[0m\u001b[0;34m(\u001b[0m\u001b[0mself\u001b[0m\u001b[0;34m,\u001b[0m \u001b[0mX\u001b[0m\u001b[0;34m)\u001b[0m\u001b[0;34m:\u001b[0m\u001b[0;34m\u001b[0m\u001b[0;34m\u001b[0m\u001b[0m\n",
            "\u001b[0;32m/usr/local/lib/python3.7/dist-packages/sklearn/neighbors/_base.py\u001b[0m in \u001b[0;36m_fit\u001b[0;34m(self, X, y)\u001b[0m\n\u001b[1;32m    398\u001b[0m         \u001b[0;32mif\u001b[0m \u001b[0mself\u001b[0m\u001b[0;34m.\u001b[0m\u001b[0m_get_tags\u001b[0m\u001b[0;34m(\u001b[0m\u001b[0;34m)\u001b[0m\u001b[0;34m[\u001b[0m\u001b[0;34m\"requires_y\"\u001b[0m\u001b[0;34m]\u001b[0m\u001b[0;34m:\u001b[0m\u001b[0;34m\u001b[0m\u001b[0;34m\u001b[0m\u001b[0m\n\u001b[1;32m    399\u001b[0m             \u001b[0;32mif\u001b[0m \u001b[0;32mnot\u001b[0m \u001b[0misinstance\u001b[0m\u001b[0;34m(\u001b[0m\u001b[0mX\u001b[0m\u001b[0;34m,\u001b[0m \u001b[0;34m(\u001b[0m\u001b[0mKDTree\u001b[0m\u001b[0;34m,\u001b[0m \u001b[0mBallTree\u001b[0m\u001b[0;34m,\u001b[0m \u001b[0mNeighborsBase\u001b[0m\u001b[0;34m)\u001b[0m\u001b[0;34m)\u001b[0m\u001b[0;34m:\u001b[0m\u001b[0;34m\u001b[0m\u001b[0;34m\u001b[0m\u001b[0m\n\u001b[0;32m--> 400\u001b[0;31m                 \u001b[0mX\u001b[0m\u001b[0;34m,\u001b[0m \u001b[0my\u001b[0m \u001b[0;34m=\u001b[0m \u001b[0mself\u001b[0m\u001b[0;34m.\u001b[0m\u001b[0m_validate_data\u001b[0m\u001b[0;34m(\u001b[0m\u001b[0mX\u001b[0m\u001b[0;34m,\u001b[0m \u001b[0my\u001b[0m\u001b[0;34m,\u001b[0m \u001b[0maccept_sparse\u001b[0m\u001b[0;34m=\u001b[0m\u001b[0;34m\"csr\"\u001b[0m\u001b[0;34m,\u001b[0m \u001b[0mmulti_output\u001b[0m\u001b[0;34m=\u001b[0m\u001b[0;32mTrue\u001b[0m\u001b[0;34m)\u001b[0m\u001b[0;34m\u001b[0m\u001b[0;34m\u001b[0m\u001b[0m\n\u001b[0m\u001b[1;32m    401\u001b[0m \u001b[0;34m\u001b[0m\u001b[0m\n\u001b[1;32m    402\u001b[0m             \u001b[0;32mif\u001b[0m \u001b[0mis_classifier\u001b[0m\u001b[0;34m(\u001b[0m\u001b[0mself\u001b[0m\u001b[0;34m)\u001b[0m\u001b[0;34m:\u001b[0m\u001b[0;34m\u001b[0m\u001b[0;34m\u001b[0m\u001b[0m\n",
            "\u001b[0;32m/usr/local/lib/python3.7/dist-packages/sklearn/base.py\u001b[0m in \u001b[0;36m_validate_data\u001b[0;34m(self, X, y, reset, validate_separately, **check_params)\u001b[0m\n\u001b[1;32m    579\u001b[0m                 \u001b[0my\u001b[0m \u001b[0;34m=\u001b[0m \u001b[0mcheck_array\u001b[0m\u001b[0;34m(\u001b[0m\u001b[0my\u001b[0m\u001b[0;34m,\u001b[0m \u001b[0;34m**\u001b[0m\u001b[0mcheck_y_params\u001b[0m\u001b[0;34m)\u001b[0m\u001b[0;34m\u001b[0m\u001b[0;34m\u001b[0m\u001b[0m\n\u001b[1;32m    580\u001b[0m             \u001b[0;32melse\u001b[0m\u001b[0;34m:\u001b[0m\u001b[0;34m\u001b[0m\u001b[0;34m\u001b[0m\u001b[0m\n\u001b[0;32m--> 581\u001b[0;31m                 \u001b[0mX\u001b[0m\u001b[0;34m,\u001b[0m \u001b[0my\u001b[0m \u001b[0;34m=\u001b[0m \u001b[0mcheck_X_y\u001b[0m\u001b[0;34m(\u001b[0m\u001b[0mX\u001b[0m\u001b[0;34m,\u001b[0m \u001b[0my\u001b[0m\u001b[0;34m,\u001b[0m \u001b[0;34m**\u001b[0m\u001b[0mcheck_params\u001b[0m\u001b[0;34m)\u001b[0m\u001b[0;34m\u001b[0m\u001b[0;34m\u001b[0m\u001b[0m\n\u001b[0m\u001b[1;32m    582\u001b[0m             \u001b[0mout\u001b[0m \u001b[0;34m=\u001b[0m \u001b[0mX\u001b[0m\u001b[0;34m,\u001b[0m \u001b[0my\u001b[0m\u001b[0;34m\u001b[0m\u001b[0;34m\u001b[0m\u001b[0m\n\u001b[1;32m    583\u001b[0m \u001b[0;34m\u001b[0m\u001b[0m\n",
            "\u001b[0;32m/usr/local/lib/python3.7/dist-packages/sklearn/utils/validation.py\u001b[0m in \u001b[0;36mcheck_X_y\u001b[0;34m(X, y, accept_sparse, accept_large_sparse, dtype, order, copy, force_all_finite, ensure_2d, allow_nd, multi_output, ensure_min_samples, ensure_min_features, y_numeric, estimator)\u001b[0m\n\u001b[1;32m    979\u001b[0m     \u001b[0my\u001b[0m \u001b[0;34m=\u001b[0m \u001b[0m_check_y\u001b[0m\u001b[0;34m(\u001b[0m\u001b[0my\u001b[0m\u001b[0;34m,\u001b[0m \u001b[0mmulti_output\u001b[0m\u001b[0;34m=\u001b[0m\u001b[0mmulti_output\u001b[0m\u001b[0;34m,\u001b[0m \u001b[0my_numeric\u001b[0m\u001b[0;34m=\u001b[0m\u001b[0my_numeric\u001b[0m\u001b[0;34m)\u001b[0m\u001b[0;34m\u001b[0m\u001b[0;34m\u001b[0m\u001b[0m\n\u001b[1;32m    980\u001b[0m \u001b[0;34m\u001b[0m\u001b[0m\n\u001b[0;32m--> 981\u001b[0;31m     \u001b[0mcheck_consistent_length\u001b[0m\u001b[0;34m(\u001b[0m\u001b[0mX\u001b[0m\u001b[0;34m,\u001b[0m \u001b[0my\u001b[0m\u001b[0;34m)\u001b[0m\u001b[0;34m\u001b[0m\u001b[0;34m\u001b[0m\u001b[0m\n\u001b[0m\u001b[1;32m    982\u001b[0m \u001b[0;34m\u001b[0m\u001b[0m\n\u001b[1;32m    983\u001b[0m     \u001b[0;32mreturn\u001b[0m \u001b[0mX\u001b[0m\u001b[0;34m,\u001b[0m \u001b[0my\u001b[0m\u001b[0;34m\u001b[0m\u001b[0;34m\u001b[0m\u001b[0m\n",
            "\u001b[0;32m/usr/local/lib/python3.7/dist-packages/sklearn/utils/validation.py\u001b[0m in \u001b[0;36mcheck_consistent_length\u001b[0;34m(*arrays)\u001b[0m\n\u001b[1;32m    332\u001b[0m         raise ValueError(\n\u001b[1;32m    333\u001b[0m             \u001b[0;34m\"Found input variables with inconsistent numbers of samples: %r\"\u001b[0m\u001b[0;34m\u001b[0m\u001b[0;34m\u001b[0m\u001b[0m\n\u001b[0;32m--> 334\u001b[0;31m             \u001b[0;34m%\u001b[0m \u001b[0;34m[\u001b[0m\u001b[0mint\u001b[0m\u001b[0;34m(\u001b[0m\u001b[0ml\u001b[0m\u001b[0;34m)\u001b[0m \u001b[0;32mfor\u001b[0m \u001b[0ml\u001b[0m \u001b[0;32min\u001b[0m \u001b[0mlengths\u001b[0m\u001b[0;34m]\u001b[0m\u001b[0;34m\u001b[0m\u001b[0;34m\u001b[0m\u001b[0m\n\u001b[0m\u001b[1;32m    335\u001b[0m         )\n\u001b[1;32m    336\u001b[0m \u001b[0;34m\u001b[0m\u001b[0m\n",
            "\u001b[0;31mValueError\u001b[0m: Found input variables with inconsistent numbers of samples: [10000, 60000]"
          ]
        }
      ]
    },
    {
      "cell_type": "code",
      "source": [
        "import itertools\n",
        "def example_as_pixel_matrix(example):\n",
        "    return np.reshape(example, (-1, 28))\n",
        "\n",
        "# blur():\n",
        "#   blurs an image by averaging adjacent pixels\n",
        "def blur(image):\n",
        "    pixel_matrix = example_as_pixel_matrix(image)\n",
        "    blurred_image = []\n",
        "    rows, columns = np.shape(pixel_matrix)\n",
        "    \n",
        "    for row in range(rows):\n",
        "        for column in range(columns):\n",
        "            # take the mean of the 9-pixel neighborhood (in clause)\n",
        "            # but guard against running off the edges of the matrix (if clause)\n",
        "            value = np.mean(list( \n",
        "                pixel_matrix[i][j] \n",
        "                for i, j\n",
        "                in itertools.product(\n",
        "                    range(row - 1, row + 2), \n",
        "                    range(column - 1, column + 2)\n",
        "                )\n",
        "                if (i >= 0) and (j >= 0) and (i < rows) and (j < columns)\n",
        "            ))\n",
        "            \n",
        "            blurred_image.append(value)\n",
        "    \n",
        "    return blurred_image\n",
        "\n",
        "# blur_images():\n",
        "#   blurs a collection of images\n",
        "def blur_images(images): \n",
        "    blurred = [ blur(image) for image in images ]\n",
        "    return blurred"
      ],
      "metadata": {
        "id": "9NxuIPqjEt9K"
      },
      "execution_count": null,
      "outputs": []
    },
    {
      "cell_type": "code",
      "source": [
        "train_data_0k = train_data[:10000]\n",
        "blurred_train_data_0k = blur_images(train_data_0k)"
      ],
      "metadata": {
        "id": "DyxKXloKFKr6"
      },
      "execution_count": null,
      "outputs": []
    },
    {
      "cell_type": "code",
      "source": [
        "train_data_1k = train_data[10000:20000]\n",
        "blurred_train_data_1k = blur_images(train_data_1k)"
      ],
      "metadata": {
        "id": "ybdBD9HFL8ui"
      },
      "execution_count": null,
      "outputs": []
    },
    {
      "cell_type": "code",
      "source": [
        "train_data_2k = train_data[20000:30000]\n",
        "blurred_train_data_2k = blur_images(train_data_2k)"
      ],
      "metadata": {
        "id": "1flmgWN8GEos"
      },
      "execution_count": null,
      "outputs": []
    },
    {
      "cell_type": "code",
      "source": [
        "train_data_3k = train_data[30000:40000]\n",
        "blurred_train_data_3k = blur_images(train_data_3k)"
      ],
      "metadata": {
        "id": "TaiMKb6PHB6W"
      },
      "execution_count": null,
      "outputs": []
    },
    {
      "cell_type": "code",
      "source": [
        "train_data_4k = train_data[40000:50000]\n",
        "blurred_train_data_4k = blur_images(train_data_4k)"
      ],
      "metadata": {
        "id": "0liD0SQyHEyM"
      },
      "execution_count": null,
      "outputs": []
    },
    {
      "cell_type": "code",
      "source": [
        "train_data_5k = train_data[50000:60000]\n",
        "blurred_train_data_5k = blur_images(train_data_5k)"
      ],
      "metadata": {
        "id": "fWgkywSnHGP7"
      },
      "execution_count": null,
      "outputs": []
    },
    {
      "cell_type": "code",
      "source": [
        "blurred_dev_data = blur_images(dev_data)"
      ],
      "metadata": {
        "id": "pzykqP2mIEBZ"
      },
      "execution_count": null,
      "outputs": []
    },
    {
      "cell_type": "code",
      "source": [
        "blurred_train_data = (\n",
        "    blurred_train_data_0k \n",
        "    + blurred_train_data_1k\n",
        "    + blurred_train_data_2k\n",
        "    + blurred_train_data_3k\n",
        "    + blurred_train_data_4k\n",
        "    + blurred_train_data_5k\n",
        ")"
      ],
      "metadata": {
        "id": "5ZxzSCHoHH_H"
      },
      "execution_count": null,
      "outputs": []
    },
    {
      "cell_type": "code",
      "source": [
        "from sklearn.metrics import accuracy_score\n",
        "def train_k_nearest_neighbors(k,\n",
        "                              training_data,\n",
        "                              training_labels):\n",
        "\n",
        "    knn = KNeighborsClassifier(n_neighbors = k)\n",
        "    knn.fit(training_data, training_labels)\n",
        "    \n",
        "    return knn\n",
        "    \n",
        "def get_accuracy():\n",
        "    k = 1\n",
        "    neigh_blurred_train = train_k_nearest_neighbors(k, blurred_train_data, train_labels)\n",
        "    neigh_unblurred_train = train_k_nearest_neighbors(k, train_data, train_labels)\n",
        "    \n",
        "    predicted_blurred_train_unblurred_dev = (\n",
        "        neigh_blurred_train.predict(dev_data)\n",
        "    )\n",
        "    \n",
        "    predicted_unblurred_train_blurred_dev = (\n",
        "        neigh_unblurred_train.predict(blurred_dev_data)\n",
        "    )\n",
        "    \n",
        "    predicted_blurred_train_blurred_dev = (\n",
        "        neigh_blurred_train.predict(blurred_dev_data)\n",
        "    )\n",
        "    \n",
        "    print(\"Accuracy for blurred training, unblurred dev:\")\n",
        "    print(accuracy_score(\n",
        "            dev_labels, predicted_blurred_train_unblurred_dev, normalize = True))\n",
        "    \n",
        "    print(\"Accuracy for unblurred training, blurred dev:\")\n",
        "    print(accuracy_score(\n",
        "            dev_labels, predicted_unblurred_train_blurred_dev, normalize = True))\n",
        "    \n",
        "    print(\"Accuracy for blurred training, blurred dev:\")\n",
        "    print(accuracy_score(\n",
        "            dev_labels, predicted_blurred_train_blurred_dev, normalize = True))\n",
        "\n",
        "get_accuracy()"
      ],
      "metadata": {
        "colab": {
          "base_uri": "https://localhost:8080/"
        },
        "id": "GaKeNkPhHMes",
        "outputId": "def30248-e947-4836-9868-3deeb16198e0"
      },
      "execution_count": null,
      "outputs": [
        {
          "output_type": "stream",
          "name": "stdout",
          "text": [
            "Accuracy for blurred training, unblurred dev:\n",
            "0.966\n",
            "Accuracy for unblurred training, blurred dev:\n",
            "0.951\n",
            "Accuracy for blurred training, blurred dev:\n",
            "0.965\n"
          ]
        }
      ]
    },
    {
      "cell_type": "code",
      "source": [
        ""
      ],
      "metadata": {
        "id": "nIvdf9kCHMXn"
      },
      "execution_count": null,
      "outputs": []
    },
    {
      "cell_type": "markdown",
      "metadata": {
        "id": "aN3HZPGuTzOn"
      },
      "source": [
        "### Question 2: Modeling your data and experimenting with different Naive Bayes models. \n",
        "---\n",
        "\n",
        "1. Produce two Naive Bayes models and evaluate their performances.  Recall that Naive Bayes estimates P(feature|label), where each label is a categorical, not a real number.\n",
        "  1. For the first model, map pixel values to either 0 or 1, representing white or black - you should pre-process the data or use `BernoulliNB`'s `binarize` parameter to set the white/black separation threshold to 0.1.  Use `BernoulliNB` to produce the model.\n",
        "  1. For the second model, map pixel values to either 0, 1, or 2, representing white, gray, or black - you should pre-process the data, seting the white/gray/black separation thresholds to 0.1 and 0.9.  Here you'll likely need to implement a `trianarize` helper function. Since we are going beyond the binary representation of our features, you should use `MultinomialNB` to produce the model.\n",
        "1. Show the Bernoulli model accuracy and the Multinomial model accuracy.\n",
        "1. Does the multinomial version improve the results? Why or why not?\n",
        "\n",
        "Notes:\n",
        "* Train on the mini train set.\n",
        "* Evaluate performance on the dev set.\n",
        "\n"
      ]
    },
    {
      "cell_type": "code",
      "metadata": {
        "id": "_1edM3ehTzOn",
        "colab": {
          "base_uri": "https://localhost:8080/"
        },
        "outputId": "34caa7a1-3ff4-45d9-eafe-3ae30b051c9d"
      },
      "source": [
        "# Solution with binarization by explicit binarize function\n",
        "from sklearn.metrics import accuracy_score\n",
        "\n",
        "### STUDENT START ###\n",
        "\n",
        "# binarize_example():\n",
        "#   Turn all pixels below 0.5 (or threshold) -> 0, greater -> 1\n",
        "def binarize_example(example, threshold = 0.5):\n",
        "    binarized = [ 1 if value > threshold else 0 for value in example ]\n",
        "    return binarized\n",
        "    \n",
        "# binarize_examples():\n",
        "#   Apply binarization to a set of example\n",
        "def binarize_examples(examples, threshold = 0.5):\n",
        "    binarized = [ binarize_example(example, threshold) for example in examples ]\n",
        "    return binarized\n",
        "\n",
        "# ternarize_example():\n",
        "#   Turn all pixels below 1/3 (or threshold) -> 0, 1/3 through 2/3 -> 1, greater -> 2\n",
        "def ternarize_example(example, threshold_low = 0.33333333, threshold_high = 0.66666666):\n",
        "    ternarized = [ \n",
        "        0 if value < threshold_low else 1 if value < threshold_high else 2\n",
        "        for value in example\n",
        "    ]\n",
        "    return ternarized\n",
        "\n",
        "# ternarize_examples():\n",
        "#   Apply ternarization to a set of example\n",
        "def ternarize_examples(examples, threshold_low = 0.33333333, threshold_high = 0.66666666):\n",
        "    ternarized = [ \n",
        "        ternarize_example(example, threshold_low, threshold_high) \n",
        "        for example in examples \n",
        "    ]\n",
        "    return ternarized\n",
        "\n",
        "def Q2():\n",
        "    binarized_train_data = binarize_examples(train_data)\n",
        "    \n",
        "    binary_naive_bayes = BernoulliNB()\n",
        "    binary_naive_bayes.fit(binarized_train_data, train_labels)\n",
        "\n",
        "    binarized_dev_data = binarize_examples(dev_data)\n",
        "    binary_naive_bayes_predicted = binary_naive_bayes.predict(binarized_dev_data)\n",
        "    \n",
        "    target_names = [ str(i) for i in range(10) ]\n",
        "    \n",
        "    print(\"============ Classification report for binarized ============ \\n\")\n",
        "    print(classification_report(\n",
        "            dev_labels, \n",
        "            binary_naive_bayes_predicted, \n",
        "            target_names = target_names))\n",
        "    print(\"Accuracy score: \")\n",
        "    print(accuracy_score(dev_labels, binary_naive_bayes_predicted, normalize = True))\n",
        "    \n",
        "    ternarized_train_data = ternarize_examples(train_data)\n",
        "    \n",
        "    ternary_naive_bayes = MultinomialNB()\n",
        "    ternary_naive_bayes.fit(ternarized_train_data, train_labels)\n",
        "    \n",
        "    ternarized_dev_data = ternarize_examples(dev_data)\n",
        "    \n",
        "    ternary_naive_bayes_predicted = ternary_naive_bayes.predict(ternarized_dev_data)\n",
        "    print(\"============ Classification report for ternarized ============ \\n\")\n",
        "    print(classification_report(\n",
        "            dev_labels, \n",
        "            ternary_naive_bayes_predicted, \n",
        "            target_names = target_names))\n",
        "    print(\"Accuracy score: \")\n",
        "    print(accuracy_score(dev_labels, ternary_naive_bayes_predicted, normalize = True))\n",
        "\n",
        "### STUDENT END ###\n",
        "\n",
        "Q2()"
      ],
      "execution_count": null,
      "outputs": [
        {
          "output_type": "stream",
          "name": "stdout",
          "text": [
            "============ Classification report for binarized ============ \n",
            "\n",
            "              precision    recall  f1-score   support\n",
            "\n",
            "           0       0.90      0.87      0.89        85\n",
            "           1       0.87      0.97      0.92       126\n",
            "           2       0.93      0.79      0.86       116\n",
            "           3       0.75      0.80      0.78       107\n",
            "           4       0.85      0.73      0.78       110\n",
            "           5       0.80      0.72      0.76        87\n",
            "           6       0.83      0.87      0.85        87\n",
            "           7       0.86      0.77      0.81        99\n",
            "           8       0.72      0.70      0.71        89\n",
            "           9       0.67      0.90      0.77        94\n",
            "\n",
            "    accuracy                           0.82      1000\n",
            "   macro avg       0.82      0.81      0.81      1000\n",
            "weighted avg       0.82      0.82      0.82      1000\n",
            "\n",
            "Accuracy score: \n",
            "0.816\n",
            "============ Classification report for ternarized ============ \n",
            "\n",
            "              precision    recall  f1-score   support\n",
            "\n",
            "           0       0.91      0.92      0.91        85\n",
            "           1       0.93      0.94      0.93       126\n",
            "           2       0.92      0.83      0.87       116\n",
            "           3       0.76      0.84      0.80       107\n",
            "           4       0.85      0.66      0.74       110\n",
            "           5       0.89      0.66      0.75        87\n",
            "           6       0.86      0.87      0.87        87\n",
            "           7       0.89      0.77      0.83        99\n",
            "           8       0.57      0.70      0.63        89\n",
            "           9       0.63      0.89      0.74        94\n",
            "\n",
            "    accuracy                           0.81      1000\n",
            "   macro avg       0.82      0.81      0.81      1000\n",
            "weighted avg       0.83      0.81      0.81      1000\n",
            "\n",
            "Accuracy score: \n",
            "0.81\n"
          ]
        }
      ]
    },
    {
      "cell_type": "markdown",
      "metadata": {
        "id": "Bbbpzl5ETzOp"
      },
      "source": [
        "ANSWER: "
      ]
    },
    {
      "cell_type": "markdown",
      "metadata": {
        "id": "ymzuQZwsTzOp"
      },
      "source": [
        "### Question 3: Applying the grid search technique.\n",
        "1. Search across several values of the LaPlace smoothing parameter (alpha) to find its effect on a Bernoulli Naive Bayes model's performance.  Show the accuracy at each alpha value.\n",
        "1. What is the best value for alpha? What is the accuracy when alpha is near 0? Is this what you'd expect?\n",
        "\n",
        "Notes:\n",
        "* Set binarization threshold to 0.\n",
        "* Train on the mini train set.\n",
        "* Evaluate performance by 5-fold cross-validation. \n",
        "* Use `GridSearchCV(..., ..., cv=..., scoring='accuracy', iid=False)` to vary alpha and evaluate performance by cross-validation.\n",
        "* Cross-validation is based on partitions of the training data, so results will be a bit different than if you had used the dev set to evaluate performance.\n",
        "\n"
      ]
    },
    {
      "cell_type": "code",
      "metadata": {
        "id": "1qc1fG0OTzOq",
        "colab": {
          "base_uri": "https://localhost:8080/"
        },
        "outputId": "02356b52-3d62-4207-9536-7501807e5a60"
      },
      "source": [
        "def Q3(alphas):\n",
        "\n",
        "### STUDENT START ###\n",
        "    binarized_train_data = binarize_examples(train_data)\n",
        "    \n",
        "    bernoulli_naive_bayes = BernoulliNB()\n",
        "    \n",
        "    grid_search = GridSearchCV(bernoulli_naive_bayes, alphas, verbose = 3)\n",
        "    grid_search.fit(binarized_train_data, train_labels)\n",
        "\n",
        "    return grid_search\n",
        "\n",
        "alphas = {'alpha': [0.0, 0.0001, 0.001, 0.01, 0.1, 0.5, 1.0, 2.0, 10.0]}\n",
        "nb = Q3(alphas)\n",
        "print(nb.best_params_)\n",
        "\n",
        "### STUDENT END ###\n",
        "\n",
        "# alphas = {'alpha': [1.0e-10, 0.0001, 0.001, 0.01, 0.1, 0.5, 1.0, 2.0, 10.0]}\n",
        "# Q3(alphas)\n"
      ],
      "execution_count": null,
      "outputs": [
        {
          "output_type": "stream",
          "name": "stdout",
          "text": [
            "Fitting 5 folds for each of 9 candidates, totalling 45 fits\n"
          ]
        },
        {
          "output_type": "stream",
          "name": "stderr",
          "text": [
            "/usr/local/lib/python3.7/dist-packages/sklearn/naive_bayes.py:557: UserWarning: alpha too small will result in numeric errors, setting alpha = 1.0e-10\n",
            "  % _ALPHA_MIN\n"
          ]
        },
        {
          "output_type": "stream",
          "name": "stdout",
          "text": [
            "[CV 1/5] END .........................alpha=0.0;, score=0.839 total time=  10.6s\n"
          ]
        },
        {
          "output_type": "stream",
          "name": "stderr",
          "text": [
            "/usr/local/lib/python3.7/dist-packages/sklearn/naive_bayes.py:557: UserWarning: alpha too small will result in numeric errors, setting alpha = 1.0e-10\n",
            "  % _ALPHA_MIN\n"
          ]
        },
        {
          "output_type": "stream",
          "name": "stdout",
          "text": [
            "[CV 2/5] END .........................alpha=0.0;, score=0.827 total time=  10.2s\n"
          ]
        },
        {
          "output_type": "stream",
          "name": "stderr",
          "text": [
            "/usr/local/lib/python3.7/dist-packages/sklearn/naive_bayes.py:557: UserWarning: alpha too small will result in numeric errors, setting alpha = 1.0e-10\n",
            "  % _ALPHA_MIN\n"
          ]
        },
        {
          "output_type": "stream",
          "name": "stdout",
          "text": [
            "[CV 3/5] END .........................alpha=0.0;, score=0.827 total time=  10.2s\n"
          ]
        },
        {
          "output_type": "stream",
          "name": "stderr",
          "text": [
            "/usr/local/lib/python3.7/dist-packages/sklearn/naive_bayes.py:557: UserWarning: alpha too small will result in numeric errors, setting alpha = 1.0e-10\n",
            "  % _ALPHA_MIN\n"
          ]
        },
        {
          "output_type": "stream",
          "name": "stdout",
          "text": [
            "[CV 4/5] END .........................alpha=0.0;, score=0.834 total time=  10.2s\n"
          ]
        },
        {
          "output_type": "stream",
          "name": "stderr",
          "text": [
            "/usr/local/lib/python3.7/dist-packages/sklearn/naive_bayes.py:557: UserWarning: alpha too small will result in numeric errors, setting alpha = 1.0e-10\n",
            "  % _ALPHA_MIN\n"
          ]
        },
        {
          "output_type": "stream",
          "name": "stdout",
          "text": [
            "[CV 5/5] END .........................alpha=0.0;, score=0.852 total time=  10.1s\n",
            "[CV 1/5] END ......................alpha=0.0001;, score=0.839 total time=  10.2s\n",
            "[CV 2/5] END ......................alpha=0.0001;, score=0.827 total time=  10.6s\n",
            "[CV 3/5] END ......................alpha=0.0001;, score=0.827 total time=  10.0s\n",
            "[CV 4/5] END ......................alpha=0.0001;, score=0.834 total time=   9.7s\n",
            "[CV 5/5] END ......................alpha=0.0001;, score=0.852 total time=  10.2s\n",
            "[CV 1/5] END .......................alpha=0.001;, score=0.839 total time=  10.3s\n",
            "[CV 2/5] END .......................alpha=0.001;, score=0.826 total time=  11.7s\n",
            "[CV 3/5] END .......................alpha=0.001;, score=0.827 total time=  10.2s\n",
            "[CV 4/5] END .......................alpha=0.001;, score=0.833 total time=  10.2s\n",
            "[CV 5/5] END .......................alpha=0.001;, score=0.852 total time=  10.4s\n",
            "[CV 1/5] END ........................alpha=0.01;, score=0.839 total time=  10.2s\n",
            "[CV 2/5] END ........................alpha=0.01;, score=0.826 total time=  10.6s\n",
            "[CV 3/5] END ........................alpha=0.01;, score=0.827 total time=  10.9s\n",
            "[CV 4/5] END ........................alpha=0.01;, score=0.833 total time=   9.9s\n",
            "[CV 5/5] END ........................alpha=0.01;, score=0.851 total time=  11.0s\n",
            "[CV 1/5] END .........................alpha=0.1;, score=0.839 total time=  10.5s\n",
            "[CV 2/5] END .........................alpha=0.1;, score=0.826 total time=  10.2s\n",
            "[CV 3/5] END .........................alpha=0.1;, score=0.827 total time=  10.5s\n",
            "[CV 4/5] END .........................alpha=0.1;, score=0.833 total time=  10.3s\n",
            "[CV 5/5] END .........................alpha=0.1;, score=0.851 total time=  10.4s\n",
            "[CV 1/5] END .........................alpha=0.5;, score=0.838 total time=  10.2s\n",
            "[CV 2/5] END .........................alpha=0.5;, score=0.825 total time=  10.7s\n",
            "[CV 3/5] END .........................alpha=0.5;, score=0.826 total time=  10.8s\n",
            "[CV 4/5] END .........................alpha=0.5;, score=0.832 total time=  12.2s\n",
            "[CV 5/5] END .........................alpha=0.5;, score=0.851 total time=  10.6s\n",
            "[CV 1/5] END .........................alpha=1.0;, score=0.838 total time=  10.8s\n",
            "[CV 2/5] END .........................alpha=1.0;, score=0.825 total time=  10.6s\n",
            "[CV 3/5] END .........................alpha=1.0;, score=0.826 total time=  10.7s\n",
            "[CV 4/5] END .........................alpha=1.0;, score=0.832 total time=  10.2s\n",
            "[CV 5/5] END .........................alpha=1.0;, score=0.850 total time=  11.6s\n",
            "[CV 1/5] END .........................alpha=2.0;, score=0.837 total time=  11.3s\n",
            "[CV 2/5] END .........................alpha=2.0;, score=0.825 total time=  11.1s\n",
            "[CV 3/5] END .........................alpha=2.0;, score=0.825 total time=  11.2s\n",
            "[CV 4/5] END .........................alpha=2.0;, score=0.832 total time=  11.7s\n",
            "[CV 5/5] END .........................alpha=2.0;, score=0.849 total time=  10.5s\n",
            "[CV 1/5] END ........................alpha=10.0;, score=0.836 total time=  10.3s\n",
            "[CV 2/5] END ........................alpha=10.0;, score=0.823 total time=  10.8s\n",
            "[CV 3/5] END ........................alpha=10.0;, score=0.823 total time=  10.1s\n",
            "[CV 4/5] END ........................alpha=10.0;, score=0.829 total time=  10.6s\n",
            "[CV 5/5] END ........................alpha=10.0;, score=0.847 total time=  10.4s\n"
          ]
        },
        {
          "output_type": "stream",
          "name": "stderr",
          "text": [
            "/usr/local/lib/python3.7/dist-packages/sklearn/naive_bayes.py:557: UserWarning: alpha too small will result in numeric errors, setting alpha = 1.0e-10\n",
            "  % _ALPHA_MIN\n"
          ]
        },
        {
          "output_type": "stream",
          "name": "stdout",
          "text": [
            "{'alpha': 0.0}\n"
          ]
        }
      ]
    },
    {
      "cell_type": "markdown",
      "metadata": {
        "id": "6g4fnGFPTzOq"
      },
      "source": [
        "ANSWER: "
      ]
    },
    {
      "cell_type": "markdown",
      "metadata": {
        "id": "aQ6MaDU6TzOr"
      },
      "source": [
        "### Question 4: Experimenting with Gaussian Naive Bayes\n",
        "---\n",
        "1. Produce a model using Guassian Naive Bayes, which is intended for real-valued features, and evaluate performance. You will notice that it does not work so well. \n",
        "1. Diagnose and explain the problem.\n",
        "1. Apply a simple fix so that the model accuracy is around the same as for a Bernoulli Naive Bayes model. \n",
        "1. Show the model accuracy before your fix and the model accuracy after your fix.  \n",
        "1. Explain your solution.\n",
        "\n",
        "Notes:\n",
        "* Train on the mini train set.\n",
        "* Evaluate performance on the dev set.\n",
        "* Take a look at var_smoothing argument for GaussianNB.\n",
        "* Feel free to  examine theta and sigma to better understand what's happening. In general though, **it is not a good idea to mess with internal variables of the model**. These are stored in the model's `theta_` and `sigma_` attributes."
      ]
    },
    {
      "cell_type": "code",
      "metadata": {
        "id": "XqW86YbKTzOr",
        "colab": {
          "base_uri": "https://localhost:8080/",
          "height": 1000
        },
        "outputId": "aedf98f7-4943-4712-acd7-95cecb3329cb"
      },
      "source": [
        "#def Q4():\n",
        "\n",
        "### STUDENT END ###\n",
        "\n",
        "def evaluate_gaussian(\n",
        "    training_data, training_labels, development_data, development_labels):\n",
        "    \n",
        "    model = GaussianNB().fit(training_data, training_labels)\n",
        "    predictions = model.predict(development_data)\n",
        "    print(accuracy_score(development_labels, predictions, normalize = True))\n",
        "    \n",
        "    return model\n",
        "\n",
        "def Q4():\n",
        "    print('Accuracy score of Gaussian Naive Bayes (uncorrected): ')\n",
        "    gaussian_naive_bayes = evaluate_gaussian(\n",
        "        train_data, train_labels, dev_data, dev_labels)\n",
        "\n",
        "    theta = gaussian_naive_bayes.theta_\n",
        "\n",
        "    for digit in range(10):\n",
        "        theta_figure = plt.figure()\n",
        "        theta_hist = plt.hist(theta[digit], bins = 100)\n",
        "        theta_hist_title = plt.title('Theta distribution for the digit ' + str(digit))\n",
        "        plt.show()\n",
        "    sigma = gaussian_naive_bayes.sigma_\n",
        "\n",
        "    for digit in range(10):\n",
        "        sigma_figure = plt.figure()\n",
        "        sigma_hist = plt.hist(theta[digit], bins = 100)\n",
        "        sigma_hist_title = plt.title('Sigma distribution for the digit ' + str(digit))\n",
        "        plt.show()\n",
        "\n",
        "    return gaussian_naive_bayes\n",
        "\n",
        "gnb = Q4()\n",
        "\n",
        "# Attempts to improve were unsuccessful, see attempts below\n",
        "\n",
        "print('Issue: Many features have variance 0, ')\n",
        "print('which means they \"contribute\" but the contribution is noise')\n",
        "\n",
        "examples, pixels = np.shape(train_data)\n",
        "def select_signal_pixel_indices(data):\n",
        "    indices = [ ]\n",
        "    examples, pixels = np.shape(data)\n",
        "    \n",
        "    for pixel in range(pixels):\n",
        "        has_signal = False\n",
        "        \n",
        "        for example in range(examples):\n",
        "            if data[example][pixel] > 0.0:\n",
        "                has_signal = True\n",
        "        \n",
        "        if has_signal:\n",
        "            indices.append(pixel)\n",
        "    \n",
        "    return indices\n",
        "            \n",
        "pixels_with_signal = select_signal_pixel_indices(train_data)\n",
        "\n",
        "def select_pixels_with_signal(data, pixels_with_signal):\n",
        "    examples, pixels = np.shape(data)\n",
        "    selected = [\n",
        "        data[example][pixels_with_signal]\n",
        "        for example in range(examples)\n",
        "    ]\n",
        "    \n",
        "    return selected\n",
        "\n",
        "signal_train_data = select_pixels_with_signal(train_data, pixels_with_signal)\n",
        "\n",
        "signal_dev_data = select_pixels_with_signal(dev_data, pixels_with_signal)\n",
        "\n",
        "print('Attempt #0 : only select non-0 pixels ')\n",
        "evaluate_gaussian(signal_train_data, train_labels, signal_dev_data, dev_labels)\n",
        "\n",
        "\n",
        "def transform_attempt1(pixel):\n",
        "    return np.log(0.1 + pixel)\n",
        "\n",
        "vectorized_transform_attempt1 = np.vectorize(transform_attempt1)\n",
        "\n",
        "mapped_train_data = vectorized_transform_attempt1(train_data)\n",
        "mapped_dev_data = vectorized_transform_attempt1(dev_data)\n",
        "\n",
        "\n",
        "print('Attempt #1 : transform each pixel with log(0.1 + pixel) ')\n",
        "evaluate_gaussian(mapped_train_data, train_labels, mapped_dev_data, dev_labels)\n",
        "\n",
        "def transform_attempt2(pixel):\n",
        "    return 0.0 if pixel < 0.0001 else 1.0\n",
        "\n",
        "vectorized_transform_attempt2 = np.vectorize(transform_attempt2)\n",
        "\n",
        "mapped_train_data = vectorized_transform_attempt2(train_data)\n",
        "mapped_dev_data = vectorized_transform_attempt2(dev_data)\n",
        "\n",
        "\n",
        "print('Attempt #2 : binarize all pixels with a very low threshold ')\n",
        "evaluate_gaussian(mapped_train_data, train_labels, mapped_dev_data, dev_labels)\n",
        "\n",
        "### STUDENT END ###\n"
      ],
      "execution_count": null,
      "outputs": [
        {
          "output_type": "stream",
          "name": "stdout",
          "text": [
            "Accuracy score of Gaussian Naive Bayes (uncorrected): \n",
            "0.53\n"
          ]
        },
        {
          "output_type": "display_data",
          "data": {
            "image/png": "[encoded data removed]",
            "text/plain": [
              "<Figure size 432x288 with 1 Axes>"
            ]
          },
          "metadata": {
            "needs_background": "light"
          }
        },
        {
          "output_type": "display_data",
          "data": {
            "image/png": "[encoded data removed]",
            "text/plain": [
              "<Figure size 432x288 with 1 Axes>"
            ]
          },
          "metadata": {
            "needs_background": "light"
          }
        },
        {
          "output_type": "display_data",
          "data": {
            "image/png": "[encoded data removed]",
            "text/plain": [
              "<Figure size 432x288 with 1 Axes>"
            ]
          },
          "metadata": {
            "needs_background": "light"
          }
        },
        {
          "output_type": "display_data",
          "data": {
            "image/png": "[encoded data removed]",
            "text/plain": [
              "<Figure size 432x288 with 1 Axes>"
            ]
          },
          "metadata": {
            "needs_background": "light"
          }
        },
        {
          "output_type": "display_data",
          "data": {
            "image/png": "[encoded data removed]",
            "text/plain": [
              "<Figure size 432x288 with 1 Axes>"
            ]
          },
          "metadata": {
            "needs_background": "light"
          }
        },
        {
          "output_type": "display_data",
          "data": {
            "image/png": "[encoded data removed]",
            "text/plain": [
              "<Figure size 432x288 with 1 Axes>"
            ]
          },
          "metadata": {
            "needs_background": "light"
          }
        },
        {
          "output_type": "display_data",
          "data": {
            "image/png": "[encoded data removed]",
            "text/plain": [
              "<Figure size 432x288 with 1 Axes>"
            ]
          },
          "metadata": {
            "needs_background": "light"
          }
        },
        {
          "output_type": "display_data",
          "data": {
            "image/png": "[encoded data removed]",
            "text/plain": [
              "<Figure size 432x288 with 1 Axes>"
            ]
          },
          "metadata": {
            "needs_background": "light"
          }
        },
        {
          "output_type": "display_data",
          "data": {
            "image/png": "[encoded data removed]",
            "text/plain": [
              "<Figure size 432x288 with 1 Axes>"
            ]
          },
          "metadata": {
            "needs_background": "light"
          }
        },
        {
          "output_type": "display_data",
          "data": {
            "image/png": "[encoded data removed]",
            "text/plain": [
              "<Figure size 432x288 with 1 Axes>"
            ]
          },
          "metadata": {
            "needs_background": "light"
          }
        },
        {
          "output_type": "stream",
          "name": "stderr",
          "text": [
            "/usr/local/lib/python3.7/dist-packages/sklearn/utils/deprecation.py:103: FutureWarning: Attribute `sigma_` was deprecated in 1.0 and will be removed in1.2. Use `var_` instead.\n",
            "  warnings.warn(msg, category=FutureWarning)\n"
          ]
        },
        {
          "output_type": "display_data",
          "data": {
            "image/png": "[encoded data removed]",
            "text/plain": [
              "<Figure size 432x288 with 1 Axes>"
            ]
          },
          "metadata": {
            "needs_background": "light"
          }
        },
        {
          "output_type": "display_data",
          "data": {
            "image/png": "[encoded data removed]",
            "text/plain": [
              "<Figure size 432x288 with 1 Axes>"
            ]
          },
          "metadata": {
            "needs_background": "light"
          }
        },
        {
          "output_type": "display_data",
          "data": {
            "image/png": "[encoded data removed]",
            "text/plain": [
              "<Figure size 432x288 with 1 Axes>"
            ]
          },
          "metadata": {
            "needs_background": "light"
          }
        },
        {
          "output_type": "display_data",
          "data": {
            "image/png": "[encoded data removed]",
            "text/plain": [
              "<Figure size 432x288 with 1 Axes>"
            ]
          },
          "metadata": {
            "needs_background": "light"
          }
        },
        {
          "output_type": "display_data",
          "data": {
            "image/png": "[encoded data removed]",
            "text/plain": [
              "<Figure size 432x288 with 1 Axes>"
            ]
          },
          "metadata": {
            "needs_background": "light"
          }
        },
        {
          "output_type": "display_data",
          "data": {
            "image/png": "[encoded data removed]",
            "text/plain": [
              "<Figure size 432x288 with 1 Axes>"
            ]
          },
          "metadata": {
            "needs_background": "light"
          }
        },
        {
          "output_type": "display_data",
          "data": {
            "image/png": "[encoded data removed]",
            "text/plain": [
              "<Figure size 432x288 with 1 Axes>"
            ]
          },
          "metadata": {
            "needs_background": "light"
          }
        },
        {
          "output_type": "display_data",
          "data": {
            "image/png": "[encoded data removed]",
            "text/plain": [
              "<Figure size 432x288 with 1 Axes>"
            ]
          },
          "metadata": {
            "needs_background": "light"
          }
        },
        {
          "output_type": "display_data",
          "data": {
            "image/png": "[encoded data removed]",
            "text/plain": [
              "<Figure size 432x288 with 1 Axes>"
            ]
          },
          "metadata": {
            "needs_background": "light"
          }
        },
        {
          "output_type": "display_data",
          "data": {
            "image/png": "[encoded data removed]",
            "text/plain": [
              "<Figure size 432x288 with 1 Axes>"
            ]
          },
          "metadata": {
            "needs_background": "light"
          }
        },
        {
          "output_type": "stream",
          "name": "stdout",
          "text": [
            "Issue: Many features have variance 0, \n",
            "which means they \"contribute\" but the contribution is noise\n",
            "Attempt #0 : only select non-0 pixels \n",
            "0.53\n",
            "Attempt #1 : transform each pixel with log(0.1 + pixel) \n",
            "0.532\n",
            "Attempt #2 : binarize all pixels with a very low threshold \n",
            "0.526\n"
          ]
        },
        {
          "output_type": "execute_result",
          "data": {
            "text/plain": [
              "GaussianNB()"
            ]
          },
          "metadata": {},
          "execution_count": 40
        }
      ]
    },
    {
      "cell_type": "markdown",
      "metadata": {
        "id": "wE5eQXsPTzOs"
      },
      "source": [
        "ANSWER: "
      ]
    },
    {
      "cell_type": "markdown",
      "metadata": {
        "id": "AXx4SGNeTzOs"
      },
      "source": [
        "### Question 5: Naive Bayes as a generative model\n",
        "---\n",
        "Because Naive Bayes produces a generative model, you can use it to generate digit images.\n",
        "\n",
        "1. Produce a Bernoulli Naive Bayes model and then use it to generate a 10x10 grid with 10 example images of each digit. Each pixel output will be either 0 or 1: randomly generating a number and then comparing it to the estimated probability of the pixel being either 0 or 1.  Show the grid.\n",
        "1. How do the generated digit images compare to the training digit images?\n",
        "\n",
        "Notes:\n",
        "* You can use np.random.rand() to generate random numbers from a uniform distribution.\n",
        "* The estimated probability of each pixel being 0 or 1 is stored in the model's `feature_log_prob_` attribute. You can use `np.exp()` to convert a log probability back to a probability.\n",
        "\n"
      ]
    },
    {
      "cell_type": "code",
      "metadata": {
        "scrolled": false,
        "id": "WDCNbv7ETzOt",
        "colab": {
          "base_uri": "https://localhost:8080/",
          "height": 297
        },
        "outputId": "4d056db1-3f66-480f-a988-c6d326aa3b92"
      },
      "source": [
        "#def Q5(num_examples):\n",
        "\n",
        "### STUDENT START ###\n",
        "def add_example_to_figure(example, \n",
        "                     figure, \n",
        "                     subplot_rows, \n",
        "                     subplot_cols, \n",
        "                     subplot_number):\n",
        "    matrix = example_as_pixel_matrix(example)\n",
        "\n",
        "    subplot = figure.add_subplot(subplot_rows, subplot_cols, subplot_number)\n",
        "    subplot.imshow(matrix, cmap='Greys', interpolation='Nearest')\n",
        "    # disable tick marks\n",
        "    subplot.set_xticks(np.array([]))\n",
        "    subplot.set_yticks(np.array([]))\n",
        "\n",
        "\n",
        "def plot_examples(examples):\n",
        "    \n",
        "    figure = plt.figure()\n",
        "    \n",
        "    shape = np.shape(examples)\n",
        "    rows = shape[0]\n",
        "    columns = shape[1]\n",
        "    \n",
        "    subplot_index = 1\n",
        "    \n",
        "    for digit, examples_for_digit in enumerate(examples):\n",
        "        for example_index, example in enumerate(examples_for_digit):\n",
        "            add_example_to_figure(example, \n",
        "                                  figure, \n",
        "                                  rows, \n",
        "                                  columns, \n",
        "                                  subplot_index\n",
        "                                 )\n",
        "            subplot_index = subplot_index + 1\n",
        "    \n",
        "    figure.tight_layout()\n",
        "    plt.show()\n",
        "\n",
        "def generate_example(log_probabilities):\n",
        "    pixels = [\n",
        "        1.0 if np.random.rand() <= np.exp( log_probability ) else 0.0\n",
        "        for log_probability in log_probabilities\n",
        "    ]\n",
        "\n",
        "    return pixels\n",
        "\n",
        "# more than 10 x 10 gets scaled too small\n",
        "def plot_10_examples(binary_naive_bayes):\n",
        "    per_digit_log_probabilities = binary_naive_bayes.feature_log_prob_\n",
        "    \n",
        "    examples = [\n",
        "        [ \n",
        "            generate_example(per_digit_log_probabilities[digit])\n",
        "            for example in range(10)\n",
        "        ]\n",
        "        for digit in range(10)\n",
        "    ]\n",
        "    \n",
        "    plot_examples(examples)\n",
        "\n",
        "def Q5(num_examples):\n",
        "    binarized_train_data = binarize_examples(train_data)\n",
        "    binary_naive_bayes = BernoulliNB().fit(binarized_train_data, train_labels)\n",
        "    \n",
        "    page = 0\n",
        "    \n",
        "    while page < num_examples:\n",
        "        plot_10_examples(binary_naive_bayes)\n",
        "        page = page + 10\n",
        "    \n",
        "Q5(10)\n",
        "\n",
        "### STUDENT END ###"
      ],
      "execution_count": null,
      "outputs": [
        {
          "output_type": "display_data",
          "data": {
            "image/png": "[encoded data removed]",
            "text/plain": [
              "<Figure size 432x288 with 100 Axes>"
            ]
          },
          "metadata": {}
        }
      ]
    },
    {
      "cell_type": "markdown",
      "metadata": {
        "id": "2ENXdzngTzOu"
      },
      "source": [
        "ANSWER: "
      ]
    },
    {
      "cell_type": "markdown",
      "metadata": {
        "id": "CRkUEi50TzOu"
      },
      "source": [
        "### Question 6: Model Calibraiton\n",
        "---\n",
        "Recall that:\n",
        " * a **strongly calibrated** classifier is rougly 90% accurate when it says it is 90% accurate. The model's estimated posterior probability of the predicted class is indeed 0.9. \n",
        " * A **weakly calibrated** classifier is more accurate when it \"says\" it is more accurate. The actual accuracy is higher when the model's estimated posterior probability is higher.\n",
        " * A **poorly calibrated** classifier has no positive correlation between the model's estimate posterior probability and the actual accuracy.\n",
        "\n",
        "1. Produce a Bernoulli Naive Bayes model.  \n",
        "1. Evaluate performance: \n",
        "  1. Partition the dev set into several buckets based on the estimated posterior probabilities of the predicted classes (predict_proba)\n",
        "    - Think of it as a bin in a histogram, where each bin groups a range of estimated posterior probabilities of the predicted classes (predict_proba).\n",
        "    - Then estimate the actual accuracy the classifier achieved for each bucket. \n",
        "    - So, for each prediction:\n",
        "       - Find the bucket whose range includes the estimated posterior probability, \n",
        "       - and update \"correct\" and \"total\" counters accordingly. \n",
        "       - Show the accuracy for each bucket.\n",
        "1. How would you characterize the calibration for this Bernoulli Naive Bayes model according to the definitions above?\n",
        "\n",
        "Notes:\n",
        "* Set LaPlace smoothing (alpha) to the optimal value (from part 8).\n",
        "* Set binarization threshold to 0.\n",
        "* Train on the mini train set.\n",
        "* Evaluate perfromance on the dev set.\n",
        "\n"
      ]
    },
    {
      "cell_type": "code",
      "metadata": {
        "id": "3Gz3NDY9TzOu",
        "colab": {
          "base_uri": "https://localhost:8080/"
        },
        "outputId": "4915942e-3ffc-4687-b46e-f08fbfbadf40"
      },
      "source": [
        "# def Q6(buckets, correct, total):\n",
        "        \n",
        "### STUDENT START ###\n",
        "\n",
        "buckets = [0.5, 0.9, 0.999, 0.99999, 0.9999999, 0.999999999, 0.99999999999, 0.9999999999999, 1.0]\n",
        "correct = [0 for i in buckets]\n",
        "total = [0 for i in buckets]\n",
        "\n",
        "def train_binarized_bernoulli(training_data, training_labels, alpha = 0.0001):\n",
        "    binarized_train_data = binarize_examples(training_data)\n",
        "    binary_naive_bayes = BernoulliNB(alpha = alpha)\n",
        "    binary_naive_bayes.fit(binarized_train_data, training_labels)\n",
        "    \n",
        "    return binary_naive_bayes\n",
        "\n",
        "def find_bucket_index(buckets, posterior):\n",
        "    index = None\n",
        "    \n",
        "    for i in range(len(buckets)):\n",
        "        if index == None and posterior <= buckets[i]:\n",
        "            index = i\n",
        "\n",
        "    return index\n",
        "    \n",
        "def score_by_posterior_buckets(binary_naive_bayes, \n",
        "                               test_data, test_labels,\n",
        "                               buckets, \n",
        "                               correct, \n",
        "                               total):\n",
        "    \n",
        "    predictions = binary_naive_bayes.predict(test_data)\n",
        "    # print(predictions)\n",
        "    print(type(predictions))\n",
        "    posteriors = binary_naive_bayes.predict_proba(test_data)\n",
        "    # print(posteriors)\n",
        "    print(type(posteriors))\n",
        "    \n",
        "    confidences = [\n",
        "        posteriors[index][int(predictions[index])]\n",
        "        for index in range(len(predictions))\n",
        "    ]\n",
        "    print(confidences)\n",
        "    \n",
        "    \n",
        "    for index, confidence in enumerate(confidences):\n",
        "        bucket_index = find_bucket_index(buckets, confidence)\n",
        "        \n",
        "        total[bucket_index] = total[bucket_index] + 1\n",
        "        \n",
        "        if predictions[index] == test_labels[index]:\n",
        "            correct[bucket_index] = correct[bucket_index] + 1\n",
        "    \n",
        "def Q6(buckets, correct, total):\n",
        "    binary_naive_bayes = train_binarized_bernoulli(train_data, train_labels)\n",
        "    \n",
        "    binarized_dev_data = binarize_examples(dev_data)\n",
        "    score_by_posterior_buckets(binary_naive_bayes, \n",
        "                               binarized_dev_data, \n",
        "                               dev_labels,\n",
        "                               buckets, \n",
        "                               correct, \n",
        "                               total)\n",
        "\n",
        "Q6(buckets, correct, total)\n",
        "                \n",
        "### STUDENT END ###\n",
        "\n",
        "# buckets = [0.5, 0.9, 0.999, 0.99999, 0.9999999, 0.999999999, 0.99999999999, 0.9999999999999, 1.0]\n",
        "# correct = [0 for i in buckets]\n",
        "# total = [0 for i in buckets]\n",
        "\n",
        "# Q6(buckets, correct, total)\n",
        "\n"
      ],
      "execution_count": null,
      "outputs": [
        {
          "output_type": "stream",
          "name": "stdout",
          "text": [
            "<class 'numpy.ndarray'>\n",
            "<class 'numpy.ndarray'>\n",
            "[1.0, 1.0, 1.0, 1.0, 0.999999999936307, 1.0, 0.9999999882357998, 0.9999996279943398, 0.9999974535800525, 0.9999990700133939, 1.0, 0.9999991960787148, 0.9999999999469651, 1.0, 1.0, 0.9991248132076529, 0.9999767746340263, 1.0, 0.9999998800249231, 0.9999925497821059, 0.9999964366336195, 1.0, 0.9533533886106267, 0.999999999943725, 0.9998201395174768, 1.0, 0.9999999999991189, 0.9999999994215045, 1.0, 1.0, 0.9999999999972431, 1.0, 0.999999999995481, 0.9999998564879707, 0.9999999999944009, 1.0, 1.0, 1.0, 0.9997968551683855, 1.0, 1.0, 0.9999999987617088, 0.9999452853114007, 0.9999999994074926, 0.9999999795578278, 0.5328479559851355, 0.7532053909962486, 0.9999999983946282, 0.9964783313342291, 1.0, 1.0, 1.0, 0.9999999999262457, 0.9852338915538915, 0.9999997254808853, 0.7969898883020125, 1.0, 1.0, 0.9999999933428398, 0.7502809763138114, 1.0, 0.9979063082576186, 0.9999399980933228, 0.9995965567218706, 1.0, 0.9997043111115957, 0.8920313154081614, 1.0, 1.0, 1.0, 1.0, 1.0, 0.999999999824098, 0.9999999998343014, 1.0, 0.9999999999993747, 0.9999999999928946, 0.9995629594356572, 0.9996476107186381, 1.0, 0.9999999633006957, 1.0, 1.0, 0.9999986851256157, 0.9888083621559673, 1.0, 1.0, 0.9999998677000778, 1.0, 1.0, 1.0, 1.0, 0.6408194447279922, 1.0, 0.9999999881229088, 0.9999999999999432, 0.9979981320351647, 0.9929883706667001, 1.0, 0.9999999956795875, 0.9999999997478142, 1.0, 1.0, 1.0, 0.9537389304384126, 0.9999999945974594, 0.9999999768995453, 1.0, 1.0, 0.9999997135496257, 0.9999999996641691, 1.0, 0.9979308515563928, 1.0, 0.9986382452104201, 0.8082797132239542, 0.5300925438283722, 1.0, 0.9999999589336861, 0.9574351015075971, 0.9999994946840471, 0.7878676576270809, 0.9999999995048086, 1.0, 0.9999999997309033, 0.9999999784759839, 1.0, 0.9999999999992326, 1.0, 0.9999999999899671, 1.0, 1.0, 0.9999856408949842, 0.9999999962864763, 1.0, 1.0, 0.9999997931606331, 1.0, 1.0, 0.9999478156336992, 0.9999999953462861, 1.0, 1.0, 1.0, 0.9815212156068526, 1.0, 0.9999999999999716, 1.0, 0.999999999999801, 0.9941994483446844, 0.9999896891156457, 0.9019668909253813, 0.9999999999999432, 0.9996705815697694, 1.0, 1.0, 1.0, 0.9990421732329894, 1.0, 0.5640590106084484, 0.9999999999999147, 1.0, 0.9999999999996021, 1.0, 0.9999999985092245, 0.9999999606858986, 0.9999975000941373, 0.9999999930458898, 1.0, 0.757048387025343, 0.9917807601552824, 0.9976581840613572, 0.9906969355804323, 0.9999999999406839, 1.0, 0.9999999999998153, 1.0, 0.9999999999761826, 1.0, 1.0, 1.0, 0.9999999982086081, 0.9999999740580566, 1.0, 0.9848233239869854, 0.9990336900788805, 0.9995901699293542, 0.9938266788922941, 1.0, 0.9999999999994458, 1.0, 0.9987970087648692, 1.0, 0.9111683269402989, 1.0, 0.9915504163515162, 1.0, 1.0, 0.5551651208973645, 0.9999999999542695, 0.9999999999974989, 1.0, 1.0, 1.0, 1.0, 0.9999999999235172, 1.0, 0.9879615901799038, 1.0, 0.9999999999999147, 0.9999999999981526, 0.9998820818570692, 0.9999923827311862, 0.9999999970705176, 1.0, 0.9999989873566346, 1.0, 0.9999999997701536, 0.999315223384213, 0.9999999999832312, 0.9962991919554517, 0.9999999875320783, 1.0, 1.0, 1.0, 0.9999999997397708, 1.0, 0.9996849769297312, 1.0, 0.9999999529253369, 0.9999999404145132, 0.610034848599183, 0.9999999999998295, 0.9420325675613435, 0.9985878856256085, 0.9999998943349964, 1.0, 1.0, 0.9999999999917577, 1.0, 0.9854959889582896, 0.7396125677457832, 1.0, 0.9999996895886822, 0.9994120860403134, 0.9999999981935161, 1.0, 0.83186220005469, 1.0, 0.9952846211139358, 0.9999992899036235, 0.9999999999997726, 1.0, 0.9999999347649883, 0.9999999999999432, 0.9990541604519928, 0.9953160173873046, 0.6150869371382084, 1.0, 0.999994733941118, 0.9999999992656683, 0.9999998584039063, 1.0, 0.9999999999874376, 0.9959119441217538, 1.0, 0.9999999719391615, 1.0, 0.9988227668507078, 1.0, 0.99999999995552, 1.0, 1.0, 0.9999999999894555, 0.9999999803451092, 0.9999476183464477, 1.0, 0.999999999986585, 1.0, 1.0, 0.9999999999999716, 0.9999999923615519, 0.9986595602950887, 0.9999999999739089, 0.9999999649772071, 1.0, 0.9999999999996021, 1.0, 1.0, 0.9997182169906669, 0.9912693887594591, 0.9999614639633742, 1.0, 1.0, 0.9999999999758415, 0.9997884914867656, 1.0, 1.0, 1.0, 0.9997964642258546, 0.6598809560671169, 0.9547059786714542, 1.0, 0.9987578029979006, 0.9999999838648251, 1.0, 1.0, 0.999999996807361, 0.999999999589761, 0.9999999999990337, 0.9999999999999716, 1.0, 1.0, 0.9999944165660234, 1.0, 0.9999999895040901, 0.9999265006157843, 0.9974754169050561, 0.9999992885516038, 0.9999457392066057, 0.9999999999999858, 0.7858189840346635, 1.0, 0.9999999999999432, 0.9999997974582789, 0.9339220442742139, 0.9999999197892496, 1.0, 0.9999999948983884, 1.0, 1.0, 0.9999985448742805, 1.0, 0.9998413631439195, 1.0, 1.0, 0.9998967589495747, 1.0, 0.7495793624166944, 1.0, 0.996289222104945, 0.9999910138717663, 1.0, 0.9999999999997442, 0.9561648993047388, 1.0, 0.9999996340332119, 0.999999951808378, 1.0, 0.9887430067479204, 0.9999999887363914, 0.9981078234186767, 1.0, 1.0, 1.0, 1.0, 1.0, 1.0, 0.9997250405676092, 0.9999998689943169, 1.0, 1.0, 0.999963616713646, 0.9999831645897139, 0.9999999999483009, 0.997566646466826, 0.9999999999999716, 0.8917905321050611, 1.0, 0.9999999999843112, 0.9999999993528945, 0.9999999989304911, 0.9999462301107191, 0.9999999999999716, 0.9999999998896385, 0.9999999999998863, 0.9999999998515108, 1.0, 1.0, 0.9999993960084458, 1.0, 0.9999999999353975, 0.9999999999999432, 0.9999999988405222, 1.0, 1.0, 0.9999999999998579, 1.0, 1.0, 0.9999999664310627, 1.0, 0.9999999999999147, 1.0, 1.0, 0.9999999440925949, 0.9999980950733185, 1.0, 0.998869743465073, 0.9999999999922409, 1.0, 0.9999999999999716, 0.9999999993411564, 1.0, 0.9997902045984328, 0.9951266544035228, 1.0, 0.9999946360439698, 1.0, 1.0, 1.0, 1.0, 0.9977010324640195, 0.9999991475718781, 1.0, 0.99999999999946, 0.9999997026740048, 1.0, 0.999999999813312, 1.0, 1.0, 0.9999999993830215, 0.9999734577141564, 0.99999999999946, 1.0, 1.0, 1.0, 0.9999999999999432, 1.0, 1.0, 0.9999606554447755, 1.0, 0.999999269281045, 0.9999997678296196, 0.9973014523102083, 0.9999999999999147, 0.9999999027061269, 0.9999999999990052, 1.0, 0.9999999999930225, 0.9999999999103864, 1.0, 0.99999999999946, 1.0, 0.9999662076690854, 1.0, 1.0, 1.0, 0.9999983628345078, 0.9999999999970441, 0.9999992640206451, 0.999999999135099, 0.9999999997264695, 1.0, 0.9999999999997726, 0.9999999999052704, 1.0, 0.568756693592622, 0.9999999811104774, 0.9999941084221757, 1.0, 0.9925159797743315, 1.0, 1.0, 1.0, 0.9999985928929173, 1.0, 0.9999999999999432, 0.9999999999993463, 0.9999999999938325, 0.9999726419441499, 0.9999999999994316, 0.999998789115318, 1.0, 1.0, 0.9999999999997726, 1.0, 1.0, 1.0, 0.9991977789759039, 0.9999883928058512, 1.0, 0.999999999966434, 1.0, 0.9999999434199667, 0.999978955571013, 0.9999999999999432, 0.7225192292375743, 0.9999764076807174, 0.9958303368216372, 1.0, 0.9999999981232861, 0.9999999434816702, 0.9999999995534665, 1.0, 1.0, 0.6303422061326499, 0.9999915804967566, 0.9288210711007902, 0.9737324464093466, 0.9999246296682066, 1.0, 0.92142142777866, 0.9707018428567925, 1.0, 1.0, 0.9999862054586298, 1.0, 0.9999999998295834, 0.9736681329694207, 0.9999952721239036, 0.9999986463722403, 0.9999951060466784, 1.0, 1.0, 0.8714140659186699, 0.8855753511180017, 0.9999999892586403, 1.0, 1.0, 0.9999589361989475, 0.9998375905058364, 0.9999999999984084, 0.9999999379275853, 0.9999226369720116, 0.9999999995332018, 1.0, 1.0, 0.9999754134502901, 0.9999999712135836, 1.0, 0.9999909009529379, 0.9999978904077208, 0.901716118907938, 1.0, 1.0, 1.0, 0.9999999999998863, 1.0, 0.9811306982944804, 1.0, 0.9999999966487962, 0.9999999999996021, 0.9785967259989504, 0.9994540241468087, 1.0, 0.9999999998701696, 1.0, 0.5595616187398301, 0.9996344217832324, 1.0, 0.9932774525149208, 0.9999728299732729, 0.9988686244845618, 0.999364177033925, 1.0, 0.9999999618893306, 1.0, 0.9999997870641493, 1.0, 1.0, 0.9999999997592681, 1.0, 0.9959375805719981, 0.9999999999983231, 0.9997229539781601, 0.9999999992231778, 0.6034383568483718, 0.9994387672600854, 1.0, 0.9825804034616812, 0.999999999783995, 0.9995443891426308, 0.751341041322845, 1.0, 1.0, 1.0, 1.0, 0.9981506387435853, 0.9999999993598863, 0.9999999999999716, 1.0, 1.0, 0.8373737631368724, 0.9999935943458482, 1.0, 0.9999999999996589, 0.9999999999999716, 1.0, 0.999996752679991, 0.9997514263268806, 1.0, 0.9999999999285478, 1.0, 0.973185722201622, 1.0, 0.9949390387032075, 1.0, 0.999998859953077, 1.0, 0.9999999887909042, 1.0, 0.9999999999999716, 0.9999997103549696, 0.997275313751374, 0.9990852462717327, 0.9996912154642869, 0.9999959474987155, 1.0, 1.0, 0.9999999135869795, 0.9999995318535996, 1.0, 1.0, 0.7274625564455568, 0.9999999999964615, 0.999999996828393, 0.9999999999998295, 0.9999999985574277, 0.599327661631507, 0.9997653531031473, 1.0, 0.9999999999618865, 1.0, 1.0, 0.9999999999978115, 1.0, 1.0, 0.8273408984309484, 1.0, 0.9988945357726321, 0.9999978987326209, 1.0, 1.0, 1.0, 0.9999999919387221, 0.9999999810463012, 1.0, 1.0, 0.9999999274268445, 1.0, 1.0, 0.9999999655990172, 1.0, 1.0, 1.0, 0.9546219527893582, 0.9996803345126392, 1.0, 1.0, 0.9999999637283856, 1.0, 1.0, 1.0, 0.9999999999999432, 0.9940988071393797, 1.0, 1.0, 1.0, 0.9999999227387976, 0.9999999824011071, 0.9999999999375859, 0.785856406491429, 1.0, 1.0, 0.9999999841643047, 1.0, 0.9999892157573522, 1.0, 0.9998909988317289, 0.9999999990907327, 0.9665168695680926, 0.99999999581064, 1.0, 0.9992388200910624, 0.7774868315768212, 1.0, 1.0, 1.0, 0.9999985666343078, 0.9999999944645879, 1.0, 0.9999999999794795, 1.0, 0.9999996696550942, 0.7794930389942696, 0.9999999998727276, 1.0, 0.9999999999018883, 0.9980771131302396, 0.5797662420327793, 0.9999999999999432, 0.999999577219772, 0.9999999999999716, 1.0, 0.9997872270709551, 1.0, 1.0, 0.999999999985647, 0.9999999245599469, 0.7908455247188265, 0.9999938955806317, 1.0, 0.9999999965472313, 1.0, 1.0, 0.9999999988494892, 0.9999999999998579, 0.9999999999989484, 0.999997361862695, 1.0, 0.9048937711638929, 0.9999999886187539, 0.9994291862602648, 0.9999886983343352, 0.821943540351726, 0.9999999999585611, 1.0, 0.9999999999999147, 1.0, 1.0, 0.572236164244344, 1.0, 1.0, 0.9779602885250522, 1.0, 1.0, 0.5291947303775674, 0.9999999999998863, 1.0, 1.0, 0.7291975956842938, 1.0, 1.0, 0.9999999951633924, 0.9957725584322339, 1.0, 1.0, 0.9992672575768569, 0.9999999850989526, 0.9999870327865247, 0.9999999999999716, 0.9999999773809523, 1.0, 1.0, 0.9999985051684436, 1.0, 0.9999999672634777, 1.0, 0.9630511259551421, 1.0, 1.0, 0.9959608883029473, 0.9963930475332692, 1.0, 1.0, 1.0, 0.9999999988140758, 0.9950641363682722, 0.9999999999716067, 0.9999999933903609, 0.9999702597668053, 1.0, 1.0, 1.0, 1.0, 0.9999999594125065, 0.9995164414102152, 1.0, 1.0, 1.0, 1.0, 0.9849195089029642, 1.0, 0.9999999999998295, 0.9989879861601801, 1.0, 1.0, 1.0, 0.999999996611308, 0.9999999688656094, 1.0, 0.7027215843325332, 1.0, 1.0, 1.0, 0.9995707086289415, 1.0, 0.973303452147433, 0.9999999999304521, 0.999982599646145, 1.0, 0.9991798648099548, 1.0, 0.9999999999999716, 1.0, 0.9999704897935685, 1.0, 0.9998572812059265, 1.0, 1.0, 0.9890780006746294, 1.0, 0.9999999999996874, 1.0, 0.9999999999987494, 1.0, 0.9852879608961369, 1.0, 1.0, 1.0, 0.9999999999992042, 1.0, 0.9999999994512052, 0.9999999999592717, 1.0, 1.0, 0.992663494990446, 1.0, 1.0, 1.0, 1.0, 1.0, 1.0, 0.9999999998916849, 1.0, 1.0, 1.0, 0.9999720432849677, 0.9998801547478344, 0.9999997555092947, 0.9999999889880941, 1.0, 0.9649448204229185, 0.9999999999996589, 0.9999999999275815, 1.0, 1.0, 0.9999999999999147, 0.9999979014607298, 0.9995061323234141, 1.0, 0.9999999997874056, 0.9999973209588195, 1.0, 0.6262383593285102, 1.0, 0.9898269697979638, 0.9999999998822489, 1.0, 1.0, 1.0, 0.9999999999999432, 0.9999999999848797, 0.999999999999261, 1.0, 1.0, 0.999999999988205, 0.954464042619949, 1.0, 0.9998590217120099, 1.0, 1.0, 0.9999999075596449, 1.0, 1.0, 0.9999999981125143, 0.9999999454533693, 0.9999999998836415, 0.9999999999999716, 0.9999924958500418, 0.8853990798732001, 1.0, 0.9999999978954008, 1.0, 0.9992153312788452, 0.9999999999988916, 0.9999997762326098, 1.0, 0.9962681473128583, 0.9999999253137474, 1.0, 0.9999533196966143, 0.8071746865654266, 0.9999955052501096, 0.9999999983088799, 1.0, 1.0, 0.9999999999718057, 1.0, 1.0, 0.999999237988681, 1.0, 1.0, 0.9999762135836847, 1.0, 0.9999999999294573, 1.0, 1.0, 0.9999998178129653, 0.9958089634791254, 1.0, 1.0, 0.99521620947725, 1.0, 1.0, 1.0, 0.9999999999944862, 1.0, 0.9999999999973426, 0.9999999994221014, 0.9999999987412593, 1.0, 1.0, 0.9392780992938765, 0.9999999999839702, 0.9858180960328446, 1.0, 1.0, 1.0, 0.9395724315033502, 1.0, 1.0, 0.7531943150705935, 1.0, 0.9999999999999716, 1.0, 0.9800045648801056, 1.0, 0.9998934635708475, 1.0, 0.5303833842130113, 0.9992901527310831, 1.0, 1.0, 0.999999999458538, 0.9999999819427502, 0.9999996876910221, 1.0, 0.9998627208508432, 0.9998211043558839, 0.9999999999996589, 1.0, 1.0, 0.9906996309568318, 0.5209085260657527, 0.9999999999963904, 0.8873372387143299, 0.9999999975107983, 1.0, 1.0, 0.8965641373989225, 0.9928101065360415, 0.9999999997459383, 0.9958314973740056, 1.0, 0.995834964173424, 0.9999999999994884, 0.9999999999956515, 0.9999999976399181, 0.9981313458488031, 0.9999378018400804, 1.0, 0.9999981704164579, 1.0, 1.0, 0.9999999999998863, 0.9945728285874672, 1.0, 0.9999983873460323, 0.9999999714363246, 0.9999999999851354, 0.9999999999999716, 1.0, 1.0, 1.0, 0.9376940658218824, 0.9999999606614275, 1.0, 0.9998724304199853, 1.0, 1.0, 1.0, 0.9943509692106604, 1.0, 1.0, 0.9915365525538964, 1.0, 0.9999999999909619, 1.0, 1.0, 0.9999135132142529, 0.9818639467736772, 0.9978802359817538, 0.9999999611955851, 0.999373406139323, 0.9999997619106294, 1.0, 1.0, 0.9998853824568925, 0.9954712709146543]\n"
          ]
        }
      ]
    },
    {
      "cell_type": "code",
      "source": [
        "for i in range(len(buckets)):\n",
        "    if (total[i] > 0): \n",
        "      accuracy = float(correct[i]) / float(total[i])\n",
        "      print('p(pred) <= %.13f    total = %3d    accuracy = %.3f' %(buckets[i], total[i], accuracy))"
      ],
      "metadata": {
        "colab": {
          "base_uri": "https://localhost:8080/"
        },
        "id": "4c2jvDpjcMJF",
        "outputId": "8ed9ab88-4527-4b74-ff6f-e819ab9ff279"
      },
      "execution_count": null,
      "outputs": [
        {
          "output_type": "stream",
          "name": "stdout",
          "text": [
            "p(pred) <= 0.9000000000000    total =  50    accuracy = 0.260\n",
            "p(pred) <= 0.9990000000000    total = 104    accuracy = 0.548\n",
            "p(pred) <= 0.9999900000000    total =  93    accuracy = 0.656\n",
            "p(pred) <= 0.9999999000000    total =  73    accuracy = 0.685\n",
            "p(pred) <= 0.9999999990000    total =  91    accuracy = 0.846\n",
            "p(pred) <= 0.9999999999900    total =  77    accuracy = 0.896\n",
            "p(pred) <= 0.9999999999999    total =  59    accuracy = 0.864\n",
            "p(pred) <= 1.0000000000000    total = 453    accuracy = 0.971\n"
          ]
        }
      ]
    },
    {
      "cell_type": "markdown",
      "metadata": {
        "id": "7PYLz-1STzOu"
      },
      "source": [
        "ANSWER: "
      ]
    },
    {
      "cell_type": "markdown",
      "metadata": {
        "id": "tIeZGen1TzOv"
      },
      "source": [
        "### Question 7 EXTRA CREDIT: Feature generation\n",
        "---\n",
        "1. Design new features to see if you can produce a Bernoulli Naive Bayes model with better performance.\n",
        "1. Show the accuracy of a model based on the original features and the accuracy of the model based on the new features.\n",
        "\n",
        "**Note that improving results is actually hard.**\n",
        "\n",
        "Here are a few ideas to get you started:\n",
        "- Try summing or averaging the pixel values in each row.\n",
        "- Try summing or averaging the pixel values in each column.\n",
        "- Try summing or averaging the pixel values in each square block. (pick various block sizes)\n",
        "- Try implementing [*maxpool*](https://computersciencewiki.org/index.php/Max-pooling_/_Pooling) features, taking a rolling maximum over sub-regions of a the image. \n",
        "- In any case, you can either transform the original data or add new \"features\" to it.\n",
        "\n",
        "Notes:\n",
        "* Train on the mini train set (enhanced to comprise the new features).\n",
        "* Evaulate performance on the dev set.\n",
        "* Ensure that your code is well commented."
      ]
    },
    {
      "cell_type": "code",
      "metadata": {
        "id": "6GtYu5ezTzOv"
      },
      "source": [
        "def Q7():\n",
        "\n",
        "### STUDENT START ###\n",
        "\n",
        "### STUDENT END ###\n",
        "\n",
        "Q7()"
      ],
      "execution_count": null,
      "outputs": []
    },
    {
      "cell_type": "code",
      "metadata": {
        "id": "4hOkGA6Rufd6"
      },
      "source": [
        ""
      ],
      "execution_count": null,
      "outputs": []
    }
  ]
}