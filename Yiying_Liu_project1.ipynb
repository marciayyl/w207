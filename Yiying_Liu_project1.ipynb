{
  "cells": [
    {
      "cell_type": "markdown",
      "metadata": {
        "id": "view-in-github",
        "colab_type": "text"
      },
      "source": [
        "<a href=\"https://colab.research.google.com/github/marciayyl/w207/blob/main/Yiying_Liu_project1.ipynb\" target=\"_parent\"><img src=\"https://colab.research.google.com/assets/colab-badge.svg\" alt=\"Open In Colab\"/></a>"
      ]
    },
    {
      "cell_type": "markdown",
      "metadata": {
        "id": "iNALzZOKTzOS"
      },
      "source": [
        "\n",
        "# Project 1: Digit Classification with KNN\n"
      ]
    },
    {
      "cell_type": "markdown",
      "metadata": {
        "id": "EBRkdIUUTzOV"
      },
      "source": [
        "# Intro\n",
        "---\n",
        "In this project, you'll implement your own image recognition system for classifying digits. Read through the code and the instructions carefully and add your own code where indicated. Each problem can be addressed succinctly with the included packages -- please don't add any more. \n",
        "As always, you're welcome to work on the project in groups and discuss ideas over Slack, but <b> please prepare your own write-up (with your own code). </b> To be safe, please credit any sources used.\n",
        "\n",
        "\n",
        "## Grading\n",
        "---\n",
        " - Make sure to answer every part in every question.\n",
        " - There are 5 questions, each worth an equal number of points.\n",
        " - Read carefully what is asked including the notes.\n",
        " - Additional points may be deducted if:\n",
        "   - the code is not clean or is not well commented\n",
        "   - the functions or answers are excessively long\n",
        "\n",
        "## Requirements:\n",
        "---\n",
        "1. Comment your code.\n",
        "1. Each graph should have a title, labels for each axis, and (if needed) a legend. Each graph should be understandable on its own.\n",
        "1. All code must run on colab.research.google.com\n",
        "1. You should not import any additional libraries.\n",
        "1. Try and minimize the use of the global namespace (meaning, keep things inside functions).\n",
        "\n",
        "## Additional reading and notes\n",
        "---\n",
        "\n",
        "If you are looking to get started with Tensorflow, you can read through this tutorial: https://www.tensorflow.org/tutorials/keras/classification. It uses a dataset called \"fashion_mnist\", which is identical in structure to the original digit mnist, but uses images of clothing rather than images of digits. The number of training examples and number of labels is the same. In fact, you can simply replace the code that loads \"fashion_mnist\" with \"mnist\" and everything should work fine.\n",
        "\n",
        "Additionally, if you're interested, check out these links related to digit recognition:\n",
        "\n",
        "* Yann Lecun's MNIST benchmarks: http://yann.lecun.com/exdb/mnist/\n",
        "* Stanford Streetview research and data: http://ufldl.stanford.edu/housenumbers/"
      ]
    },
    {
      "cell_type": "code",
      "execution_count": 44,
      "metadata": {
        "id": "r8u7GmsDTzOX"
      },
      "outputs": [],
      "source": [
        "# This tells matplotlib not to try opening a new window for each plot.\n",
        "%matplotlib inline\n",
        "\n",
        "# Import a bunch of libraries.\n",
        "import time\n",
        "import numpy as np\n",
        "import pandas as pd\n",
        "import matplotlib.pyplot as plt\n",
        "from matplotlib.ticker import MultipleLocator\n",
        "from sklearn.pipeline import Pipeline\n",
        "from sklearn.datasets import fetch_openml\n",
        "from sklearn.neighbors import KNeighborsClassifier\n",
        "from sklearn.metrics import confusion_matrix\n",
        "from sklearn.linear_model import LinearRegression\n",
        "from sklearn.naive_bayes import BernoulliNB\n",
        "from sklearn.naive_bayes import MultinomialNB\n",
        "from sklearn.naive_bayes import GaussianNB\n",
        "from sklearn.model_selection import GridSearchCV\n",
        "from sklearn.metrics import classification_report\n",
        "\n",
        "# Set the randomizer seed so results are the same each time.\n",
        "np.random.seed(0)"
      ]
    },
    {
      "cell_type": "code",
      "execution_count": 45,
      "metadata": {
        "id": "bWOWoq_dTzOY",
        "colab": {
          "base_uri": "https://localhost:8080/",
          "height": 37
        },
        "outputId": "58417020-ca93-4ac3-ad4a-66cce643d5ed"
      },
      "outputs": [
        {
          "output_type": "execute_result",
          "data": {
            "application/vnd.google.colaboratory.intrinsic+json": {
              "type": "string"
            },
            "text/plain": [
              "'1.0.2'"
            ]
          },
          "metadata": {},
          "execution_count": 45
        }
      ],
      "source": [
        "import sklearn\n",
        "sklearn.__version__"
      ]
    },
    {
      "cell_type": "markdown",
      "metadata": {
        "id": "J1-CAjA9TzOa"
      },
      "source": [
        "Load the data. Notice that the data gets partitioned into training, development, and test sets. Also, a small subset of the training data called mini_train_data and mini_train_labels gets defined, which you should use in all the experiments below, unless otherwise noted."
      ]
    },
    {
      "cell_type": "code",
      "execution_count": 67,
      "metadata": {
        "id": "f9kPmCW0TzOb",
        "colab": {
          "base_uri": "https://localhost:8080/"
        },
        "outputId": "6e627d96-c77e-4ac3-8e40-e57e598f5682"
      },
      "outputs": [
        {
          "output_type": "stream",
          "name": "stdout",
          "text": [
            "data shape:  (70000, 784)\n",
            "label shape: (70000,)\n"
          ]
        }
      ],
      "source": [
        "# Load the digit data from https://www.openml.org/d/554 or from default local location '~/scikit_learn_data/...'\n",
        "X, Y = fetch_openml(name='mnist_784', as_frame=False, return_X_y=True, cache=False)\n",
        "\n",
        "# Rescale grayscale values to [0,1].\n",
        "X = X / 255.0\n",
        "\n",
        "# Shuffle the input: create a random permutation of the integers between 0 and the number of data points and apply this\n",
        "# permutation to X and Y.\n",
        "# NOTE: Each time you run this cell, you'll re-shuffle the data, resulting in a different ordering.\n",
        "shuffle = np.random.permutation(np.arange(X.shape[0]))\n",
        "X, Y = X[shuffle], Y[shuffle]\n",
        "\n",
        "print('data shape: ', X.shape)\n",
        "print('label shape:', Y.shape)\n",
        "\n",
        "# Set some variables to hold test, dev, and training data.\n",
        "test_data, test_labels = X[61000:], Y[61000:]\n",
        "dev_data, dev_labels = X[60000:61000], Y[60000:61000]\n",
        "train_data, train_labels = X[:60000], Y[:60000]\n",
        "mini_train_data, mini_train_labels = X[:1000], Y[:1000]"
      ]
    },
    {
      "cell_type": "code",
      "execution_count": 47,
      "metadata": {
        "colab": {
          "base_uri": "https://localhost:8080/"
        },
        "id": "e5CT1_vj-y1q",
        "outputId": "93e4f81d-158b-43c4-f3f0-75a25fc2827c"
      },
      "outputs": [
        {
          "output_type": "stream",
          "name": "stdout",
          "text": [
            "2.7.0\n"
          ]
        }
      ],
      "source": [
        "import tensorflow as tf\n",
        "\n",
        "# Helper libraries\n",
        "import numpy as np\n",
        "import matplotlib.pyplot as plt\n",
        "\n",
        "print(tf.__version__)"
      ]
    },
    {
      "cell_type": "code",
      "execution_count": 48,
      "metadata": {
        "id": "z7dUeUl_-y1q"
      },
      "outputs": [],
      "source": [
        "fashion_mnist = tf.keras.datasets.fashion_mnist\n",
        "\n",
        "(train_images, train_labels), (test_images, test_labels) = fashion_mnist.load_data()"
      ]
    },
    {
      "cell_type": "code",
      "source": [
        "class_names = ['T-shirt/top', 'Trouser', 'Pullover', 'Dress', 'Coat',\n",
        "               'Sandal', 'Shirt', 'Sneaker', 'Bag', 'Ankle boot']"
      ],
      "metadata": {
        "id": "lBpBTXpX_nEB"
      },
      "execution_count": 49,
      "outputs": []
    },
    {
      "cell_type": "code",
      "source": [
        "train_images.shape"
      ],
      "metadata": {
        "colab": {
          "base_uri": "https://localhost:8080/"
        },
        "id": "6-loGxT8_pO6",
        "outputId": "4bf8ac38-a584-486c-e9b4-b752c8e6c5d9"
      },
      "execution_count": 50,
      "outputs": [
        {
          "output_type": "execute_result",
          "data": {
            "text/plain": [
              "(60000, 28, 28)"
            ]
          },
          "metadata": {},
          "execution_count": 50
        }
      ]
    },
    {
      "cell_type": "code",
      "source": [
        "len(train_labels)"
      ],
      "metadata": {
        "colab": {
          "base_uri": "https://localhost:8080/"
        },
        "id": "Bvg_mFCU_rU8",
        "outputId": "c8045f60-bd9e-4c3d-d640-c085d354f886"
      },
      "execution_count": 51,
      "outputs": [
        {
          "output_type": "execute_result",
          "data": {
            "text/plain": [
              "60000"
            ]
          },
          "metadata": {},
          "execution_count": 51
        }
      ]
    },
    {
      "cell_type": "code",
      "source": [
        "train_labels"
      ],
      "metadata": {
        "colab": {
          "base_uri": "https://localhost:8080/"
        },
        "id": "3hoT2I5a_tc7",
        "outputId": "34fcd6e7-b469-4787-f505-d7ce52d26fbd"
      },
      "execution_count": 52,
      "outputs": [
        {
          "output_type": "execute_result",
          "data": {
            "text/plain": [
              "array([9, 0, 0, ..., 3, 0, 5], dtype=uint8)"
            ]
          },
          "metadata": {},
          "execution_count": 52
        }
      ]
    },
    {
      "cell_type": "code",
      "source": [
        "test_images.shape"
      ],
      "metadata": {
        "colab": {
          "base_uri": "https://localhost:8080/"
        },
        "id": "QFDqmLGw_0DH",
        "outputId": "e6ecefd1-bcf7-41ed-de19-80327012e4da"
      },
      "execution_count": 53,
      "outputs": [
        {
          "output_type": "execute_result",
          "data": {
            "text/plain": [
              "(10000, 28, 28)"
            ]
          },
          "metadata": {},
          "execution_count": 53
        }
      ]
    },
    {
      "cell_type": "code",
      "source": [
        "len(test_labels)"
      ],
      "metadata": {
        "colab": {
          "base_uri": "https://localhost:8080/"
        },
        "id": "5XuBODmL_32k",
        "outputId": "d2f59afb-3491-4a64-c917-3fa9e14ba85e"
      },
      "execution_count": 54,
      "outputs": [
        {
          "output_type": "execute_result",
          "data": {
            "text/plain": [
              "10000"
            ]
          },
          "metadata": {},
          "execution_count": 54
        }
      ]
    },
    {
      "cell_type": "code",
      "source": [
        "plt.figure()\n",
        "plt.imshow(train_images[0])\n",
        "plt.colorbar()\n",
        "plt.grid(False)\n",
        "plt.show()"
      ],
      "metadata": {
        "colab": {
          "base_uri": "https://localhost:8080/",
          "height": 265
        },
        "id": "_tY9TSW8_5n-",
        "outputId": "82091a73-b01b-485d-9ded-3366202fcdbf"
      },
      "execution_count": 55,
      "outputs": [
        {
          "output_type": "display_data",
          "data": {
            "image/png": "[encoded data removed]",
            "text/plain": [
              "<Figure size 432x288 with 2 Axes>"
            ]
          },
          "metadata": {
            "needs_background": "light"
          }
        }
      ]
    },
    {
      "cell_type": "code",
      "source": [
        "train_images = train_images / 255.0\n",
        "\n",
        "test_images = test_images / 255.0"
      ],
      "metadata": {
        "id": "ejcqfK65_85h"
      },
      "execution_count": 56,
      "outputs": []
    },
    {
      "cell_type": "code",
      "source": [
        "plt.figure(figsize=(10,10))\n",
        "for i in range(25):\n",
        "    plt.subplot(5,5,i+1)\n",
        "    plt.xticks([])\n",
        "    plt.yticks([])\n",
        "    plt.grid(False)\n",
        "    plt.imshow(train_images[i], cmap=plt.cm.binary)\n",
        "    plt.xlabel(class_names[train_labels[i]])\n",
        "plt.show()"
      ],
      "metadata": {
        "colab": {
          "base_uri": "https://localhost:8080/",
          "height": 589
        },
        "id": "aRK7QQzk_-3j",
        "outputId": "6682ae19-f951-4094-9e99-5fc130ade294"
      },
      "execution_count": 57,
      "outputs": [
        {
          "output_type": "display_data",
          "data": {
            "image/png": "[encoded data removed]",
            "text/plain": [
              "<Figure size 720x720 with 25 Axes>"
            ]
          },
          "metadata": {}
        }
      ]
    },
    {
      "cell_type": "code",
      "source": [
        "# Load the digit data from https://www.openml.org/d/554 or from default local location '~/scikit_learn_data/...'\n",
        "X, Y = fetch_openml(name='mnist_784', as_frame=False, return_X_y=True, cache=False)\n",
        "\n",
        "# Rescale grayscale values to [0,1].\n",
        "X = X / 255.0\n",
        "\n",
        "# Shuffle the input: create a random permutation of the integers between 0 and the number of data points and apply this\n",
        "# permutation to X and Y.\n",
        "# NOTE: Each time you run this cell, you'll re-shuffle the data, resulting in a different ordering.\n",
        "shuffle = np.random.permutation(np.arange(X.shape[0]))\n",
        "X, Y = X[shuffle], Y[shuffle]\n",
        "\n",
        "print('data shape: ', X.shape)\n",
        "print('label shape:', Y.shape)\n",
        "\n",
        "# Set some variables to hold test, dev, and training data.\n",
        "test_data, test_labels = X[61000:], Y[61000:]\n",
        "dev_data, dev_labels = X[60000:61000], Y[60000:61000]\n",
        "train_data, train_labels = X[:60000], Y[:60000]\n",
        "mini_train_data, mini_train_labels = X[:1000], Y[:1000]"
      ],
      "metadata": {
        "colab": {
          "base_uri": "https://localhost:8080/"
        },
        "id": "wxxjPAGXwcNr",
        "outputId": "8b078ed7-e732-49d0-966a-5e1b4ad71249"
      },
      "execution_count": 69,
      "outputs": [
        {
          "output_type": "stream",
          "name": "stdout",
          "text": [
            "data shape:  (70000, 784)\n",
            "label shape: (70000,)\n"
          ]
        }
      ]
    },
    {
      "cell_type": "code",
      "source": [
        "test_labels"
      ],
      "metadata": {
        "colab": {
          "base_uri": "https://localhost:8080/"
        },
        "id": "4q6daexMxjcB",
        "outputId": "f2808b8a-39ea-45a7-95be-c0d1997deb12"
      },
      "execution_count": 78,
      "outputs": [
        {
          "output_type": "execute_result",
          "data": {
            "text/plain": [
              "array(['2', '6', '1', ..., '8', '1', '3'], dtype=object)"
            ]
          },
          "metadata": {},
          "execution_count": 78
        }
      ]
    },
    {
      "cell_type": "code",
      "source": [
        "test_data"
      ],
      "metadata": {
        "colab": {
          "base_uri": "https://localhost:8080/"
        },
        "id": "GWYKEuCzxhRf",
        "outputId": "6dca41bf-50ef-4410-f9bc-d001511d9fcf"
      },
      "execution_count": 72,
      "outputs": [
        {
          "output_type": "execute_result",
          "data": {
            "text/plain": [
              "array([[0., 0., 0., ..., 0., 0., 0.],\n",
              "       [0., 0., 0., ..., 0., 0., 0.],\n",
              "       [0., 0., 0., ..., 0., 0., 0.],\n",
              "       ...,\n",
              "       [0., 0., 0., ..., 0., 0., 0.],\n",
              "       [0., 0., 0., ..., 0., 0., 0.],\n",
              "       [0., 0., 0., ..., 0., 0., 0.]])"
            ]
          },
          "metadata": {},
          "execution_count": 72
        }
      ]
    },
    {
      "cell_type": "code",
      "source": [
        "dev_data"
      ],
      "metadata": {
        "colab": {
          "base_uri": "https://localhost:8080/"
        },
        "id": "gotYodUDyNvn",
        "outputId": "bec71e5d-0bf3-49be-e1b7-990901939fd1"
      },
      "execution_count": 79,
      "outputs": [
        {
          "output_type": "execute_result",
          "data": {
            "text/plain": [
              "array([[0., 0., 0., ..., 0., 0., 0.],\n",
              "       [0., 0., 0., ..., 0., 0., 0.],\n",
              "       [0., 0., 0., ..., 0., 0., 0.],\n",
              "       ...,\n",
              "       [0., 0., 0., ..., 0., 0., 0.],\n",
              "       [0., 0., 0., ..., 0., 0., 0.],\n",
              "       [0., 0., 0., ..., 0., 0., 0.]])"
            ]
          },
          "metadata": {},
          "execution_count": 79
        }
      ]
    },
    {
      "cell_type": "code",
      "source": [
        "dev_labels"
      ],
      "metadata": {
        "colab": {
          "base_uri": "https://localhost:8080/"
        },
        "id": "HYn47MnRyPiw",
        "outputId": "8cc3d394-0497-4e9e-d034-badbc1b9b4fd"
      },
      "execution_count": 80,
      "outputs": [
        {
          "output_type": "execute_result",
          "data": {
            "text/plain": [
              "array(['7', '6', '7', '9', '1', '5', '3', '2', '3', '7', '7', '6', '4',\n",
              "       '0', '5', '9', '0', '0', '3', '1', '8', '5', '9', '8', '4', '3',\n",
              "       '3', '5', '7', '1', '0', '6', '9', '4', '9', '6', '2', '5', '7',\n",
              "       '6', '3', '1', '1', '1', '8', '6', '7', '9', '8', '7', '1', '2',\n",
              "       '7', '7', '1', '4', '9', '2', '0', '1', '7', '3', '2', '8', '7',\n",
              "       '3', '9', '7', '8', '8', '5', '4', '7', '6', '9', '5', '4', '7',\n",
              "       '6', '3', '6', '7', '2', '1', '6', '0', '3', '8', '1', '6', '5',\n",
              "       '8', '1', '2', '2', '8', '0', '0', '5', '5', '9', '2', '9', '7',\n",
              "       '3', '1', '9', '6', '9', '7', '7', '1', '8', '2', '1', '9', '2',\n",
              "       '3', '2', '4', '4', '1', '6', '2', '7', '2', '3', '5', '7', '0',\n",
              "       '6', '0', '0', '2', '0', '9', '2', '0', '4', '3', '5', '6', '2',\n",
              "       '3', '8', '4', '0', '3', '1', '2', '9', '4', '8', '6', '8', '8',\n",
              "       '4', '6', '1', '7', '8', '2', '6', '5', '3', '6', '1', '6', '5',\n",
              "       '3', '8', '5', '1', '2', '8', '1', '0', '6', '2', '3', '8', '4',\n",
              "       '8', '7', '5', '6', '0', '9', '2', '5', '0', '1', '5', '1', '5',\n",
              "       '3', '8', '5', '4', '4', '5', '8', '2', '4', '9', '4', '1', '7',\n",
              "       '3', '1', '7', '7', '9', '9', '6', '7', '6', '7', '0', '7', '4',\n",
              "       '0', '2', '3', '0', '2', '2', '8', '5', '7', '3', '5', '0', '2',\n",
              "       '1', '4', '1', '9', '0', '7', '9', '4', '2', '9', '4', '8', '8',\n",
              "       '7', '8', '0', '1', '1', '4', '0', '3', '8', '6', '0', '2', '8',\n",
              "       '9', '0', '6', '2', '5', '6', '4', '0', '9', '6', '7', '0', '0',\n",
              "       '8', '9', '2', '6', '1', '4', '7', '9', '3', '1', '1', '5', '0',\n",
              "       '6', '8', '0', '0', '5', '9', '8', '8', '4', '0', '8', '1', '5',\n",
              "       '9', '3', '5', '5', '2', '2', '8', '4', '3', '7', '6', '8', '5',\n",
              "       '9', '5', '4', '5', '2', '7', '9', '6', '3', '4', '5', '5', '8',\n",
              "       '4', '0', '9', '5', '7', '4', '4', '2', '7', '7', '2', '9', '0',\n",
              "       '1', '7', '0', '4', '0', '0', '5', '0', '2', '4', '8', '4', '7',\n",
              "       '0', '2', '2', '2', '9', '7', '1', '0', '2', '4', '4', '6', '6',\n",
              "       '0', '7', '6', '3', '3', '6', '4', '7', '7', '4', '1', '4', '7',\n",
              "       '4', '8', '3', '1', '0', '8', '8', '1', '1', '2', '3', '4', '4',\n",
              "       '5', '9', '5', '2', '4', '7', '5', '9', '4', '4', '3', '6', '3',\n",
              "       '9', '3', '8', '7', '8', '9', '3', '8', '8', '9', '3', '9', '8',\n",
              "       '2', '8', '8', '1', '9', '3', '2', '5', '4', '9', '4', '7', '5',\n",
              "       '3', '7', '5', '0', '3', '3', '7', '9', '0', '9', '5', '8', '0',\n",
              "       '1', '0', '3', '8', '4', '6', '4', '7', '5', '0', '5', '3', '9',\n",
              "       '1', '8', '0', '2', '4', '0', '1', '3', '6', '8', '9', '2', '5',\n",
              "       '4', '9', '2', '2', '3', '0', '2', '1', '1', '7', '7', '1', '0',\n",
              "       '7', '3', '1', '2', '7', '0', '9', '9', '9', '0', '9', '2', '7',\n",
              "       '0', '8', '2', '2', '7', '7', '8', '0', '6', '6', '1', '7', '2',\n",
              "       '6', '3', '3', '2', '0', '6', '2', '9', '4', '8', '9', '0', '9',\n",
              "       '8', '4', '3', '3', '8', '9', '1', '1', '0', '8', '2', '4', '2',\n",
              "       '0', '1', '4', '3', '4', '5', '1', '5', '7', '7', '9', '0', '9',\n",
              "       '0', '8', '6', '9', '3', '3', '2', '6', '9', '4', '0', '4', '2',\n",
              "       '9', '1', '1', '8', '1', '9', '6', '6', '2', '4', '6', '9', '8',\n",
              "       '2', '0', '8', '6', '6', '5', '4', '9', '0', '0', '2', '9', '8',\n",
              "       '2', '7', '0', '6', '0', '5', '3', '6', '7', '7', '9', '9', '0',\n",
              "       '3', '7', '5', '8', '2', '3', '0', '8', '0', '6', '0', '0', '8',\n",
              "       '5', '9', '2', '6', '5', '3', '3', '9', '8', '9', '7', '9', '5',\n",
              "       '8', '2', '0', '6', '5', '9', '6', '9', '4', '9', '0', '3', '3',\n",
              "       '5', '7', '7', '8', '8', '7', '0', '3', '7', '6', '6', '3', '6',\n",
              "       '7', '4', '8', '0', '4', '7', '8', '3', '9', '0', '1', '5', '5',\n",
              "       '0', '3', '0', '7', '9', '8', '1', '2', '4', '3', '8', '1', '3',\n",
              "       '8', '6', '6', '9', '1', '3', '1', '7', '3', '6', '5', '3', '2',\n",
              "       '2', '6', '2', '3', '7', '4', '8', '0', '3', '2', '5', '3', '1',\n",
              "       '1', '9', '7', '4', '1', '3', '8', '3', '1', '2', '4', '9', '8',\n",
              "       '5', '2', '0', '1', '1', '4', '4', '5', '5', '3', '4', '9', '0',\n",
              "       '9', '0', '8', '8', '9', '1', '6', '9', '8', '6', '7', '0', '5',\n",
              "       '9', '3', '4', '2', '3', '1', '3', '4', '0', '4', '1', '6', '1',\n",
              "       '2', '9', '0', '3', '1', '6', '8', '2', '2', '5', '0', '8', '2',\n",
              "       '1', '8', '5', '7', '5', '0', '7', '7', '3', '1', '6', '4', '5',\n",
              "       '5', '4', '0', '6', '0', '7', '6', '9', '0', '6', '3', '6', '1',\n",
              "       '6', '2', '0', '4', '6', '5', '7', '7', '3', '3', '0', '1', '4',\n",
              "       '8', '3', '4', '0', '6', '9', '2', '3', '9', '6', '3', '6', '0',\n",
              "       '3', '7', '1', '8', '4', '0', '9', '0', '0', '6', '6', '5', '1',\n",
              "       '4', '2', '4', '6', '7', '2', '0', '0', '3', '3', '3', '6', '1',\n",
              "       '6', '0', '3', '1', '2', '5', '4', '6', '3', '1', '0', '2', '7',\n",
              "       '6', '7', '6', '3', '0', '6', '7', '9', '7', '5', '0', '9', '7',\n",
              "       '8', '8', '8', '1', '9', '5', '9', '9', '6', '2', '3', '5', '0',\n",
              "       '9', '6', '4', '0', '7', '5', '4', '8', '2', '2', '0', '3', '6',\n",
              "       '6', '5', '5', '1', '7', '9', '3', '5', '6', '3', '0', '2', '7',\n",
              "       '1', '6', '4', '3', '0', '6', '2', '2', '4', '1', '1', '7', '8',\n",
              "       '4', '3', '4', '4', '2', '9', '1', '0', '4', '8', '3', '1', '9',\n",
              "       '1', '5', '1', '7', '5', '4', '5', '5', '4', '0', '2', '1', '5',\n",
              "       '7', '7', '1', '1', '9', '0', '4', '6', '7', '0', '9', '7', '6',\n",
              "       '6', '3', '5', '8', '0', '2', '5', '8', '9', '5', '8', '7', '8',\n",
              "       '3', '9', '5', '0', '3', '9', '5', '4', '7', '2', '3', '7', '7',\n",
              "       '7', '1', '2', '1', '2', '6', '2', '7', '9', '6', '1', '2'],\n",
              "      dtype=object)"
            ]
          },
          "metadata": {},
          "execution_count": 80
        }
      ]
    },
    {
      "cell_type": "code",
      "source": [
        "train_data"
      ],
      "metadata": {
        "colab": {
          "base_uri": "https://localhost:8080/"
        },
        "id": "VTm3ZNOFyTN6",
        "outputId": "41602334-acb7-4297-aeb2-83e44624fe46"
      },
      "execution_count": 81,
      "outputs": [
        {
          "output_type": "execute_result",
          "data": {
            "text/plain": [
              "array([[0., 0., 0., ..., 0., 0., 0.],\n",
              "       [0., 0., 0., ..., 0., 0., 0.],\n",
              "       [0., 0., 0., ..., 0., 0., 0.],\n",
              "       ...,\n",
              "       [0., 0., 0., ..., 0., 0., 0.],\n",
              "       [0., 0., 0., ..., 0., 0., 0.],\n",
              "       [0., 0., 0., ..., 0., 0., 0.]])"
            ]
          },
          "metadata": {},
          "execution_count": 81
        }
      ]
    },
    {
      "cell_type": "code",
      "source": [
        "train_labels"
      ],
      "metadata": {
        "colab": {
          "base_uri": "https://localhost:8080/"
        },
        "id": "GQ8B4sQTyZRB",
        "outputId": "d9839028-5931-436d-9aae-d69c6e12b350"
      },
      "execution_count": 82,
      "outputs": [
        {
          "output_type": "execute_result",
          "data": {
            "text/plain": [
              "array(['4', '9', '9', ..., '4', '1', '0'], dtype=object)"
            ]
          },
          "metadata": {},
          "execution_count": 82
        }
      ]
    },
    {
      "cell_type": "code",
      "source": [
        "mini_train_data"
      ],
      "metadata": {
        "colab": {
          "base_uri": "https://localhost:8080/"
        },
        "id": "X_8BUF7myc7B",
        "outputId": "e739178b-9671-474f-e180-06eaea5bbb42"
      },
      "execution_count": 83,
      "outputs": [
        {
          "output_type": "execute_result",
          "data": {
            "text/plain": [
              "array([[0., 0., 0., ..., 0., 0., 0.],\n",
              "       [0., 0., 0., ..., 0., 0., 0.],\n",
              "       [0., 0., 0., ..., 0., 0., 0.],\n",
              "       ...,\n",
              "       [0., 0., 0., ..., 0., 0., 0.],\n",
              "       [0., 0., 0., ..., 0., 0., 0.],\n",
              "       [0., 0., 0., ..., 0., 0., 0.]])"
            ]
          },
          "metadata": {},
          "execution_count": 83
        }
      ]
    },
    {
      "cell_type": "code",
      "source": [
        "mini_train_labels"
      ],
      "metadata": {
        "colab": {
          "base_uri": "https://localhost:8080/"
        },
        "id": "9XFdxxqcydwT",
        "outputId": "4f809ff3-6f32-48f7-b7d0-592cc4cfb851"
      },
      "execution_count": 84,
      "outputs": [
        {
          "output_type": "execute_result",
          "data": {
            "text/plain": [
              "array(['4', '9', '9', '3', '7', '4', '8', '5', '2', '5', '9', '2', '0',\n",
              "       '8', '3', '9', '3', '5', '3', '3', '8', '2', '4', '7', '9', '1',\n",
              "       '1', '5', '8', '7', '0', '4', '6', '0', '3', '5', '9', '0', '1',\n",
              "       '6', '6', '5', '3', '2', '7', '4', '4', '6', '4', '4', '9', '5',\n",
              "       '5', '5', '7', '9', '4', '9', '3', '9', '0', '2', '0', '1', '9',\n",
              "       '4', '7', '1', '7', '2', '4', '1', '2', '4', '8', '1', '4', '1',\n",
              "       '8', '9', '6', '1', '2', '3', '2', '5', '6', '5', '1', '7', '5',\n",
              "       '2', '1', '7', '2', '5', '9', '4', '6', '6', '6', '1', '8', '9',\n",
              "       '3', '8', '4', '6', '7', '7', '3', '8', '6', '7', '6', '6', '4',\n",
              "       '7', '1', '1', '9', '0', '1', '3', '4', '9', '1', '5', '1', '5',\n",
              "       '1', '5', '1', '7', '3', '3', '5', '2', '7', '5', '2', '9', '8',\n",
              "       '4', '1', '4', '1', '9', '7', '6', '9', '0', '3', '3', '3', '2',\n",
              "       '9', '1', '8', '5', '3', '9', '9', '8', '2', '8', '8', '6', '6',\n",
              "       '6', '7', '0', '8', '4', '9', '7', '3', '3', '1', '8', '1', '4',\n",
              "       '1', '2', '7', '8', '1', '2', '8', '9', '9', '9', '2', '1', '2',\n",
              "       '5', '6', '0', '7', '1', '5', '1', '8', '7', '1', '7', '7', '6',\n",
              "       '1', '9', '1', '8', '7', '5', '2', '2', '1', '8', '1', '2', '8',\n",
              "       '9', '4', '3', '0', '9', '1', '4', '0', '6', '4', '8', '1', '0',\n",
              "       '7', '7', '4', '1', '8', '2', '5', '3', '4', '8', '6', '0', '2',\n",
              "       '5', '5', '7', '1', '1', '9', '9', '5', '6', '6', '3', '2', '9',\n",
              "       '2', '3', '5', '8', '2', '1', '1', '7', '2', '4', '0', '0', '6',\n",
              "       '2', '0', '5', '2', '0', '2', '5', '5', '8', '8', '4', '0', '1',\n",
              "       '1', '9', '7', '0', '8', '6', '7', '1', '5', '7', '0', '9', '0',\n",
              "       '9', '4', '9', '0', '3', '6', '6', '5', '9', '1', '2', '0', '1',\n",
              "       '9', '6', '3', '6', '1', '9', '9', '3', '8', '1', '7', '6', '9',\n",
              "       '8', '3', '8', '4', '8', '3', '5', '2', '1', '6', '5', '4', '0',\n",
              "       '1', '0', '6', '1', '2', '8', '4', '2', '5', '3', '8', '4', '5',\n",
              "       '6', '5', '6', '8', '0', '4', '4', '3', '7', '3', '9', '9', '4',\n",
              "       '7', '8', '9', '6', '4', '7', '0', '1', '8', '0', '4', '7', '6',\n",
              "       '5', '2', '0', '4', '5', '7', '1', '2', '4', '7', '3', '3', '6',\n",
              "       '3', '5', '9', '5', '1', '8', '4', '8', '1', '1', '7', '8', '5',\n",
              "       '7', '7', '3', '6', '1', '2', '3', '8', '6', '6', '7', '5', '1',\n",
              "       '1', '0', '2', '7', '3', '1', '5', '8', '5', '0', '8', '3', '7',\n",
              "       '0', '9', '4', '6', '0', '3', '2', '9', '7', '9', '9', '8', '1',\n",
              "       '1', '3', '4', '2', '0', '1', '9', '2', '1', '5', '1', '3', '3',\n",
              "       '7', '3', '7', '6', '0', '6', '2', '3', '3', '1', '0', '7', '5',\n",
              "       '4', '2', '3', '1', '6', '1', '8', '1', '7', '4', '2', '9', '1',\n",
              "       '6', '3', '1', '6', '2', '7', '5', '9', '4', '8', '4', '2', '1',\n",
              "       '8', '8', '7', '3', '9', '9', '4', '6', '0', '7', '0', '5', '6',\n",
              "       '9', '5', '2', '7', '2', '8', '4', '4', '8', '2', '2', '7', '3',\n",
              "       '6', '0', '1', '5', '6', '7', '2', '6', '7', '7', '1', '6', '9',\n",
              "       '9', '3', '6', '9', '1', '0', '2', '5', '2', '1', '7', '4', '3',\n",
              "       '8', '3', '6', '5', '1', '3', '3', '4', '7', '1', '8', '2', '7',\n",
              "       '8', '3', '5', '5', '1', '1', '1', '7', '2', '4', '6', '8', '4',\n",
              "       '8', '3', '2', '3', '0', '3', '9', '3', '7', '9', '7', '8', '9',\n",
              "       '5', '4', '1', '9', '2', '0', '7', '6', '0', '1', '9', '7', '4',\n",
              "       '7', '2', '6', '0', '8', '1', '6', '0', '4', '4', '3', '9', '2',\n",
              "       '5', '5', '3', '3', '4', '7', '1', '5', '6', '0', '4', '0', '6',\n",
              "       '9', '6', '3', '6', '2', '1', '7', '4', '4', '8', '0', '8', '5',\n",
              "       '0', '3', '9', '6', '0', '5', '0', '7', '0', '9', '1', '2', '3',\n",
              "       '3', '9', '0', '1', '6', '8', '1', '5', '0', '4', '4', '0', '8',\n",
              "       '3', '5', '6', '8', '3', '0', '5', '7', '1', '1', '4', '5', '1',\n",
              "       '9', '9', '1', '6', '2', '1', '6', '0', '7', '1', '7', '3', '5',\n",
              "       '7', '8', '6', '1', '7', '2', '8', '3', '8', '4', '3', '8', '6',\n",
              "       '3', '5', '9', '4', '6', '3', '1', '7', '6', '4', '9', '1', '1',\n",
              "       '7', '6', '9', '2', '7', '5', '7', '4', '2', '0', '7', '2', '4',\n",
              "       '3', '8', '5', '5', '2', '4', '0', '9', '1', '7', '9', '4', '3',\n",
              "       '2', '7', '4', '7', '4', '6', '6', '5', '5', '0', '1', '6', '4',\n",
              "       '0', '9', '9', '9', '3', '4', '7', '8', '0', '3', '9', '6', '2',\n",
              "       '2', '2', '3', '0', '4', '5', '5', '1', '3', '3', '9', '2', '3',\n",
              "       '1', '2', '0', '4', '6', '1', '4', '1', '9', '3', '1', '9', '8',\n",
              "       '8', '1', '3', '9', '1', '3', '9', '8', '0', '4', '1', '5', '7',\n",
              "       '7', '9', '5', '6', '1', '9', '9', '8', '3', '1', '7', '3', '2',\n",
              "       '6', '8', '0', '2', '9', '0', '4', '7', '6', '6', '5', '3', '8',\n",
              "       '4', '4', '2', '1', '9', '4', '9', '0', '4', '8', '9', '3', '5',\n",
              "       '3', '4', '6', '1', '8', '3', '6', '5', '7', '7', '6', '0', '8',\n",
              "       '2', '0', '1', '3', '7', '3', '2', '7', '1', '9', '4', '4', '4',\n",
              "       '5', '3', '6', '9', '3', '7', '3', '7', '2', '5', '4', '8', '1',\n",
              "       '5', '7', '5', '1', '2', '6', '4', '8', '1', '1', '2', '9', '3',\n",
              "       '3', '1', '4', '0', '0', '9', '3', '6', '7', '7', '8', '0', '6',\n",
              "       '9', '7', '1', '9', '4', '7', '9', '8', '4', '5', '1', '6', '1',\n",
              "       '7', '9', '9', '1', '2', '2', '2', '5', '7', '6', '0', '4', '8',\n",
              "       '7', '1', '9', '7', '6', '0', '2', '6', '4', '1', '5', '1', '8',\n",
              "       '0', '6', '9', '5', '8', '7', '2', '4', '3', '8', '8', '3', '8',\n",
              "       '7', '9', '7', '6', '7', '4', '0', '7', '2', '5', '1', '7', '9',\n",
              "       '9', '3', '1', '1', '2', '7', '2', '4', '3', '6', '2', '3', '2',\n",
              "       '3', '2', '0', '4', '0', '3', '4', '7', '5', '3', '6', '0'],\n",
              "      dtype=object)"
            ]
          },
          "metadata": {},
          "execution_count": 84
        }
      ]
    },
    {
      "cell_type": "markdown",
      "metadata": {
        "id": "qmZBWyLoTzOc"
      },
      "source": [
        "### Question 1: Visualize a select sample of images\n",
        "---\n",
        "Show a 10x10 grid that visualizes 10 examples of each digit.\n",
        "\n",
        "Notes:\n",
        "* Make the digits nice and big.\n",
        "* You can use `plt.rc()` for setting the colormap, for example to black and white.\n",
        "* You can use `plt.subplot()` for creating subplots.\n",
        "* You can use `plt.imshow()` for rendering a matrix.\n",
        "* You can use `np.array.reshape()` for reshaping a 1D feature vector into a 2D matrix (for rendering)."
      ]
    },
    {
      "cell_type": "code",
      "execution_count": 85,
      "metadata": {
        "id": "ZUzDN1meTzOd",
        "colab": {
          "base_uri": "https://localhost:8080/",
          "height": 957
        },
        "outputId": "0c37f970-178d-4a2b-c716-caaf6d7f82d9"
      },
      "outputs": [
        {
          "output_type": "display_data",
          "data": {
            "text/plain": [
              "<Figure size 720x720 with 0 Axes>"
            ]
          },
          "metadata": {}
        },
        {
          "output_type": "display_data",
          "data": {
            "image/png": "[encoded data removed]",
            "text/plain": [
              "<Figure size 1440x1440 with 100 Axes>"
            ]
          },
          "metadata": {
            "needs_background": "light"
          }
        }
      ],
      "source": [
        "def Q1(num_examples=10):\n",
        "  ### STUDENT START ###\n",
        "  plt.figure(figsize=(10,10))\n",
        "  # for i in range(100):\n",
        "  #   plt.subplot(10,num_examples,i+1)\n",
        "  #   plt.xticks([])\n",
        "  #   plt.yticks([])\n",
        "  #   plt.grid(False)\n",
        "  #   plt.imshow(train_images[i], cmap=plt.cm.binary)\n",
        "  #   plt.xlabel(class_names[train_labels[i]])\n",
        "  digits = np.unique(Y)\n",
        "  M = 10\n",
        "  dim = int(np.sqrt(X.shape[1]))\n",
        "\n",
        "  fig, axs = plt.subplots(len(digits), M, figsize=(20,20))\n",
        "\n",
        "  for i,d in enumerate(digits):\n",
        "    for j in range(M):\n",
        "        axs[i,j].imshow(X[Y==d][j].reshape((dim,dim)))\n",
        "        axs[i,j].axis('off')\n",
        "  \n",
        "  ### STUDENT END ###\n",
        "\n",
        "Q1(num_examples=10)"
      ]
    },
    {
      "cell_type": "markdown",
      "metadata": {
        "id": "s7PNhljcTzOe"
      },
      "source": [
        "### Question 2: Evaluating different choices of k\n",
        "---\n",
        "\n",
        "1. Produce k-Nearest Neighbors models with k = 1, 3, 5, 7, and 9.  \n",
        "1. Print the accuracy of each model. \n",
        "1. Additionally, only for the 1-Nearest Neighbor model, show the precision, recall, and F1 for each label. \n",
        "1. Which digit is the most *difficult* for the 1-Nearest Neighbor model to classify correctly? How did you choose and why?\n",
        "\n",
        "Notes:\n",
        "* Train on the mini train set.\n",
        "* Evaluate performance on the dev set.\n",
        "* Print only the information asked so it is easy to read and compare.\n",
        "* You can use `KNeighborsClassifier` to produce a k-nearest neighbor model.\n",
        "* You can use `classification_report` to get precision, recall, and F1 results.\n",
        "* Check out what the function \"score\" does."
      ]
    },
    {
      "cell_type": "code",
      "execution_count": null,
      "metadata": {
        "id": "PQD0u7d_TzOf"
      },
      "outputs": [],
      "source": [
        "def Q2(k_values):\n",
        "\n",
        "### STUDENT START ###\n",
        "    \n",
        "### STUDENT END ###\n",
        "\n",
        "k_values = [1, 3, 5, 7, 9]\n",
        "Q2(k_values)"
      ]
    },
    {
      "cell_type": "markdown",
      "metadata": {
        "id": "rkwwb2hHTzOg"
      },
      "source": [
        "Answer to part 4: "
      ]
    },
    {
      "cell_type": "markdown",
      "metadata": {
        "id": "C2VPQ9CbTzOh"
      },
      "source": [
        "### Question 3: Examining the importance of training size\n",
        "---\n",
        "1. Produce 1-Nearest Neighbor models using training data of various sizes. For example, ```train_data[:train_size]```.\n",
        "1. Evaluate and show the accuracy achieved by each model.  \n",
        "1. Show the time needed to: \n",
        "  1. Train each model.\n",
        "  1. Measure the accuracy of each model.\n",
        "1. What do you see? Is this what you expected to see and why?\n",
        "1. Plot on the same graph (as a function of training size):\n",
        "  1. the time needed for training\n",
        "  1. the time needed for calculating accuracy\n",
        "\n",
        "Notes:\n",
        "* Evaluate on the dev set.\n",
        "* You can use `KNeighborsClassifier` to produce a k-nearest neighbor model.\n",
        "* You can use `time.time()` to measure elapsed time of operations."
      ]
    },
    {
      "cell_type": "code",
      "execution_count": null,
      "metadata": {
        "id": "8FLREmbUTzOh"
      },
      "outputs": [],
      "source": [
        "def Q3(train_sizes, accuracies):\n",
        "\n",
        "### STUDENT START ###\n",
        "\n",
        "### STUDENT END ###\n",
        "\n",
        "train_sizes = [100, 200, 400, 800, 1600, 3200, 6400, 12800, 25600]\n",
        "accuracies = []\n",
        "train_times = []\n",
        "eval_times = []\n",
        "Q3(train_sizes, accuracies, train_times, eval_times)"
      ]
    },
    {
      "cell_type": "markdown",
      "metadata": {
        "id": "7RvpMWezTzOi"
      },
      "source": [
        "### Question 4: Evaluating if we should obtain additional data\n",
        "---\n",
        "\n",
        "In this question we wish to predict what accuracy we would get if we had additional training data.\n",
        "\n",
        "Our input, our features and labels, are the output from the previous question. Based on the training size and accuracy we got in the previous question, we wish to predict the accuracy we would get if we had larger training sizes.\n",
        "\n",
        "1. Produce a linear regression model that predicts accuracy of a 1-Nearest Neighbor model given training set size. \n",
        "1. Print $R^2$ of the linear regression model.  \n",
        "1. Print the accuracies predicted for training set sizes 60000, 120000, and 1000000.  \n",
        "1. Plot on a lineplot graph:\n",
        "  1. the actual accuracies we obtained in the previous question \n",
        "  1. and the accuracies our model predicted we would have gotten.\n",
        "  1. The X axis is the training set size. \n",
        "  1. You can limit the range of X and Y to the range where you have data for both plots. Meaning, in the this question, we want to visualize how good the prediction is.\n",
        "1. What are two things that are wrong with our model?\n",
        "1. Apply a transformation to the predictor features and a transformation to the outcome that make the predictions fix these issues. \n",
        "1. Show $R^2$ of the improved linear regression model.  \n",
        "1. Print the accuracies predicted for training set sizes 60000, 120000, and 1000000.  \n",
        "1. Plot a lineplot graph of both again as before.\n",
        "  1. Be sure to plot this where the Y axis is accuracy and X axis is training set size, **not the transformed space**!\n",
        "  1. Choose the range of X and Y to visualize effectively.\n",
        "\n",
        "Notes:\n",
        "* Train the linear regression models on all of the (transformed) accuracies estimated in Problem 3.\n",
        "* Evaluate the linear regression models on all of the (transformed) accuracies estimated in Problem 3.\n",
        "* You can use `LinearRegression` to produce a linear regression model.\n",
        "* Remember that the sklearn `fit()` functions take an input matrix X and output vector Y. So, each input example in X is a vector, even if it contains only a single value.\n",
        "* Hints:\n",
        "  1. You have two problems here, how well your model fits and predicting *illogical* values of accuracy.\n",
        "  1. You can look at:\n",
        "    1. [logit](https://en.wikipedia.org/wiki/Logit): $\\frac{1}{1 + e^{-x}} = \\frac{e^x}{1+e^x}$ which takes numbers in $\\[\\infty,-\\infty\\]$ and outputs numbers in $(0, 1)$.\n",
        "    1. [logistic](https://en.wikipedia.org/wiki/Logistic_function): $log(\\frac{p}{1 - p})$ which takes numbers between $(0, 1)$ and outputs numbers between $\\[\\infty,-\\infty\\]$.\n",
        "    1. It also happens that $x = logistic(p)$ is the same thing as $logit(x)=p$."
      ]
    },
    {
      "cell_type": "code",
      "execution_count": null,
      "metadata": {
        "id": "z-mIFqcfTzOi"
      },
      "outputs": [],
      "source": [
        "def Q4():\n",
        "\n",
        "### STUDENT START ###\n",
        "\n",
        "### STUDENT END ###\n",
        "\n",
        "Q4()"
      ]
    },
    {
      "cell_type": "markdown",
      "metadata": {
        "id": "pcYwq2H5TzOj"
      },
      "source": [
        "Answer to part 5:  "
      ]
    },
    {
      "cell_type": "markdown",
      "metadata": {
        "id": "899CMYybTzOj"
      },
      "source": [
        "### Question 5: Getting to know the confusion matrix.\n",
        "---\n",
        "\n",
        "1. Produce a 1-Nearest Neighbor model.\n",
        "1. Show the confusion matrix. \n",
        "1. Which digit does the model most often confuse with which digit? (*for example, the model most often mistakes the digit $1$ as the digit $7$*).\n",
        "1. Show examples of the misclassified digit.\n",
        "\n",
        "Notes:\n",
        "- Train on the mini train set.\n",
        "- Evaluate performance on the dev set.\n",
        "- You can use `confusion_matrix()` to produce a confusion matrix.\n",
        "- No need to calculate the \"most confused digits\" programmatically."
      ]
    },
    {
      "cell_type": "code",
      "execution_count": null,
      "metadata": {
        "id": "nRFrK4G9TzOk"
      },
      "outputs": [],
      "source": [
        "def Q5():\n",
        "\n",
        "### STUDENT START ###\n",
        "### STUDENT END ###\n",
        "\n",
        "Q5()\n"
      ]
    },
    {
      "cell_type": "markdown",
      "metadata": {
        "id": "f6x930p3TzOl"
      },
      "source": [
        "Answer to part 3: \n"
      ]
    },
    {
      "cell_type": "code",
      "execution_count": null,
      "metadata": {
        "id": "iJoleVeatoRg"
      },
      "outputs": [],
      "source": [
        ""
      ]
    }
  ],
  "metadata": {
    "colab": {
      "collapsed_sections": [],
      "name": "Yiying_Liu_project1.ipynb",
      "provenance": [],
      "include_colab_link": true
    },
    "kernelspec": {
      "display_name": "Python 3",
      "language": "python",
      "name": "python3"
    },
    "language_info": {
      "codemirror_mode": {
        "name": "ipython",
        "version": 3
      },
      "file_extension": ".py",
      "mimetype": "text/x-python",
      "name": "python",
      "nbconvert_exporter": "python",
      "pygments_lexer": "ipython3",
      "version": "3.8.5"
    },
    "toc": {
      "base_numbering": 1,
      "nav_menu": {},
      "number_sections": false,
      "sideBar": true,
      "skip_h1_title": true,
      "title_cell": "Table of Contents",
      "title_sidebar": "Contents",
      "toc_cell": false,
      "toc_position": {},
      "toc_section_display": true,
      "toc_window_display": false
    }
  },
  "nbformat": 4,
  "nbformat_minor": 0
}