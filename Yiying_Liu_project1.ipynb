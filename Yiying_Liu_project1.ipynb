{
  "cells": [
    {
      "cell_type": "markdown",
      "metadata": {
        "id": "view-in-github",
        "colab_type": "text"
      },
      "source": [
        "<a href=\"https://colab.research.google.com/github/marciayyl/w207/blob/main/Yiying_Liu_project1.ipynb\" target=\"_parent\"><img src=\"https://colab.research.google.com/assets/colab-badge.svg\" alt=\"Open In Colab\"/></a>"
      ]
    },
    {
      "cell_type": "markdown",
      "metadata": {
        "id": "iNALzZOKTzOS"
      },
      "source": [
        "\n",
        "# Project 1: Digit Classification with KNN\n"
      ]
    },
    {
      "cell_type": "markdown",
      "metadata": {
        "id": "EBRkdIUUTzOV"
      },
      "source": [
        "# Intro\n",
        "---\n",
        "In this project, you'll implement your own image recognition system for classifying digits. Read through the code and the instructions carefully and add your own code where indicated. Each problem can be addressed succinctly with the included packages -- please don't add any more. \n",
        "As always, you're welcome to work on the project in groups and discuss ideas over Slack, but <b> please prepare your own write-up (with your own code). </b> To be safe, please credit any sources used.\n",
        "\n",
        "\n",
        "## Grading\n",
        "---\n",
        " - Make sure to answer every part in every question.\n",
        " - There are 5 questions, each worth an equal number of points.\n",
        " - Read carefully what is asked including the notes.\n",
        " - Additional points may be deducted if:\n",
        "   - the code is not clean or is not well commented\n",
        "   - the functions or answers are excessively long\n",
        "\n",
        "## Requirements:\n",
        "---\n",
        "1. Comment your code.\n",
        "1. Each graph should have a title, labels for each axis, and (if needed) a legend. Each graph should be understandable on its own.\n",
        "1. All code must run on colab.research.google.com\n",
        "1. You should not import any additional libraries.\n",
        "1. Try and minimize the use of the global namespace (meaning, keep things inside functions).\n",
        "\n",
        "## Additional reading and notes\n",
        "---\n",
        "\n",
        "If you are looking to get started with Tensorflow, you can read through this tutorial: https://www.tensorflow.org/tutorials/keras/classification. It uses a dataset called \"fashion_mnist\", which is identical in structure to the original digit mnist, but uses images of clothing rather than images of digits. The number of training examples and number of labels is the same. In fact, you can simply replace the code that loads \"fashion_mnist\" with \"mnist\" and everything should work fine.\n",
        "\n",
        "Additionally, if you're interested, check out these links related to digit recognition:\n",
        "\n",
        "* Yann Lecun's MNIST benchmarks: http://yann.lecun.com/exdb/mnist/\n",
        "* Stanford Streetview research and data: http://ufldl.stanford.edu/housenumbers/"
      ]
    },
    {
      "cell_type": "code",
      "execution_count": 2,
      "metadata": {
        "id": "r8u7GmsDTzOX"
      },
      "outputs": [],
      "source": [
        "# This tells matplotlib not to try opening a new window for each plot.\n",
        "%matplotlib inline\n",
        "\n",
        "# Import a bunch of libraries.\n",
        "import time\n",
        "import numpy as np\n",
        "import pandas as pd\n",
        "import matplotlib.pyplot as plt\n",
        "from matplotlib.ticker import MultipleLocator\n",
        "from sklearn.pipeline import Pipeline\n",
        "from sklearn.datasets import fetch_openml\n",
        "from sklearn.neighbors import KNeighborsClassifier\n",
        "from sklearn.metrics import confusion_matrix\n",
        "from sklearn.linear_model import LinearRegression\n",
        "from sklearn.naive_bayes import BernoulliNB\n",
        "from sklearn.naive_bayes import MultinomialNB\n",
        "from sklearn.naive_bayes import GaussianNB\n",
        "from sklearn.model_selection import GridSearchCV\n",
        "from sklearn.metrics import classification_report\n",
        "\n",
        "# Set the randomizer seed so results are the same each time.\n",
        "np.random.seed(0)"
      ]
    },
    {
      "cell_type": "code",
      "execution_count": 3,
      "metadata": {
        "id": "bWOWoq_dTzOY",
        "colab": {
          "base_uri": "https://localhost:8080/",
          "height": 37
        },
        "outputId": "eae1d02f-d760-41f0-9590-9cd23b32fe82"
      },
      "outputs": [
        {
          "output_type": "execute_result",
          "data": {
            "application/vnd.google.colaboratory.intrinsic+json": {
              "type": "string"
            },
            "text/plain": [
              "'1.0.2'"
            ]
          },
          "metadata": {},
          "execution_count": 3
        }
      ],
      "source": [
        "import sklearn\n",
        "sklearn.__version__"
      ]
    },
    {
      "cell_type": "markdown",
      "metadata": {
        "id": "J1-CAjA9TzOa"
      },
      "source": [
        "Load the data. Notice that the data gets partitioned into training, development, and test sets. Also, a small subset of the training data called mini_train_data and mini_train_labels gets defined, which you should use in all the experiments below, unless otherwise noted."
      ]
    },
    {
      "cell_type": "code",
      "execution_count": 4,
      "metadata": {
        "id": "f9kPmCW0TzOb",
        "colab": {
          "base_uri": "https://localhost:8080/"
        },
        "outputId": "33ec1883-e5d9-4526-9f6a-76b0ff088c9e"
      },
      "outputs": [
        {
          "output_type": "stream",
          "name": "stdout",
          "text": [
            "data shape:  (70000, 784)\n",
            "label shape: (70000,)\n"
          ]
        }
      ],
      "source": [
        "# Load the digit data from https://www.openml.org/d/554 or from default local location '~/scikit_learn_data/...'\n",
        "X, Y = fetch_openml(name='mnist_784', as_frame=False, return_X_y=True, cache=False)\n",
        "\n",
        "# Rescale grayscale values to [0,1].\n",
        "X = X / 255.0\n",
        "\n",
        "# Shuffle the input: create a random permutation of the integers between 0 and the number of data points and apply this\n",
        "# permutation to X and Y.\n",
        "# NOTE: Each time you run this cell, you'll re-shuffle the data, resulting in a different ordering.\n",
        "shuffle = np.random.permutation(np.arange(X.shape[0]))\n",
        "X, Y = X[shuffle], Y[shuffle]\n",
        "\n",
        "print('data shape: ', X.shape)\n",
        "print('label shape:', Y.shape)\n",
        "\n",
        "# Set some variables to hold test, dev, and training data.\n",
        "test_data, test_labels = X[61000:], Y[61000:]\n",
        "dev_data, dev_labels = X[60000:61000], Y[60000:61000]\n",
        "train_data, train_labels = X[:60000], Y[:60000]\n",
        "mini_train_data, mini_train_labels = X[:1000], Y[:1000]"
      ]
    },
    {
      "cell_type": "code",
      "execution_count": 5,
      "metadata": {
        "colab": {
          "base_uri": "https://localhost:8080/"
        },
        "id": "e5CT1_vj-y1q",
        "outputId": "d1ff0c63-fe5b-45b1-9a1c-f8056775f6ec"
      },
      "outputs": [
        {
          "output_type": "stream",
          "name": "stdout",
          "text": [
            "2.7.0\n"
          ]
        }
      ],
      "source": [
        "import tensorflow as tf\n",
        "\n",
        "# Helper libraries\n",
        "import numpy as np\n",
        "import matplotlib.pyplot as plt\n",
        "\n",
        "print(tf.__version__)"
      ]
    },
    {
      "cell_type": "code",
      "source": [
        "# Load the digit data from https://www.openml.org/d/554 or from default local location '~/scikit_learn_data/...'\n",
        "X, Y = fetch_openml(name='mnist_784', as_frame=False, return_X_y=True, cache=False)\n",
        "\n",
        "# Rescale grayscale values to [0,1].\n",
        "X = X / 255.0\n",
        "\n",
        "# Shuffle the input: create a random permutation of the integers between 0 and the number of data points and apply this\n",
        "# permutation to X and Y.\n",
        "# NOTE: Each time you run this cell, you'll re-shuffle the data, resulting in a different ordering.\n",
        "shuffle = np.random.permutation(np.arange(X.shape[0]))\n",
        "X, Y = X[shuffle], Y[shuffle]\n",
        "\n",
        "print('data shape: ', X.shape)\n",
        "print('label shape:', Y.shape)\n",
        "\n",
        "# Set some variables to hold test, dev, and training data.\n",
        "test_data, test_labels = X[61000:], Y[61000:]\n",
        "dev_data, dev_labels = X[60000:61000], Y[60000:61000]\n",
        "train_data, train_labels = X[:60000], Y[:60000]\n",
        "mini_train_data, mini_train_labels = X[:1000], Y[:1000]"
      ],
      "metadata": {
        "id": "wxxjPAGXwcNr"
      },
      "execution_count": null,
      "outputs": []
    },
    {
      "cell_type": "code",
      "source": [
        "test_labels"
      ],
      "metadata": {
        "colab": {
          "base_uri": "https://localhost:8080/"
        },
        "id": "4q6daexMxjcB",
        "outputId": "f2808b8a-39ea-45a7-95be-c0d1997deb12"
      },
      "execution_count": 78,
      "outputs": [
        {
          "output_type": "execute_result",
          "data": {
            "text/plain": [
              "array(['2', '6', '1', ..., '8', '1', '3'], dtype=object)"
            ]
          },
          "metadata": {},
          "execution_count": 78
        }
      ]
    },
    {
      "cell_type": "code",
      "source": [
        "test_data"
      ],
      "metadata": {
        "colab": {
          "base_uri": "https://localhost:8080/"
        },
        "id": "GWYKEuCzxhRf",
        "outputId": "6dca41bf-50ef-4410-f9bc-d001511d9fcf"
      },
      "execution_count": 72,
      "outputs": [
        {
          "output_type": "execute_result",
          "data": {
            "text/plain": [
              "array([[0., 0., 0., ..., 0., 0., 0.],\n",
              "       [0., 0., 0., ..., 0., 0., 0.],\n",
              "       [0., 0., 0., ..., 0., 0., 0.],\n",
              "       ...,\n",
              "       [0., 0., 0., ..., 0., 0., 0.],\n",
              "       [0., 0., 0., ..., 0., 0., 0.],\n",
              "       [0., 0., 0., ..., 0., 0., 0.]])"
            ]
          },
          "metadata": {},
          "execution_count": 72
        }
      ]
    },
    {
      "cell_type": "code",
      "source": [
        "dev_data"
      ],
      "metadata": {
        "colab": {
          "base_uri": "https://localhost:8080/"
        },
        "id": "gotYodUDyNvn",
        "outputId": "bec71e5d-0bf3-49be-e1b7-990901939fd1"
      },
      "execution_count": 79,
      "outputs": [
        {
          "output_type": "execute_result",
          "data": {
            "text/plain": [
              "array([[0., 0., 0., ..., 0., 0., 0.],\n",
              "       [0., 0., 0., ..., 0., 0., 0.],\n",
              "       [0., 0., 0., ..., 0., 0., 0.],\n",
              "       ...,\n",
              "       [0., 0., 0., ..., 0., 0., 0.],\n",
              "       [0., 0., 0., ..., 0., 0., 0.],\n",
              "       [0., 0., 0., ..., 0., 0., 0.]])"
            ]
          },
          "metadata": {},
          "execution_count": 79
        }
      ]
    },
    {
      "cell_type": "code",
      "source": [
        "dev_labels"
      ],
      "metadata": {
        "colab": {
          "base_uri": "https://localhost:8080/"
        },
        "id": "HYn47MnRyPiw",
        "outputId": "8cc3d394-0497-4e9e-d034-badbc1b9b4fd"
      },
      "execution_count": 80,
      "outputs": [
        {
          "output_type": "execute_result",
          "data": {
            "text/plain": [
              "array(['7', '6', '7', '9', '1', '5', '3', '2', '3', '7', '7', '6', '4',\n",
              "       '0', '5', '9', '0', '0', '3', '1', '8', '5', '9', '8', '4', '3',\n",
              "       '3', '5', '7', '1', '0', '6', '9', '4', '9', '6', '2', '5', '7',\n",
              "       '6', '3', '1', '1', '1', '8', '6', '7', '9', '8', '7', '1', '2',\n",
              "       '7', '7', '1', '4', '9', '2', '0', '1', '7', '3', '2', '8', '7',\n",
              "       '3', '9', '7', '8', '8', '5', '4', '7', '6', '9', '5', '4', '7',\n",
              "       '6', '3', '6', '7', '2', '1', '6', '0', '3', '8', '1', '6', '5',\n",
              "       '8', '1', '2', '2', '8', '0', '0', '5', '5', '9', '2', '9', '7',\n",
              "       '3', '1', '9', '6', '9', '7', '7', '1', '8', '2', '1', '9', '2',\n",
              "       '3', '2', '4', '4', '1', '6', '2', '7', '2', '3', '5', '7', '0',\n",
              "       '6', '0', '0', '2', '0', '9', '2', '0', '4', '3', '5', '6', '2',\n",
              "       '3', '8', '4', '0', '3', '1', '2', '9', '4', '8', '6', '8', '8',\n",
              "       '4', '6', '1', '7', '8', '2', '6', '5', '3', '6', '1', '6', '5',\n",
              "       '3', '8', '5', '1', '2', '8', '1', '0', '6', '2', '3', '8', '4',\n",
              "       '8', '7', '5', '6', '0', '9', '2', '5', '0', '1', '5', '1', '5',\n",
              "       '3', '8', '5', '4', '4', '5', '8', '2', '4', '9', '4', '1', '7',\n",
              "       '3', '1', '7', '7', '9', '9', '6', '7', '6', '7', '0', '7', '4',\n",
              "       '0', '2', '3', '0', '2', '2', '8', '5', '7', '3', '5', '0', '2',\n",
              "       '1', '4', '1', '9', '0', '7', '9', '4', '2', '9', '4', '8', '8',\n",
              "       '7', '8', '0', '1', '1', '4', '0', '3', '8', '6', '0', '2', '8',\n",
              "       '9', '0', '6', '2', '5', '6', '4', '0', '9', '6', '7', '0', '0',\n",
              "       '8', '9', '2', '6', '1', '4', '7', '9', '3', '1', '1', '5', '0',\n",
              "       '6', '8', '0', '0', '5', '9', '8', '8', '4', '0', '8', '1', '5',\n",
              "       '9', '3', '5', '5', '2', '2', '8', '4', '3', '7', '6', '8', '5',\n",
              "       '9', '5', '4', '5', '2', '7', '9', '6', '3', '4', '5', '5', '8',\n",
              "       '4', '0', '9', '5', '7', '4', '4', '2', '7', '7', '2', '9', '0',\n",
              "       '1', '7', '0', '4', '0', '0', '5', '0', '2', '4', '8', '4', '7',\n",
              "       '0', '2', '2', '2', '9', '7', '1', '0', '2', '4', '4', '6', '6',\n",
              "       '0', '7', '6', '3', '3', '6', '4', '7', '7', '4', '1', '4', '7',\n",
              "       '4', '8', '3', '1', '0', '8', '8', '1', '1', '2', '3', '4', '4',\n",
              "       '5', '9', '5', '2', '4', '7', '5', '9', '4', '4', '3', '6', '3',\n",
              "       '9', '3', '8', '7', '8', '9', '3', '8', '8', '9', '3', '9', '8',\n",
              "       '2', '8', '8', '1', '9', '3', '2', '5', '4', '9', '4', '7', '5',\n",
              "       '3', '7', '5', '0', '3', '3', '7', '9', '0', '9', '5', '8', '0',\n",
              "       '1', '0', '3', '8', '4', '6', '4', '7', '5', '0', '5', '3', '9',\n",
              "       '1', '8', '0', '2', '4', '0', '1', '3', '6', '8', '9', '2', '5',\n",
              "       '4', '9', '2', '2', '3', '0', '2', '1', '1', '7', '7', '1', '0',\n",
              "       '7', '3', '1', '2', '7', '0', '9', '9', '9', '0', '9', '2', '7',\n",
              "       '0', '8', '2', '2', '7', '7', '8', '0', '6', '6', '1', '7', '2',\n",
              "       '6', '3', '3', '2', '0', '6', '2', '9', '4', '8', '9', '0', '9',\n",
              "       '8', '4', '3', '3', '8', '9', '1', '1', '0', '8', '2', '4', '2',\n",
              "       '0', '1', '4', '3', '4', '5', '1', '5', '7', '7', '9', '0', '9',\n",
              "       '0', '8', '6', '9', '3', '3', '2', '6', '9', '4', '0', '4', '2',\n",
              "       '9', '1', '1', '8', '1', '9', '6', '6', '2', '4', '6', '9', '8',\n",
              "       '2', '0', '8', '6', '6', '5', '4', '9', '0', '0', '2', '9', '8',\n",
              "       '2', '7', '0', '6', '0', '5', '3', '6', '7', '7', '9', '9', '0',\n",
              "       '3', '7', '5', '8', '2', '3', '0', '8', '0', '6', '0', '0', '8',\n",
              "       '5', '9', '2', '6', '5', '3', '3', '9', '8', '9', '7', '9', '5',\n",
              "       '8', '2', '0', '6', '5', '9', '6', '9', '4', '9', '0', '3', '3',\n",
              "       '5', '7', '7', '8', '8', '7', '0', '3', '7', '6', '6', '3', '6',\n",
              "       '7', '4', '8', '0', '4', '7', '8', '3', '9', '0', '1', '5', '5',\n",
              "       '0', '3', '0', '7', '9', '8', '1', '2', '4', '3', '8', '1', '3',\n",
              "       '8', '6', '6', '9', '1', '3', '1', '7', '3', '6', '5', '3', '2',\n",
              "       '2', '6', '2', '3', '7', '4', '8', '0', '3', '2', '5', '3', '1',\n",
              "       '1', '9', '7', '4', '1', '3', '8', '3', '1', '2', '4', '9', '8',\n",
              "       '5', '2', '0', '1', '1', '4', '4', '5', '5', '3', '4', '9', '0',\n",
              "       '9', '0', '8', '8', '9', '1', '6', '9', '8', '6', '7', '0', '5',\n",
              "       '9', '3', '4', '2', '3', '1', '3', '4', '0', '4', '1', '6', '1',\n",
              "       '2', '9', '0', '3', '1', '6', '8', '2', '2', '5', '0', '8', '2',\n",
              "       '1', '8', '5', '7', '5', '0', '7', '7', '3', '1', '6', '4', '5',\n",
              "       '5', '4', '0', '6', '0', '7', '6', '9', '0', '6', '3', '6', '1',\n",
              "       '6', '2', '0', '4', '6', '5', '7', '7', '3', '3', '0', '1', '4',\n",
              "       '8', '3', '4', '0', '6', '9', '2', '3', '9', '6', '3', '6', '0',\n",
              "       '3', '7', '1', '8', '4', '0', '9', '0', '0', '6', '6', '5', '1',\n",
              "       '4', '2', '4', '6', '7', '2', '0', '0', '3', '3', '3', '6', '1',\n",
              "       '6', '0', '3', '1', '2', '5', '4', '6', '3', '1', '0', '2', '7',\n",
              "       '6', '7', '6', '3', '0', '6', '7', '9', '7', '5', '0', '9', '7',\n",
              "       '8', '8', '8', '1', '9', '5', '9', '9', '6', '2', '3', '5', '0',\n",
              "       '9', '6', '4', '0', '7', '5', '4', '8', '2', '2', '0', '3', '6',\n",
              "       '6', '5', '5', '1', '7', '9', '3', '5', '6', '3', '0', '2', '7',\n",
              "       '1', '6', '4', '3', '0', '6', '2', '2', '4', '1', '1', '7', '8',\n",
              "       '4', '3', '4', '4', '2', '9', '1', '0', '4', '8', '3', '1', '9',\n",
              "       '1', '5', '1', '7', '5', '4', '5', '5', '4', '0', '2', '1', '5',\n",
              "       '7', '7', '1', '1', '9', '0', '4', '6', '7', '0', '9', '7', '6',\n",
              "       '6', '3', '5', '8', '0', '2', '5', '8', '9', '5', '8', '7', '8',\n",
              "       '3', '9', '5', '0', '3', '9', '5', '4', '7', '2', '3', '7', '7',\n",
              "       '7', '1', '2', '1', '2', '6', '2', '7', '9', '6', '1', '2'],\n",
              "      dtype=object)"
            ]
          },
          "metadata": {},
          "execution_count": 80
        }
      ]
    },
    {
      "cell_type": "code",
      "source": [
        "train_data"
      ],
      "metadata": {
        "colab": {
          "base_uri": "https://localhost:8080/"
        },
        "id": "VTm3ZNOFyTN6",
        "outputId": "41602334-acb7-4297-aeb2-83e44624fe46"
      },
      "execution_count": 81,
      "outputs": [
        {
          "output_type": "execute_result",
          "data": {
            "text/plain": [
              "array([[0., 0., 0., ..., 0., 0., 0.],\n",
              "       [0., 0., 0., ..., 0., 0., 0.],\n",
              "       [0., 0., 0., ..., 0., 0., 0.],\n",
              "       ...,\n",
              "       [0., 0., 0., ..., 0., 0., 0.],\n",
              "       [0., 0., 0., ..., 0., 0., 0.],\n",
              "       [0., 0., 0., ..., 0., 0., 0.]])"
            ]
          },
          "metadata": {},
          "execution_count": 81
        }
      ]
    },
    {
      "cell_type": "code",
      "source": [
        "train_labels"
      ],
      "metadata": {
        "colab": {
          "base_uri": "https://localhost:8080/"
        },
        "id": "GQ8B4sQTyZRB",
        "outputId": "d9839028-5931-436d-9aae-d69c6e12b350"
      },
      "execution_count": 82,
      "outputs": [
        {
          "output_type": "execute_result",
          "data": {
            "text/plain": [
              "array(['4', '9', '9', ..., '4', '1', '0'], dtype=object)"
            ]
          },
          "metadata": {},
          "execution_count": 82
        }
      ]
    },
    {
      "cell_type": "code",
      "source": [
        "mini_train_data"
      ],
      "metadata": {
        "colab": {
          "base_uri": "https://localhost:8080/"
        },
        "id": "X_8BUF7myc7B",
        "outputId": "e739178b-9671-474f-e180-06eaea5bbb42"
      },
      "execution_count": 83,
      "outputs": [
        {
          "output_type": "execute_result",
          "data": {
            "text/plain": [
              "array([[0., 0., 0., ..., 0., 0., 0.],\n",
              "       [0., 0., 0., ..., 0., 0., 0.],\n",
              "       [0., 0., 0., ..., 0., 0., 0.],\n",
              "       ...,\n",
              "       [0., 0., 0., ..., 0., 0., 0.],\n",
              "       [0., 0., 0., ..., 0., 0., 0.],\n",
              "       [0., 0., 0., ..., 0., 0., 0.]])"
            ]
          },
          "metadata": {},
          "execution_count": 83
        }
      ]
    },
    {
      "cell_type": "code",
      "source": [
        "mini_train_labels"
      ],
      "metadata": {
        "colab": {
          "base_uri": "https://localhost:8080/"
        },
        "id": "9XFdxxqcydwT",
        "outputId": "4f809ff3-6f32-48f7-b7d0-592cc4cfb851"
      },
      "execution_count": 84,
      "outputs": [
        {
          "output_type": "execute_result",
          "data": {
            "text/plain": [
              "array(['4', '9', '9', '3', '7', '4', '8', '5', '2', '5', '9', '2', '0',\n",
              "       '8', '3', '9', '3', '5', '3', '3', '8', '2', '4', '7', '9', '1',\n",
              "       '1', '5', '8', '7', '0', '4', '6', '0', '3', '5', '9', '0', '1',\n",
              "       '6', '6', '5', '3', '2', '7', '4', '4', '6', '4', '4', '9', '5',\n",
              "       '5', '5', '7', '9', '4', '9', '3', '9', '0', '2', '0', '1', '9',\n",
              "       '4', '7', '1', '7', '2', '4', '1', '2', '4', '8', '1', '4', '1',\n",
              "       '8', '9', '6', '1', '2', '3', '2', '5', '6', '5', '1', '7', '5',\n",
              "       '2', '1', '7', '2', '5', '9', '4', '6', '6', '6', '1', '8', '9',\n",
              "       '3', '8', '4', '6', '7', '7', '3', '8', '6', '7', '6', '6', '4',\n",
              "       '7', '1', '1', '9', '0', '1', '3', '4', '9', '1', '5', '1', '5',\n",
              "       '1', '5', '1', '7', '3', '3', '5', '2', '7', '5', '2', '9', '8',\n",
              "       '4', '1', '4', '1', '9', '7', '6', '9', '0', '3', '3', '3', '2',\n",
              "       '9', '1', '8', '5', '3', '9', '9', '8', '2', '8', '8', '6', '6',\n",
              "       '6', '7', '0', '8', '4', '9', '7', '3', '3', '1', '8', '1', '4',\n",
              "       '1', '2', '7', '8', '1', '2', '8', '9', '9', '9', '2', '1', '2',\n",
              "       '5', '6', '0', '7', '1', '5', '1', '8', '7', '1', '7', '7', '6',\n",
              "       '1', '9', '1', '8', '7', '5', '2', '2', '1', '8', '1', '2', '8',\n",
              "       '9', '4', '3', '0', '9', '1', '4', '0', '6', '4', '8', '1', '0',\n",
              "       '7', '7', '4', '1', '8', '2', '5', '3', '4', '8', '6', '0', '2',\n",
              "       '5', '5', '7', '1', '1', '9', '9', '5', '6', '6', '3', '2', '9',\n",
              "       '2', '3', '5', '8', '2', '1', '1', '7', '2', '4', '0', '0', '6',\n",
              "       '2', '0', '5', '2', '0', '2', '5', '5', '8', '8', '4', '0', '1',\n",
              "       '1', '9', '7', '0', '8', '6', '7', '1', '5', '7', '0', '9', '0',\n",
              "       '9', '4', '9', '0', '3', '6', '6', '5', '9', '1', '2', '0', '1',\n",
              "       '9', '6', '3', '6', '1', '9', '9', '3', '8', '1', '7', '6', '9',\n",
              "       '8', '3', '8', '4', '8', '3', '5', '2', '1', '6', '5', '4', '0',\n",
              "       '1', '0', '6', '1', '2', '8', '4', '2', '5', '3', '8', '4', '5',\n",
              "       '6', '5', '6', '8', '0', '4', '4', '3', '7', '3', '9', '9', '4',\n",
              "       '7', '8', '9', '6', '4', '7', '0', '1', '8', '0', '4', '7', '6',\n",
              "       '5', '2', '0', '4', '5', '7', '1', '2', '4', '7', '3', '3', '6',\n",
              "       '3', '5', '9', '5', '1', '8', '4', '8', '1', '1', '7', '8', '5',\n",
              "       '7', '7', '3', '6', '1', '2', '3', '8', '6', '6', '7', '5', '1',\n",
              "       '1', '0', '2', '7', '3', '1', '5', '8', '5', '0', '8', '3', '7',\n",
              "       '0', '9', '4', '6', '0', '3', '2', '9', '7', '9', '9', '8', '1',\n",
              "       '1', '3', '4', '2', '0', '1', '9', '2', '1', '5', '1', '3', '3',\n",
              "       '7', '3', '7', '6', '0', '6', '2', '3', '3', '1', '0', '7', '5',\n",
              "       '4', '2', '3', '1', '6', '1', '8', '1', '7', '4', '2', '9', '1',\n",
              "       '6', '3', '1', '6', '2', '7', '5', '9', '4', '8', '4', '2', '1',\n",
              "       '8', '8', '7', '3', '9', '9', '4', '6', '0', '7', '0', '5', '6',\n",
              "       '9', '5', '2', '7', '2', '8', '4', '4', '8', '2', '2', '7', '3',\n",
              "       '6', '0', '1', '5', '6', '7', '2', '6', '7', '7', '1', '6', '9',\n",
              "       '9', '3', '6', '9', '1', '0', '2', '5', '2', '1', '7', '4', '3',\n",
              "       '8', '3', '6', '5', '1', '3', '3', '4', '7', '1', '8', '2', '7',\n",
              "       '8', '3', '5', '5', '1', '1', '1', '7', '2', '4', '6', '8', '4',\n",
              "       '8', '3', '2', '3', '0', '3', '9', '3', '7', '9', '7', '8', '9',\n",
              "       '5', '4', '1', '9', '2', '0', '7', '6', '0', '1', '9', '7', '4',\n",
              "       '7', '2', '6', '0', '8', '1', '6', '0', '4', '4', '3', '9', '2',\n",
              "       '5', '5', '3', '3', '4', '7', '1', '5', '6', '0', '4', '0', '6',\n",
              "       '9', '6', '3', '6', '2', '1', '7', '4', '4', '8', '0', '8', '5',\n",
              "       '0', '3', '9', '6', '0', '5', '0', '7', '0', '9', '1', '2', '3',\n",
              "       '3', '9', '0', '1', '6', '8', '1', '5', '0', '4', '4', '0', '8',\n",
              "       '3', '5', '6', '8', '3', '0', '5', '7', '1', '1', '4', '5', '1',\n",
              "       '9', '9', '1', '6', '2', '1', '6', '0', '7', '1', '7', '3', '5',\n",
              "       '7', '8', '6', '1', '7', '2', '8', '3', '8', '4', '3', '8', '6',\n",
              "       '3', '5', '9', '4', '6', '3', '1', '7', '6', '4', '9', '1', '1',\n",
              "       '7', '6', '9', '2', '7', '5', '7', '4', '2', '0', '7', '2', '4',\n",
              "       '3', '8', '5', '5', '2', '4', '0', '9', '1', '7', '9', '4', '3',\n",
              "       '2', '7', '4', '7', '4', '6', '6', '5', '5', '0', '1', '6', '4',\n",
              "       '0', '9', '9', '9', '3', '4', '7', '8', '0', '3', '9', '6', '2',\n",
              "       '2', '2', '3', '0', '4', '5', '5', '1', '3', '3', '9', '2', '3',\n",
              "       '1', '2', '0', '4', '6', '1', '4', '1', '9', '3', '1', '9', '8',\n",
              "       '8', '1', '3', '9', '1', '3', '9', '8', '0', '4', '1', '5', '7',\n",
              "       '7', '9', '5', '6', '1', '9', '9', '8', '3', '1', '7', '3', '2',\n",
              "       '6', '8', '0', '2', '9', '0', '4', '7', '6', '6', '5', '3', '8',\n",
              "       '4', '4', '2', '1', '9', '4', '9', '0', '4', '8', '9', '3', '5',\n",
              "       '3', '4', '6', '1', '8', '3', '6', '5', '7', '7', '6', '0', '8',\n",
              "       '2', '0', '1', '3', '7', '3', '2', '7', '1', '9', '4', '4', '4',\n",
              "       '5', '3', '6', '9', '3', '7', '3', '7', '2', '5', '4', '8', '1',\n",
              "       '5', '7', '5', '1', '2', '6', '4', '8', '1', '1', '2', '9', '3',\n",
              "       '3', '1', '4', '0', '0', '9', '3', '6', '7', '7', '8', '0', '6',\n",
              "       '9', '7', '1', '9', '4', '7', '9', '8', '4', '5', '1', '6', '1',\n",
              "       '7', '9', '9', '1', '2', '2', '2', '5', '7', '6', '0', '4', '8',\n",
              "       '7', '1', '9', '7', '6', '0', '2', '6', '4', '1', '5', '1', '8',\n",
              "       '0', '6', '9', '5', '8', '7', '2', '4', '3', '8', '8', '3', '8',\n",
              "       '7', '9', '7', '6', '7', '4', '0', '7', '2', '5', '1', '7', '9',\n",
              "       '9', '3', '1', '1', '2', '7', '2', '4', '3', '6', '2', '3', '2',\n",
              "       '3', '2', '0', '4', '0', '3', '4', '7', '5', '3', '6', '0'],\n",
              "      dtype=object)"
            ]
          },
          "metadata": {},
          "execution_count": 84
        }
      ]
    },
    {
      "cell_type": "markdown",
      "metadata": {
        "id": "qmZBWyLoTzOc"
      },
      "source": [
        "### Question 1: Visualize a select sample of images\n",
        "---\n",
        "Show a 10x10 grid that visualizes 10 examples of each digit.\n",
        "\n",
        "Notes:\n",
        "* Make the digits nice and big.\n",
        "* You can use `plt.rc()` for setting the colormap, for example to black and white.\n",
        "* You can use `plt.subplot()` for creating subplots.\n",
        "* You can use `plt.imshow()` for rendering a matrix.\n",
        "* You can use `np.array.reshape()` for reshaping a 1D feature vector into a 2D matrix (for rendering)."
      ]
    },
    {
      "cell_type": "code",
      "execution_count": 1,
      "metadata": {
        "id": "ZUzDN1meTzOd",
        "colab": {
          "base_uri": "https://localhost:8080/",
          "height": 317
        },
        "outputId": "259a4a60-c74b-4e34-b142-03c61b14ef73"
      },
      "outputs": [
        {
          "output_type": "error",
          "ename": "NameError",
          "evalue": "ignored",
          "traceback": [
            "\u001b[0;31m---------------------------------------------------------------------------\u001b[0m",
            "\u001b[0;31mNameError\u001b[0m                                 Traceback (most recent call last)",
            "\u001b[0;32m<ipython-input-1-1b42d87021f0>\u001b[0m in \u001b[0;36m<module>\u001b[0;34m()\u001b[0m\n\u001b[1;32m     28\u001b[0m   \u001b[0;31m### STUDENT END ###\u001b[0m\u001b[0;34m\u001b[0m\u001b[0;34m\u001b[0m\u001b[0;34m\u001b[0m\u001b[0m\n\u001b[1;32m     29\u001b[0m \u001b[0;34m\u001b[0m\u001b[0m\n\u001b[0;32m---> 30\u001b[0;31m \u001b[0mQ1\u001b[0m\u001b[0;34m(\u001b[0m\u001b[0mnum_examples\u001b[0m\u001b[0;34m=\u001b[0m\u001b[0;36m10\u001b[0m\u001b[0;34m)\u001b[0m\u001b[0;34m\u001b[0m\u001b[0;34m\u001b[0m\u001b[0m\n\u001b[0m",
            "\u001b[0;32m<ipython-input-1-1b42d87021f0>\u001b[0m in \u001b[0;36mQ1\u001b[0;34m(num_examples)\u001b[0m\n\u001b[1;32m     12\u001b[0m   \u001b[0;31m#              '5', '6', '7', '8', '9']\u001b[0m\u001b[0;34m\u001b[0m\u001b[0;34m\u001b[0m\u001b[0;34m\u001b[0m\u001b[0m\n\u001b[1;32m     13\u001b[0m \u001b[0;34m\u001b[0m\u001b[0m\n\u001b[0;32m---> 14\u001b[0;31m   \u001b[0mdigits\u001b[0m \u001b[0;34m=\u001b[0m \u001b[0mnp\u001b[0m\u001b[0;34m.\u001b[0m\u001b[0munique\u001b[0m\u001b[0;34m(\u001b[0m\u001b[0mY\u001b[0m\u001b[0;34m)\u001b[0m\u001b[0;34m\u001b[0m\u001b[0;34m\u001b[0m\u001b[0m\n\u001b[0m\u001b[1;32m     15\u001b[0m   \u001b[0mM\u001b[0m \u001b[0;34m=\u001b[0m \u001b[0mnum_examples\u001b[0m\u001b[0;34m\u001b[0m\u001b[0;34m\u001b[0m\u001b[0m\n\u001b[1;32m     16\u001b[0m   \u001b[0mdim\u001b[0m \u001b[0;34m=\u001b[0m \u001b[0mint\u001b[0m\u001b[0;34m(\u001b[0m\u001b[0mnp\u001b[0m\u001b[0;34m.\u001b[0m\u001b[0msqrt\u001b[0m\u001b[0;34m(\u001b[0m\u001b[0mX\u001b[0m\u001b[0;34m.\u001b[0m\u001b[0mshape\u001b[0m\u001b[0;34m[\u001b[0m\u001b[0;36m1\u001b[0m\u001b[0;34m]\u001b[0m\u001b[0;34m)\u001b[0m\u001b[0;34m)\u001b[0m\u001b[0;34m\u001b[0m\u001b[0;34m\u001b[0m\u001b[0m\n",
            "\u001b[0;31mNameError\u001b[0m: name 'np' is not defined"
          ]
        }
      ],
      "source": [
        "def Q1(num_examples=10):\n",
        "  ### STUDENT START ###\n",
        "  # plt.figure(figsize=(10,10))\n",
        "  # for i in range(100):\n",
        "  #   plt.subplot(10,num_examples,i+1)\n",
        "  #   plt.xticks([])\n",
        "  #   plt.yticks([])\n",
        "  #   plt.grid(False)\n",
        "  #   plt.imshow(train_images[i], cmap=plt.cm.binary)\n",
        "  #   plt.xlabel(class_names[train_labels[i]])\n",
        "  # class_names = ['0', '1', '2', '3', '4',\n",
        "  #              '5', '6', '7', '8', '9']\n",
        "\n",
        "  digits = np.unique(Y)\n",
        "  M = num_examples\n",
        "  dim = int(np.sqrt(X.shape[1]))\n",
        "\n",
        "  fig, axs = plt.subplots(len(digits), M, figsize=(10,10))\n",
        "\n",
        "  for i,d in enumerate(digits):\n",
        "    for j in range(M):\n",
        "        axs[i, j].imshow(X[Y==d][j].reshape((dim,dim)), cmap='binary')\n",
        "        # plt.xlabel(train_labels[i])\n",
        "        # axs[i, j].axis('off')\n",
        "        axs[i, j].yaxis.set_visible(False)\n",
        "        axs[i, j].xaxis.set_visible(False)\n",
        "\n",
        "  ### STUDENT END ###\n",
        "\n",
        "Q1(num_examples=10)"
      ]
    },
    {
      "cell_type": "markdown",
      "metadata": {
        "id": "s7PNhljcTzOe"
      },
      "source": [
        "### Question 2: Evaluating different choices of k\n",
        "---\n",
        "\n",
        "1. Produce k-Nearest Neighbors models with k = 1, 3, 5, 7, and 9.  \n",
        "1. Print the accuracy of each model. \n",
        "1. Additionally, only for the 1-Nearest Neighbor model, show the precision, recall, and F1 for each label. \n",
        "1. Which digit is the most *difficult* for the 1-Nearest Neighbor model to classify correctly? How did you choose and why?\n",
        "\n",
        "Notes:\n",
        "* Train on the mini train set.\n",
        "* Evaluate performance on the dev set.\n",
        "* Print only the information asked so it is easy to read and compare.\n",
        "* You can use `KNeighborsClassifier` to produce a k-nearest neighbor model.\n",
        "* You can use `classification_report` to get precision, recall, and F1 results.\n",
        "* Check out what the function \"score\" does."
      ]
    },
    {
      "cell_type": "code",
      "execution_count": 8,
      "metadata": {
        "id": "PQD0u7d_TzOf",
        "colab": {
          "base_uri": "https://localhost:8080/"
        },
        "outputId": "9c5ab01a-4775-4671-8218-e1ede9375b1f"
      },
      "outputs": [
        {
          "output_type": "stream",
          "name": "stdout",
          "text": [
            "For model k = 1\n",
            "              precision    recall  f1-score   support\n",
            "\n",
            "           0       0.98      0.99      0.99       104\n",
            "           1       0.99      0.99      0.99       114\n",
            "           2       0.97      0.98      0.97        97\n",
            "           3       0.95      0.97      0.96       106\n",
            "           4       1.00      0.94      0.97       100\n",
            "           5       0.99      0.98      0.98        92\n",
            "           6       0.99      1.00      0.99        99\n",
            "           7       0.96      0.98      0.97        97\n",
            "           8       0.98      0.94      0.96        93\n",
            "           9       0.93      0.97      0.95        98\n",
            "\n",
            "    accuracy                           0.97      1000\n",
            "   macro avg       0.97      0.97      0.97      1000\n",
            "weighted avg       0.97      0.97      0.97      1000\n",
            "\n",
            "When model k = 1, accuracy is 0.974\n",
            "When model k = 3, accuracy is 0.974\n",
            "When model k = 5, accuracy is 0.973\n",
            "When model k = 7, accuracy is 0.974\n",
            "When model k = 9, accuracy is 0.977\n"
          ]
        }
      ],
      "source": [
        "def Q2(k_values):\n",
        "\n",
        "### STUDENT START ###\n",
        "  for k in k_values:\n",
        "    model = KNeighborsClassifier(n_neighbors=k)\n",
        "    model.fit(train_data, train_labels)\n",
        "    prediction = model.predict(dev_data)\n",
        "    if k == 1:\n",
        "      print(\"For model k = 1\")\n",
        "      print(classification_report(dev_labels, prediction))\n",
        "      print(\"When model k = {}, accuracy is {}\".format(\n",
        "          k, \n",
        "          model.score(dev_data, dev_labels)\n",
        "          )\n",
        "      )\n",
        "    else:\n",
        "      print(\"When model k = {}, accuracy is {}\".format(\n",
        "          k, \n",
        "          model.score(dev_data, dev_labels)\n",
        "          )\n",
        "      )\n",
        "### STUDENT END ###\n",
        "\n",
        "k_values = [1, 3, 5, 7, 9]\n",
        "Q2(k_values)"
      ]
    },
    {
      "cell_type": "markdown",
      "metadata": {
        "id": "rkwwb2hHTzOg"
      },
      "source": [
        "Answer to part 4: "
      ]
    },
    {
      "cell_type": "markdown",
      "metadata": {
        "id": "C2VPQ9CbTzOh"
      },
      "source": [
        "### Question 3: Examining the importance of training size\n",
        "---\n",
        "1. Produce 1-Nearest Neighbor models using training data of various sizes. For example, ```train_data[:train_size]```.\n",
        "1. Evaluate and show the accuracy achieved by each model.  \n",
        "1. Show the time needed to: \n",
        "  1. Train each model.\n",
        "  1. Measure the accuracy of each model.\n",
        "1. What do you see? Is this what you expected to see and why?\n",
        "1. Plot on the same graph (as a function of training size):\n",
        "  1. the time needed for training\n",
        "  1. the time needed for calculating accuracy\n",
        "\n",
        "Notes:\n",
        "* Evaluate on the dev set.\n",
        "* You can use `KNeighborsClassifier` to produce a k-nearest neighbor model.\n",
        "* You can use `time.time()` to measure elapsed time of operations."
      ]
    },
    {
      "cell_type": "code",
      "execution_count": 9,
      "metadata": {
        "id": "8FLREmbUTzOh",
        "colab": {
          "base_uri": "https://localhost:8080/",
          "height": 697
        },
        "outputId": "7f0bf572-a088-4155-93f1-c4ec0b802fec"
      },
      "outputs": [
        {
          "output_type": "stream",
          "name": "stdout",
          "text": [
            "Train size = 100, training time  = 0.0006604194641113281\n",
            "Accuracy score = 0.67, evaluation time = 0.0006604194641113281\n",
            "Train size = 200, training time  = 0.0009915828704833984\n",
            "Accuracy score = 0.789, evaluation time = 0.0009915828704833984\n",
            "Train size = 400, training time  = 0.0013613700866699219\n",
            "Accuracy score = 0.832, evaluation time = 0.0013613700866699219\n",
            "Train size = 800, training time  = 0.0020928382873535156\n",
            "Accuracy score = 0.864, evaluation time = 0.0020928382873535156\n",
            "Train size = 1600, training time  = 0.003894805908203125\n",
            "Accuracy score = 0.902, evaluation time = 0.003894805908203125\n",
            "Train size = 3200, training time  = 0.007664918899536133\n",
            "Accuracy score = 0.914, evaluation time = 0.007664918899536133\n",
            "Train size = 6400, training time  = 0.015601396560668945\n",
            "Accuracy score = 0.939, evaluation time = 0.015601396560668945\n",
            "Train size = 12800, training time  = 0.021857261657714844\n",
            "Accuracy score = 0.955, evaluation time = 0.021857261657714844\n",
            "Train size = 25600, training time  = 0.04239201545715332\n",
            "Accuracy score = 0.963, evaluation time = 0.04239201545715332\n"
          ]
        },
        {
          "output_type": "display_data",
          "data": {
            "image/png": "[encoded data removed]",
            "text/plain": [
              "<Figure size 720x360 with 1 Axes>"
            ]
          },
          "metadata": {
            "needs_background": "light"
          }
        },
        {
          "output_type": "stream",
          "name": "stdout",
          "text": [
            "[0.0006604194641113281, 0.0009915828704833984, 0.0013613700866699219, 0.0020928382873535156, 0.003894805908203125, 0.007664918899536133, 0.015601396560668945, 0.021857261657714844, 0.04239201545715332]\n",
            "[0.05322694778442383, 0.06396794319152832, 0.07090568542480469, 0.1041111946105957, 0.1609208583831787, 0.24756121635437012, 0.4518711566925049, 0.8047490119934082, 1.5147063732147217]\n",
            "[0.67, 0.789, 0.832, 0.864, 0.902, 0.914, 0.939, 0.955, 0.963]\n"
          ]
        }
      ],
      "source": [
        "def Q3(train_sizes, accuracies, train_times, eval_times):\n",
        "\n",
        "### STUDENT START ###\n",
        "  for train_size in train_sizes:\n",
        "    knn = KNeighborsClassifier(n_neighbors=1)\n",
        "    time_start = time.time()\n",
        "    knn.fit(train_data[:train_size], train_labels[:train_size])\n",
        "    train_time = time.time() - time_start\n",
        "    train_times.append(train_time) \n",
        "    print(\"Train size = {}, training time  = {}\".format(\n",
        "        train_size,\n",
        "        train_time\n",
        "        )\n",
        "    )\n",
        "\n",
        "    acc_time = time.time()\n",
        "    acc_score = knn.score(dev_data, dev_labels)\n",
        "    eval_time = time.time() - acc_time\n",
        "    eval_times.append(eval_time) \n",
        "    print(\"Accuracy score = {}, evaluation time = {}\".format(\n",
        "        acc_score,\n",
        "        train_time\n",
        "        )\n",
        "    )\n",
        "    accuracies.append(acc_score)\n",
        "\n",
        "  fig = plt.figure(figsize=(10, 5))\n",
        "  plt.plot(train_sizes, train_times, label = \"Training Time\")\n",
        "  plt.plot(train_sizes, eval_times,  label = \"Evaluation Time\")\n",
        "  plt.legend()\n",
        "  plt.show()\n",
        "  return accuracies, train_times, eval_times\n",
        "    \n",
        "\n",
        "    \n",
        "### STUDENT END ###\n",
        "\n",
        "train_sizes = [100, 200, 400, 800, 1600, 3200, 6400, 12800, 25600]\n",
        "accuracies = []\n",
        "train_times = []\n",
        "eval_times = []\n",
        "\n",
        "accuracies, train_times, eval_times = Q3(train_sizes, accuracies, train_times, eval_times)\n",
        "print(train_times)\n",
        "print(eval_times)\n",
        "print(accuracies)"
      ]
    },
    {
      "cell_type": "markdown",
      "metadata": {
        "id": "7RvpMWezTzOi"
      },
      "source": [
        "### Question 4: Evaluating if we should obtain additional data\n",
        "---\n",
        "\n",
        "In this question we wish to predict what accuracy we would get if we had additional training data.\n",
        "\n",
        "Our input, our features and labels, are the output from the previous question. Based on the training size and accuracy we got in the previous question, we wish to predict the accuracy we would get if we had larger training sizes.\n",
        "\n",
        "1. Produce a linear regression model that predicts accuracy of a 1-Nearest Neighbor model given training set size. \n",
        "1. Print $R^2$ of the linear regression model.  \n",
        "1. Print the accuracies predicted for training set sizes 60000, 120000, and 1000000.  \n",
        "1. Plot on a lineplot graph:\n",
        "  1. the actual accuracies we obtained in the previous question \n",
        "  1. and the accuracies our model predicted we would have gotten.\n",
        "  1. The X axis is the training set size. \n",
        "  1. You can limit the range of X and Y to the range where you have data for both plots. Meaning, in the this question, we want to visualize how good the prediction is.\n",
        "1. What are two things that are wrong with our model?\n",
        "1. Apply a transformation to the predictor features and a transformation to the outcome that make the predictions fix these issues. \n",
        "1. Show $R^2$ of the improved linear regression model.  \n",
        "1. Print the accuracies predicted for training set sizes 60000, 120000, and 1000000.  \n",
        "1. Plot a lineplot graph of both again as before.\n",
        "  1. Be sure to plot this where the Y axis is accuracy and X axis is training set size, **not the transformed space**!\n",
        "  1. Choose the range of X and Y to visualize effectively.\n",
        "\n",
        "Notes:\n",
        "* Train the linear regression models on all of the (transformed) accuracies estimated in Problem 3.\n",
        "* Evaluate the linear regression models on all of the (transformed) accuracies estimated in Problem 3.\n",
        "* You can use `LinearRegression` to produce a linear regression model.\n",
        "* Remember that the sklearn `fit()` functions take an input matrix X and output vector Y. So, each input example in X is a vector, even if it contains only a single value.\n",
        "* Hints:\n",
        "  1. You have two problems here, how well your model fits and predicting *illogical* values of accuracy.\n",
        "  1. You can look at:\n",
        "    1. [logit](https://en.wikipedia.org/wiki/Logit): $\\frac{1}{1 + e^{-x}} = \\frac{e^x}{1+e^x}$ which takes numbers in $\\[\\infty,-\\infty\\]$ and outputs numbers in $(0, 1)$.\n",
        "    1. [logistic](https://en.wikipedia.org/wiki/Logistic_function): $log(\\frac{p}{1 - p})$ which takes numbers between $(0, 1)$ and outputs numbers between $\\[\\infty,-\\infty\\]$.\n",
        "    1. It also happens that $x = logistic(p)$ is the same thing as $logit(x)=p$."
      ]
    },
    {
      "cell_type": "code",
      "execution_count": 14,
      "metadata": {
        "id": "z-mIFqcfTzOi",
        "colab": {
          "base_uri": "https://localhost:8080/",
          "height": 456
        },
        "outputId": "88370651-297d-4377-f51b-9b62c381b85e"
      },
      "outputs": [
        {
          "output_type": "stream",
          "name": "stdout",
          "text": [
            "[100, 200, 400, 800, 1600, 3200, 6400, 12800, 25600]\n",
            "[0.67, 0.789, 0.832, 0.864, 0.902, 0.914, 0.939, 0.955, 0.963]\n",
            "R^2 = 0.3937574746297683\n",
            "Prediction: [0.83100257 0.83169774 0.83308809 0.83586878 0.84143016 0.85255293\n",
            " 0.87479847 0.91928955 1.00827171]\n",
            "New R^2 = 0.8702280059560739\n",
            "New Prediction: [0.74084444 0.77307778 0.80531111 0.83754444 0.86977778 0.90201111\n",
            " 0.93424444 0.96647778 0.99871111]\n"
          ]
        },
        {
          "output_type": "display_data",
          "data": {
            "image/png": "[encoded data removed]",
            "text/plain": [
              "<Figure size 720x360 with 1 Axes>"
            ]
          },
          "metadata": {
            "needs_background": "light"
          }
        }
      ],
      "source": [
        "def Q4(train_sizes, accuracies):\n",
        "\n",
        "### STUDENT START ###\n",
        "  print(train_sizes)\n",
        "  print(accuracies)\n",
        "  X = np.array(train_sizes).reshape(-1, 1)\n",
        "  y = np.array(accuracies)\n",
        "\n",
        "  regressor = LinearRegression()\n",
        "  regressor.fit(X, y)\n",
        "  r_square = regressor.score(X, y)\n",
        "  print(\"R^2 = {}\".format(r_square))\n",
        "\n",
        "  new_train_sizes = np.array([ 60000, 120000, 1000000]).reshape(-1, 1)\n",
        "  regressor_pred_acc = regressor.predict(X)\n",
        "  print(\"Prediction: {}\".format(regressor_pred_acc))\n",
        "\n",
        "  X_log = np.array(np.log(train_sizes))\n",
        "  X_log = X_log.reshape(-1, 1)\n",
        "  regressor_X_log = LinearRegression()\n",
        "  regressor_X_log.fit(X_log, y)\n",
        "  r_square_log = regressor_X_log.score(X_log, y)\n",
        "  print(\"New R^2 = {}\".format(r_square_log))\n",
        "  regressor_X_log_pred_acc = regressor_X_log.predict(X_log)\n",
        "  print(\"New Prediction: {}\".format(regressor_X_log_pred_acc))\n",
        "\n",
        "  fig = plt.figure(figsize=(10, 5))\n",
        "  plt.plot(train_sizes, regressor_pred_acc, label = \"Linear Prediction\")\n",
        "  plt.plot(train_sizes, regressor_X_log_pred_acc,  label = \"Logit Prediction\")\n",
        "  plt.legend()\n",
        "  plt.show()\n",
        "### STUDENT END ###\n",
        "\n",
        "Q4(train_sizes, accuracies)"
      ]
    },
    {
      "cell_type": "markdown",
      "metadata": {
        "id": "pcYwq2H5TzOj"
      },
      "source": [
        "Answer to part 5:  "
      ]
    },
    {
      "cell_type": "markdown",
      "metadata": {
        "id": "899CMYybTzOj"
      },
      "source": [
        "### Question 5: Getting to know the confusion matrix.\n",
        "---\n",
        "\n",
        "1. Produce a 1-Nearest Neighbor model.\n",
        "1. Show the confusion matrix. \n",
        "1. Which digit does the model most often confuse with which digit? (*for example, the model most often mistakes the digit $1$ as the digit $7$*).\n",
        "1. Show examples of the misclassified digit.\n",
        "\n",
        "Notes:\n",
        "- Train on the mini train set.\n",
        "- Evaluate performance on the dev set.\n",
        "- You can use `confusion_matrix()` to produce a confusion matrix.\n",
        "- No need to calculate the \"most confused digits\" programmatically."
      ]
    },
    {
      "cell_type": "code",
      "source": [
        "  test_predictions = model.predict(mini_train_data)\n",
        "  test_predictions"
      ],
      "metadata": {
        "id": "iNhOmVqEo4o8"
      },
      "execution_count": null,
      "outputs": []
    },
    {
      "cell_type": "code",
      "source": [
        "Y"
      ],
      "metadata": {
        "colab": {
          "base_uri": "https://localhost:8080/"
        },
        "id": "Zgum57gho_T3",
        "outputId": "60a8aa52-c294-4994-d415-63403792f79b"
      },
      "execution_count": 30,
      "outputs": [
        {
          "output_type": "execute_result",
          "data": {
            "text/plain": [
              "array(['0', '5', '7', ..., '3', '2', '4'], dtype=object)"
            ]
          },
          "metadata": {},
          "execution_count": 30
        }
      ]
    },
    {
      "cell_type": "code",
      "execution_count": 46,
      "metadata": {
        "id": "nRFrK4G9TzOk",
        "colab": {
          "base_uri": "https://localhost:8080/",
          "height": 375
        },
        "outputId": "78d8f111-25e7-4d60-c7e3-6af8bdebb852"
      },
      "outputs": [
        {
          "output_type": "stream",
          "name": "stdout",
          "text": [
            "(9, 1)\n",
            "(9,)\n"
          ]
        },
        {
          "output_type": "error",
          "ename": "ValueError",
          "evalue": "ignored",
          "traceback": [
            "\u001b[0;31m---------------------------------------------------------------------------\u001b[0m",
            "\u001b[0;31mValueError\u001b[0m                                Traceback (most recent call last)",
            "\u001b[0;32m<ipython-input-46-aef0eda72db4>\u001b[0m in \u001b[0;36m<module>\u001b[0;34m()\u001b[0m\n\u001b[1;32m     27\u001b[0m \u001b[0;31m### STUDENT END ###\u001b[0m\u001b[0;34m\u001b[0m\u001b[0;34m\u001b[0m\u001b[0;34m\u001b[0m\u001b[0m\n\u001b[1;32m     28\u001b[0m \u001b[0;34m\u001b[0m\u001b[0m\n\u001b[0;32m---> 29\u001b[0;31m \u001b[0mQ5\u001b[0m\u001b[0;34m(\u001b[0m\u001b[0;34m)\u001b[0m\u001b[0;34m\u001b[0m\u001b[0;34m\u001b[0m\u001b[0m\n\u001b[0m",
            "\u001b[0;32m<ipython-input-46-aef0eda72db4>\u001b[0m in \u001b[0;36mQ5\u001b[0;34m()\u001b[0m\n\u001b[1;32m     22\u001b[0m   \u001b[0mmodel\u001b[0m\u001b[0;34m.\u001b[0m\u001b[0mfit\u001b[0m\u001b[0;34m(\u001b[0m\u001b[0mmini_train_data\u001b[0m\u001b[0;34m,\u001b[0m \u001b[0mmini_train_labels\u001b[0m\u001b[0;34m)\u001b[0m\u001b[0;34m\u001b[0m\u001b[0;34m\u001b[0m\u001b[0m\n\u001b[1;32m     23\u001b[0m   \u001b[0mprediction\u001b[0m \u001b[0;34m=\u001b[0m \u001b[0mmodel\u001b[0m\u001b[0;34m.\u001b[0m\u001b[0mpredict\u001b[0m\u001b[0;34m(\u001b[0m\u001b[0mdev_data\u001b[0m\u001b[0;34m)\u001b[0m\u001b[0;34m\u001b[0m\u001b[0;34m\u001b[0m\u001b[0m\n\u001b[0;32m---> 24\u001b[0;31m   \u001b[0mcm\u001b[0m \u001b[0;34m=\u001b[0m \u001b[0mconfusion_matrix\u001b[0m\u001b[0;34m(\u001b[0m\u001b[0mX\u001b[0m\u001b[0;34m,\u001b[0m \u001b[0mprediction\u001b[0m\u001b[0;34m)\u001b[0m\u001b[0;34m\u001b[0m\u001b[0;34m\u001b[0m\u001b[0m\n\u001b[0m\u001b[1;32m     25\u001b[0m   \u001b[0;31m# print(cm)\u001b[0m\u001b[0;34m\u001b[0m\u001b[0;34m\u001b[0m\u001b[0;34m\u001b[0m\u001b[0m\n\u001b[1;32m     26\u001b[0m \u001b[0;34m\u001b[0m\u001b[0m\n",
            "\u001b[0;32m/usr/local/lib/python3.7/dist-packages/sklearn/metrics/_classification.py\u001b[0m in \u001b[0;36mconfusion_matrix\u001b[0;34m(y_true, y_pred, labels, sample_weight, normalize)\u001b[0m\n\u001b[1;32m    305\u001b[0m     \u001b[0;34m(\u001b[0m\u001b[0;36m0\u001b[0m\u001b[0;34m,\u001b[0m \u001b[0;36m2\u001b[0m\u001b[0;34m,\u001b[0m \u001b[0;36m1\u001b[0m\u001b[0;34m,\u001b[0m \u001b[0;36m1\u001b[0m\u001b[0;34m)\u001b[0m\u001b[0;34m\u001b[0m\u001b[0;34m\u001b[0m\u001b[0m\n\u001b[1;32m    306\u001b[0m     \"\"\"\n\u001b[0;32m--> 307\u001b[0;31m     \u001b[0my_type\u001b[0m\u001b[0;34m,\u001b[0m \u001b[0my_true\u001b[0m\u001b[0;34m,\u001b[0m \u001b[0my_pred\u001b[0m \u001b[0;34m=\u001b[0m \u001b[0m_check_targets\u001b[0m\u001b[0;34m(\u001b[0m\u001b[0my_true\u001b[0m\u001b[0;34m,\u001b[0m \u001b[0my_pred\u001b[0m\u001b[0;34m)\u001b[0m\u001b[0;34m\u001b[0m\u001b[0;34m\u001b[0m\u001b[0m\n\u001b[0m\u001b[1;32m    308\u001b[0m     \u001b[0;32mif\u001b[0m \u001b[0my_type\u001b[0m \u001b[0;32mnot\u001b[0m \u001b[0;32min\u001b[0m \u001b[0;34m(\u001b[0m\u001b[0;34m\"binary\"\u001b[0m\u001b[0;34m,\u001b[0m \u001b[0;34m\"multiclass\"\u001b[0m\u001b[0;34m)\u001b[0m\u001b[0;34m:\u001b[0m\u001b[0;34m\u001b[0m\u001b[0;34m\u001b[0m\u001b[0m\n\u001b[1;32m    309\u001b[0m         \u001b[0;32mraise\u001b[0m \u001b[0mValueError\u001b[0m\u001b[0;34m(\u001b[0m\u001b[0;34m\"%s is not supported\"\u001b[0m \u001b[0;34m%\u001b[0m \u001b[0my_type\u001b[0m\u001b[0;34m)\u001b[0m\u001b[0;34m\u001b[0m\u001b[0;34m\u001b[0m\u001b[0m\n",
            "\u001b[0;32m/usr/local/lib/python3.7/dist-packages/sklearn/metrics/_classification.py\u001b[0m in \u001b[0;36m_check_targets\u001b[0;34m(y_true, y_pred)\u001b[0m\n\u001b[1;32m     82\u001b[0m     \u001b[0my_pred\u001b[0m \u001b[0;34m:\u001b[0m \u001b[0marray\u001b[0m \u001b[0;32mor\u001b[0m \u001b[0mindicator\u001b[0m \u001b[0mmatrix\u001b[0m\u001b[0;34m\u001b[0m\u001b[0;34m\u001b[0m\u001b[0m\n\u001b[1;32m     83\u001b[0m     \"\"\"\n\u001b[0;32m---> 84\u001b[0;31m     \u001b[0mcheck_consistent_length\u001b[0m\u001b[0;34m(\u001b[0m\u001b[0my_true\u001b[0m\u001b[0;34m,\u001b[0m \u001b[0my_pred\u001b[0m\u001b[0;34m)\u001b[0m\u001b[0;34m\u001b[0m\u001b[0;34m\u001b[0m\u001b[0m\n\u001b[0m\u001b[1;32m     85\u001b[0m     \u001b[0mtype_true\u001b[0m \u001b[0;34m=\u001b[0m \u001b[0mtype_of_target\u001b[0m\u001b[0;34m(\u001b[0m\u001b[0my_true\u001b[0m\u001b[0;34m)\u001b[0m\u001b[0;34m\u001b[0m\u001b[0;34m\u001b[0m\u001b[0m\n\u001b[1;32m     86\u001b[0m     \u001b[0mtype_pred\u001b[0m \u001b[0;34m=\u001b[0m \u001b[0mtype_of_target\u001b[0m\u001b[0;34m(\u001b[0m\u001b[0my_pred\u001b[0m\u001b[0;34m)\u001b[0m\u001b[0;34m\u001b[0m\u001b[0;34m\u001b[0m\u001b[0m\n",
            "\u001b[0;32m/usr/local/lib/python3.7/dist-packages/sklearn/utils/validation.py\u001b[0m in \u001b[0;36mcheck_consistent_length\u001b[0;34m(*arrays)\u001b[0m\n\u001b[1;32m    332\u001b[0m         raise ValueError(\n\u001b[1;32m    333\u001b[0m             \u001b[0;34m\"Found input variables with inconsistent numbers of samples: %r\"\u001b[0m\u001b[0;34m\u001b[0m\u001b[0;34m\u001b[0m\u001b[0m\n\u001b[0;32m--> 334\u001b[0;31m             \u001b[0;34m%\u001b[0m \u001b[0;34m[\u001b[0m\u001b[0mint\u001b[0m\u001b[0;34m(\u001b[0m\u001b[0ml\u001b[0m\u001b[0;34m)\u001b[0m \u001b[0;32mfor\u001b[0m \u001b[0ml\u001b[0m \u001b[0;32min\u001b[0m \u001b[0mlengths\u001b[0m\u001b[0;34m]\u001b[0m\u001b[0;34m\u001b[0m\u001b[0;34m\u001b[0m\u001b[0m\n\u001b[0m\u001b[1;32m    335\u001b[0m         )\n\u001b[1;32m    336\u001b[0m \u001b[0;34m\u001b[0m\u001b[0m\n",
            "\u001b[0;31mValueError\u001b[0m: Found input variables with inconsistent numbers of samples: [9, 1000]"
          ]
        }
      ],
      "source": [
        "def Q5():\n",
        "\n",
        "### STUDENT START ###\n",
        "  # for train_size in train_sizes:\n",
        "  #   knn = KNeighborsClassifier(n_neighbors=1)\n",
        "  #   time_start = time.time()\n",
        "  #   knn.fit(mini_train_data[:train_size], mini_train_labels[:train_size])\n",
        "  #   train_time = time.time() - time_start\n",
        "\n",
        "  #    confusion_matrix(y_true, y_pred)\n",
        "  # model = KNeighborsClassifier(n_neighbors=1)\n",
        "  # y_predicted = model.predict(x_test_flattened)\n",
        "  # disp = confusion_matrix(mini_train_data, predicted\n",
        "  #                         )\n",
        "  \n",
        "  X = np.array(train_sizes).reshape(-1, 1)\n",
        "  y = np.array(accuracies)\n",
        "  print(X.shape)\n",
        "  print(y.shape)\n",
        "\n",
        "  model = KNeighborsClassifier(n_neighbors=1)\n",
        "  model.fit(mini_train_data, mini_train_labels)\n",
        "  prediction = model.predict(dev_data)\n",
        "  cm = confusion_matrix(X, prediction) \n",
        "  # print(cm)\n",
        "  \n",
        "### STUDENT END ###\n",
        "\n",
        "Q5()\n"
      ]
    },
    {
      "cell_type": "markdown",
      "metadata": {
        "id": "f6x930p3TzOl"
      },
      "source": [
        "Answer to part 3: \n"
      ]
    },
    {
      "cell_type": "code",
      "execution_count": null,
      "metadata": {
        "id": "iJoleVeatoRg"
      },
      "outputs": [],
      "source": [
        ""
      ]
    }
  ],
  "metadata": {
    "colab": {
      "collapsed_sections": [],
      "name": "Yiying_Liu_project1.ipynb",
      "provenance": [],
      "include_colab_link": true
    },
    "kernelspec": {
      "display_name": "Python 3",
      "language": "python",
      "name": "python3"
    },
    "language_info": {
      "codemirror_mode": {
        "name": "ipython",
        "version": 3
      },
      "file_extension": ".py",
      "mimetype": "text/x-python",
      "name": "python",
      "nbconvert_exporter": "python",
      "pygments_lexer": "ipython3",
      "version": "3.8.5"
    },
    "toc": {
      "base_numbering": 1,
      "nav_menu": {},
      "number_sections": false,
      "sideBar": true,
      "skip_h1_title": true,
      "title_cell": "Table of Contents",
      "title_sidebar": "Contents",
      "toc_cell": false,
      "toc_position": {},
      "toc_section_display": true,
      "toc_window_display": false
    }
  },
  "nbformat": 4,
  "nbformat_minor": 0
}